{
  "nbformat": 4,
  "nbformat_minor": 0,
  "metadata": {
    "colab": {
      "name": "Lab4.ipynb",
      "provenance": [],
      "collapsed_sections": [],
      "mount_file_id": "1tqsZLPS7HuhNByIlhSPjaiJJeqeFYuOb",
      "authorship_tag": "ABX9TyMak0E0lrkvFYK0fNJfb923",
      "include_colab_link": true
    },
    "kernelspec": {
      "name": "python3",
      "display_name": "Python 3"
    },
    "language_info": {
      "name": "python"
    },
    "accelerator": "GPU"
  },
  "cells": [
    {
      "cell_type": "markdown",
      "metadata": {
        "id": "view-in-github",
        "colab_type": "text"
      },
      "source": [
        "<a href=\"https://colab.research.google.com/github/WadeShadow/nlp2021/blob/main/Lab4/Lab4.ipynb\" target=\"_parent\"><img src=\"https://colab.research.google.com/assets/colab-badge.svg\" alt=\"Open In Colab\"/></a>"
      ]
    },
    {
      "cell_type": "code",
      "metadata": {
        "id": "3suJfqw4OdIB"
      },
      "source": [
        "import numpy as np, pandas as pd, tensorflow as tf, requests as rqst, io\n",
        "from tensorflow.keras.layers.experimental.preprocessing import TextVectorization\n",
        "from tensorflow.keras import layers\n",
        "\n",
        "rnd = np.random.randint\n",
        "\n",
        "folder = '/content/drive/MyDrive/Colab Notebooks/NLP_labs/'"
      ],
      "execution_count": 1,
      "outputs": []
    },
    {
      "cell_type": "code",
      "metadata": {
        "colab": {
          "base_uri": "https://localhost:8080/"
        },
        "id": "CpfL4lOIIU0x",
        "outputId": "1646b4be-9929-4e8b-8d8a-b778d27d5df1"
      },
      "source": [
        "from google.colab import drive\n",
        "drive.mount('/content/drive')"
      ],
      "execution_count": 2,
      "outputs": [
        {
          "output_type": "stream",
          "name": "stdout",
          "text": [
            "Mounted at /content/drive\n"
          ]
        }
      ]
    },
    {
      "cell_type": "markdown",
      "metadata": {
        "id": "zjXyPRttUE2S"
      },
      "source": [
        "## На основі підготовлених у попередній лабораторній роботі речень кожного з учасників створити загальний набір даних розмірністю (100, n), де n -кількість учасників команди, та відповідні мітки класів до них\n"
      ]
    },
    {
      "cell_type": "code",
      "metadata": {
        "colab": {
          "base_uri": "https://localhost:8080/"
        },
        "id": "_1bwxXcKUAgf",
        "outputId": "8db7a1f1-e3cd-4e61-9974-870da66e58c2"
      },
      "source": [
        "RL_file = open(folder+'sentences.txt')\n",
        "RL_sentences = RL_file.read().split('. ')[:-1]\n",
        "\n",
        "DARINA_file = open(folder+'100.txt', encoding='windows-1251')\n",
        "DARINA_sentences = DARINA_file.read().split('. ')[:-1]\n",
        "\n",
        "\n",
        "max_tokens = 10000\n",
        "\n",
        "sentences = RL_sentences+DARINA_sentences\n",
        "tokens_count = 0\n",
        "for sent in sentences:\n",
        "  tokens_count+=len(sent.split())\n",
        "avg_tokens = round(tokens_count/len(sentences))\n",
        "avg_tokens\n",
        "\n",
        "\n",
        "RL_sentences"
      ],
      "execution_count": 5,
      "outputs": [
        {
          "output_type": "execute_result",
          "data": {
            "text/plain": [
              "['Training a virtual agent to outperform human players can teach us how to optimize different processes in a variety of different and exciting subfields',\n",
              " 'This is what Google DeepMind did with its popular AlphaGo, which beat the strongest Go player in history and scored a goal that was considered impossible at the time.In this article, we will develop an AI agent that is able to learn how to play the popular game Snake from scratch',\n",
              " 'To do it, we implement a Deep Reinforcement Learning algorithm using both Keras on top of Tensorflow and PyTorch (both versions are available, you can choose the one you prefer)',\n",
              " 'This approach consists in the interaction between two components: an environment (the game itself) and an agent (Snake)',\n",
              " 'The agent collects information about its current state (we will see later what this means) and performs an action accordingly',\n",
              " 'The environment rewards or punishes the agent based on the performed action',\n",
              " 'Over time, the agent learns what actions maximize the reward (in our case, what actions lead to eating the apple and avoiding the walls)',\n",
              " 'No rules about the game are given',\n",
              " 'Initially, Snake does not know what to do and performs random actions',\n",
              " 'The goal is to elaborate a strategy (technically called “policy”) to maximize the score — or the reward.We are going to see how a Deep Q-Learning algorithm learns to play Snake, scoring up to 50 points and showing a solid strategy in just 5 minutes of training',\n",
              " 'Optionally, the code shows how to optimize the Artificial Neural Network using Bayesian Optimization',\n",
              " 'Reinforcement Learning is a family of algorithms and techniques used for Control (e.g',\n",
              " 'Robotics, Autonomous driving, etc..) and Decision making',\n",
              " 'These approaches solve problems that need to be expressed as a Markov Decision Process (MDP)',\n",
              " 'What does this mean? It means that we need to describe our game by a set of states S (for example, an index based on Snake’s position), a set of actions A (for example, Up, Down, Right, Left), a reward function R (for example, +10 when Snake eats an apple, -10 when Snakes hits a wall) and optionally a transition function T that describes the transitions among states',\n",
              " 'Traditional ML algorithms need to be trained with an input and a “correct answer” called target',\n",
              " 'The system will then try to learn how to predict targets based on unseen inputs',\n",
              " 'In this example, we don’t know the best action to take at each state of the game (this is actually what we are trying to learn!), so a traditional approach would not be effective',\n",
              " 'In Reinforcement Learning, we have two main components: the environment (our game) and the agent (our Snake.',\n",
              " 'or to be correct, the Deep Neural Network that drives our Snake’s actions)',\n",
              " 'Every time the agent performs an action, the environment gives a reward to the agent, which can be positive or negative depending on how good the action was from that specific state',\n",
              " 'The goal of the agent is to learn what actions maximize the reward, given every possible state',\n",
              " 'States are the observations that the agent receives at each iteration from the environment',\n",
              " 'A state can be its position, its speed, or whatever array of variables describes the environment',\n",
              " 'To be more rigorous and to use a Reinforcement Learning notation, the strategy used by the agent to make decisions is called policy',\n",
              " 'On a theoretical level, a policy is a mapping from the state space (the space of all the possible observations that the agent can receive) into the action space (the space of all the actions the agent can take, say UP, DOWN, LEFT and RIGHT)',\n",
              " 'A Q-table is a matrix that correlates the state of the agent with the possible actions that the agent can adopt',\n",
              " 'The values in the table are the action’s probability of success (technically, a measure of the expected cumulative reward), which were updated based on the rewards the agent received during training',\n",
              " 'In the example, we might want to choose RIGHT if we are in State 2, and we might want to go UP if we are in State 4',\n",
              " 'The values in the Q-Table represent the cumulative expected reward of taking action a from a state s',\n",
              " 'In other words, these values give us an indication of the average reward that the agent obtains if it takes action a from that state s',\n",
              " 'This table is the policy of the agent that we mentioned before: it determines what actions should be taken from every state to maximize the expected reward',\n",
              " 'Deep Q-Learning increases the potentiality of Q-Learning by converting the table into Deep Neural Network — that is a powerful representation of a parametrized function',\n",
              " 'When the AI chooses and performs the action, the environment gives a reward to the agent',\n",
              " 'Then, the agent reaches the new state state’ and it updates its Q-value according to the Bellman equation as mentioned above',\n",
              " 'Also, for each move, it stores the original state, the action, the state reached after performed that action, the reward obtained and whether the game ended or not',\n",
              " 'This data is later sampled to train the neural network',\n",
              " 'This operation is called Replay Memory',\n",
              " 'A state is the representation of a situation in which the agent finds itself',\n",
              " 'The state also represents the input of the Neural network',\n",
              " 'the AI tries to maximize the expected reward',\n",
              " 'In our case, a positive reward is only given to the agent when it eats the food target (+10)',\n",
              " 'If the snake hits a wall or hits itself, the reward is negative (-10)',\n",
              " 'Additionally, we could give a positive reward for each step Snake takes without dying',\n",
              " 'In that case, Snake might exploit the situation by running in a circle instead of reaching the food, since it would get positive rewards for each step while avoiding the risk of collision against a wall',\n",
              " 'Sometimes, Reinforcement Learning agents outsmart us, presenting flaws in our strategy that we did not anticipate',\n",
              " 'The brain of the Artificial Intelligence agent uses Deep learning',\n",
              " 'In our case, it consists of 3 hidden layers of 120 neurons',\n",
              " 'The learning rate is not fixed, it starts at 0.0005 and decreases to 0.000005',\n",
              " 'Different architectures and different hyper-parameters contribute to a quicker convergence to an optimum, as well as possible highest scores',\n",
              " 'The network receives as input the state, and returns as output three values related to the three actions: move left, move right, move straight',\n",
              " 'The last layer uses the Softmax function',\n",
              " 'This example shows how a simple agent can learn the mechanism of a process, in this case the game Snake, in a few minutes and with a few lines of code',\n",
              " 'I strongly suggest to dive into the code and to try to improve the result',\n",
              " 'An interesting upgrade might be obtained passing screenshots of the current game for each iteration',\n",
              " 'In that case, the state could be the RGB information for each pixel',\n",
              " 'The Deep Q-Learning model can be replaced with a Double Deep Q-learning algorithm, for a more precise convergence',\n",
              " 'Reinforcement learning is the training of machine learning models to make a sequence of decisions',\n",
              " 'The agent learns to achieve a goal in an uncertain, potentially complex environment',\n",
              " 'In reinforcement learning, an artificial intelligence faces a game-like situation',\n",
              " 'The computer employs trial and error to come up with a solution to the problem',\n",
              " 'To get the machine to do what the programmer wants, the artificial intelligence gets either rewards or penalties for the actions it performs',\n",
              " 'Its goal is to maximize the total reward',\n",
              " 'Although the designer sets the reward policy–that is, the rules of the game–he gives the model no hints or suggestions for how to solve the game',\n",
              " 'It’s up to the model to figure out how to perform the task to maximize the reward, starting from totally random trials and finishing with sophisticated tactics and superhuman skills',\n",
              " 'By leveraging the power of search and many trials, reinforcement learning is currently the most effective way to hint machine’s creativity',\n",
              " 'In contrast to human beings, artificial intelligence can gather experience from thousands of parallel gameplays if a reinforcement learning algorithm is run on a sufficiently powerful computer infrastructure',\n",
              " 'in usual circumstances we would require an autonomous vehicle to put safety first, minimize ride time, reduce pollution, offer passengers comfort and obey the rules of law',\n",
              " 'With an autonomous race car, on the other hand, we would emphasize speed much more than the driver’s comfort',\n",
              " 'The programmer cannot predict everything that could happen on the road',\n",
              " 'Instead of building lengthy “if-then” instructions, the programmer prepares the reinforcement learning agent to be capable of learning from the system of rewards and penalties',\n",
              " 'The agent (another name for reinforcement learning algorithms performing the task) gets rewards for reaching specific goals',\n",
              " 'deepsense.ai took part in the “Learning to run” project, which aimed to train a virtual runner from scratch',\n",
              " 'The runner is an advanced and precise musculoskeletal model designed by the Stanford Neuromuscular Biomechanics Laboratory',\n",
              " 'Learning the agent how to run is a first step in building a new generation of prosthetic legs, ones that automatically recognize people’s walking patterns and tweak themselves to make moving easier and more effective',\n",
              " 'While it is possible and has been done in Stanford’s labs, hard-wiring all the commands and predicting all possible patterns of walking requires a lot of work from highly skilled programmers',\n",
              " 'Reinforcement learning, as stated above employs a system of rewards and penalties to compel the computer to solve a problem by itself',\n",
              " 'Human involvement is limited to changing the environment and tweaking the system of rewards and penalties',\n",
              " 'As the computer maximizes the reward, it is prone to seeking unexpected ways of doing it',\n",
              " 'Human involvement is focused on preventing it from exploiting the system and motivating the machine to perform the task in the way expected',\n",
              " 'Reinforcement learning is useful when there is no “proper way” to perform a task, yet there are rules the model has to follow to perform its duties correctly',\n",
              " 'By tweaking and seeking the optimal policy for deep reinforcement learning, we built an agent that in just 20 minutes reached a superhuman level in playing Atari games',\n",
              " 'Similar algorithms in principal can be used to build AI for an autonomous car or a prosthetic leg',\n",
              " 'In fact, one of the best ways to evaluate the reinforcement learning approach is to give the model an Atari video game to play, such as Arkanoid or Space Invaders',\n",
              " 'According to Google Brain’s Marc G',\n",
              " 'Bellemare, who introduced Atari video games as a reinforcement learning benchmark, “although challenging, these environments remain simple enough that we can hope to achieve measurable progress as we attempt to solve them”',\n",
              " 'Deep reinforcement learning, the algorithm used by state-of-the-art game-playing bots, starts by providing an agent with a set of possible actions in the game, a mechanism to receive feedback from the environment, and a goal to pursue',\n",
              " 'Then, through numerous episodes of gameplay, the RL agent gradually goes from taking random actions to learning sequences of actions that can help it maximize its goal',\n",
              " 'Early research of deep reinforcement learning relied on the agent being pretrained on gameplay data from human players',\n",
              " 'More recently, researchers have been able to develop RL agents that can learn games from scratch through pure self-play without human input',\n",
              " 'In their study, the researchers at MIT Lincoln Laboratory were interested in finding out if a reinforcement learning program that outperforms humans could become a reliable coworker to humans',\n",
              " '“At a very high level, this work was inspired by the question: What technology gaps exist that prevent reinforcement learning (RL) from being applied to real-world problems, not just video games?” Dr',\n",
              " 'Ross Allen, AI researcher at Lincoln Laboratory and co-author of the paper, told TechTalks',\n",
              " '“While many such technology gaps exist (e.g., the real world is characterized by uncertainty/partial-observability, data scarcity, ambiguous/nuanced objectives, disparate timescales of decision making, etc.), we identified the need to collaborate with humans as a key technology gap for applying RL in the real-world',\n",
              " 'In fact, in some cases, the reinforcement systems have managed to hack the games and find tricks that baffled even the most talented and experienced human players',\n",
              " 'One famous example was a move made by DeepMind’s AlphaGo in its matchup against Go world champion Lee Sedol',\n",
              " 'Analysts first thought the move was a mistake because it went against the intuitions of human experts',\n",
              " 'But the same move ended up turning the tide in favor of the AI player and defeating Sedol',\n",
              " 'Allen thinks the same kind of ingenuity can come into play when RL is teamed up with humans',\n",
              " '“We think RL can be leveraged to advance the state of the art of human-AI collaboration by avoiding the preconceived assumptions and biases that characterize ‘rule-based expert systems,” Allen said',\n",
              " 'Reinforcement learning is a special branch of AI algorithms that is composed of three key elements: an environment, agents, and rewards',\n",
              " 'By performing actions, the agent changes its own state and that of the environment',\n",
              " 'Based on how much those actions affect the goal the agent must achieve, it is rewarded or penalized',\n",
              " 'In many reinforcement learning problems, the agent has no initial knowledge of the environment and starts by taking random actions',\n",
              " 'Based on the feedback it receives, the agent learns to tune its actions and develop policies that maximize its reward',\n",
              " 'In their paper, the researchers at DeepMind suggest reinforcement learning as the main algorithm that can replicate reward maximization as seen in nature and can eventually lead to artificial general intelligence',\n",
              " '“If an agent can continually adjust its behaviour so as to improve its cumulative reward, then any abilities that are repeatedly demanded by its environment must ultimately be produced in the agent’s behaviour,” the researchers write, adding that, in the course of maximizing for its reward, a good reinforcement learning agent could eventually learn perception, language, social intelligence and so forth',\n",
              " '“We do not offer any theoretical guarantee on the sample efficiency of reinforcement learning agents.” Reinforcement learning is notoriously renowned for requiring huge amounts of data',\n",
              " 'For instance, a reinforcement learning agent might need centuries worth of gameplay to master a computer game',\n",
              " 'And AI researchers still haven’t figured out how to create reinforcement learning systems that can generalize their learnings across several domains',\n",
              " 'Therefore, slight changes to the environment often require the full retraining of the model',\n",
              " 'The researchers also acknowledge that learning mechanisms for reward maximization is an unsolved problem that remains a central question to be further studied in reinforcement learning',\n",
              " 'In “Chip Placement with Deep Reinforcement Learning”, we pose chip placement as a reinforcement learning (RL) problem, where we train an agent (i.e, an RL policy) to optimize the quality of chip placements',\n",
              " 'Unlike prior methods, our approach has the ability to learn from past experience and improve over time',\n",
              " 'In particular, as we train over a greater number of chip blocks, our method becomes better at rapidly generating optimized placements for previously unseen chip blocks',\n",
              " 'Whereas existing baselines require human experts in the loop and take several weeks to generate, our method can generate placements in under six hours that outperform or match their manually designed counterparts']"
            ]
          },
          "metadata": {},
          "execution_count": 5
        }
      ]
    },
    {
      "cell_type": "code",
      "metadata": {
        "colab": {
          "base_uri": "https://localhost:8080/",
          "height": 419
        },
        "id": "xXFtRDHpobtl",
        "outputId": "831e4f97-9f5d-45f9-d856-a702f197e528"
      },
      "source": [
        "sent_df = []\n",
        "\n",
        "for sent in RL_sentences:\n",
        "  sent_df.append({'Sentence':sent, 'Target':'Reinforcement Learning'})\n",
        "\n",
        "for sent in DARINA_sentences:\n",
        "  sent_df.append({'Sentence':sent, 'Target':'Neural network module for recognizing brain diseases'})\n",
        "\n",
        "sent_df = pd.DataFrame(data=sent_df, columns=['Sentence', 'Target'])\n",
        "\n",
        "sent_df['Label'] = sent_df['Target']\n",
        "sent_df.replace({'Label':{'Reinforcement Learning':0, 'Neural network module for recognizing brain diseases':1}}, inplace=True)\n",
        "sent_df"
      ],
      "execution_count": 6,
      "outputs": [
        {
          "output_type": "execute_result",
          "data": {
            "text/html": [
              "<div>\n",
              "<style scoped>\n",
              "    .dataframe tbody tr th:only-of-type {\n",
              "        vertical-align: middle;\n",
              "    }\n",
              "\n",
              "    .dataframe tbody tr th {\n",
              "        vertical-align: top;\n",
              "    }\n",
              "\n",
              "    .dataframe thead th {\n",
              "        text-align: right;\n",
              "    }\n",
              "</style>\n",
              "<table border=\"1\" class=\"dataframe\">\n",
              "  <thead>\n",
              "    <tr style=\"text-align: right;\">\n",
              "      <th></th>\n",
              "      <th>Sentence</th>\n",
              "      <th>Target</th>\n",
              "      <th>Label</th>\n",
              "    </tr>\n",
              "  </thead>\n",
              "  <tbody>\n",
              "    <tr>\n",
              "      <th>0</th>\n",
              "      <td>Training a virtual agent to outperform human p...</td>\n",
              "      <td>Reinforcement Learning</td>\n",
              "      <td>0</td>\n",
              "    </tr>\n",
              "    <tr>\n",
              "      <th>1</th>\n",
              "      <td>This is what Google DeepMind did with its popu...</td>\n",
              "      <td>Reinforcement Learning</td>\n",
              "      <td>0</td>\n",
              "    </tr>\n",
              "    <tr>\n",
              "      <th>2</th>\n",
              "      <td>To do it, we implement a Deep Reinforcement Le...</td>\n",
              "      <td>Reinforcement Learning</td>\n",
              "      <td>0</td>\n",
              "    </tr>\n",
              "    <tr>\n",
              "      <th>3</th>\n",
              "      <td>This approach consists in the interaction betw...</td>\n",
              "      <td>Reinforcement Learning</td>\n",
              "      <td>0</td>\n",
              "    </tr>\n",
              "    <tr>\n",
              "      <th>4</th>\n",
              "      <td>The agent collects information about its curre...</td>\n",
              "      <td>Reinforcement Learning</td>\n",
              "      <td>0</td>\n",
              "    </tr>\n",
              "    <tr>\n",
              "      <th>...</th>\n",
              "      <td>...</td>\n",
              "      <td>...</td>\n",
              "      <td>...</td>\n",
              "    </tr>\n",
              "    <tr>\n",
              "      <th>211</th>\n",
              "      <td>This includes balancing the prospective benefi...</td>\n",
              "      <td>Neural network module for recognizing brain di...</td>\n",
              "      <td>1</td>\n",
              "    </tr>\n",
              "    <tr>\n",
              "      <th>212</th>\n",
              "      <td>Users report their symptoms into the app, whic...</td>\n",
              "      <td>Neural network module for recognizing brain di...</td>\n",
              "      <td>1</td>\n",
              "    </tr>\n",
              "    <tr>\n",
              "      <th>213</th>\n",
              "      <td>Most common users could be people with serious...</td>\n",
              "      <td>Neural network module for recognizing brain di...</td>\n",
              "      <td>1</td>\n",
              "    </tr>\n",
              "    <tr>\n",
              "      <th>214</th>\n",
              "      <td>Body scans can spot cancer and vascular diseas...</td>\n",
              "      <td>Neural network module for recognizing brain di...</td>\n",
              "      <td>1</td>\n",
              "    </tr>\n",
              "    <tr>\n",
              "      <th>215</th>\n",
              "      <td>Since the first step in health care is compili...</td>\n",
              "      <td>Neural network module for recognizing brain di...</td>\n",
              "      <td>1</td>\n",
              "    </tr>\n",
              "  </tbody>\n",
              "</table>\n",
              "<p>216 rows × 3 columns</p>\n",
              "</div>"
            ],
            "text/plain": [
              "                                              Sentence  ... Label\n",
              "0    Training a virtual agent to outperform human p...  ...     0\n",
              "1    This is what Google DeepMind did with its popu...  ...     0\n",
              "2    To do it, we implement a Deep Reinforcement Le...  ...     0\n",
              "3    This approach consists in the interaction betw...  ...     0\n",
              "4    The agent collects information about its curre...  ...     0\n",
              "..                                                 ...  ...   ...\n",
              "211  This includes balancing the prospective benefi...  ...     1\n",
              "212  Users report their symptoms into the app, whic...  ...     1\n",
              "213  Most common users could be people with serious...  ...     1\n",
              "214  Body scans can spot cancer and vascular diseas...  ...     1\n",
              "215  Since the first step in health care is compili...  ...     1\n",
              "\n",
              "[216 rows x 3 columns]"
            ]
          },
          "metadata": {},
          "execution_count": 6
        }
      ]
    },
    {
      "cell_type": "markdown",
      "metadata": {
        "id": "NeH6e0tRVV78"
      },
      "source": [
        "#### Tokenization&Embedding"
      ]
    },
    {
      "cell_type": "code",
      "metadata": {
        "id": "Fm1gjy-eUHB4",
        "colab": {
          "base_uri": "https://localhost:8080/"
        },
        "outputId": "8a1361e9-b574-429b-b098-f0120aaf0498"
      },
      "source": [
        "text_vectorizer = TextVectorization(max_tokens=max_tokens, \n",
        "                                    standardize=\"lower_and_strip_punctuation\", \n",
        "                                    split=\"whitespace\", \n",
        "                                    ngrams=None, \n",
        "                                    output_mode=\"int\",\n",
        "                                    output_sequence_length=avg_tokens, \n",
        "                                    pad_to_max_tokens=True)\n",
        "\n",
        "text_vectorizer.adapt(sent_df['Sentence'])\n",
        "\n",
        "text_vectorizer(sent_df['Sentence'])"
      ],
      "execution_count": 8,
      "outputs": [
        {
          "output_type": "execute_result",
          "data": {
            "text/plain": [
              "<tf.Tensor: shape=(216, 23), dtype=int64, numpy=\n",
              "array([[ 108,    6,  340, ...,  120,    4, 1214],\n",
              "       [  27,    8,   47, ...,    6,   76,    9],\n",
              "       [   3,  152,   26, ...,  618,   22,  216],\n",
              "       ...,\n",
              "       [  86,  314,  342, ...,    7,   64,  126],\n",
              "       [1387,  794,   20, ..., 1159,    0,    0],\n",
              "       [ 244,    2,  119, ...,  446,    8,    2]])>"
            ]
          },
          "metadata": {},
          "execution_count": 8
        }
      ]
    },
    {
      "cell_type": "code",
      "metadata": {
        "colab": {
          "base_uri": "https://localhost:8080/"
        },
        "id": "HsUT7y2avSdJ",
        "outputId": "f75375db-fe2c-401f-ffbf-7ba841e2d6c8"
      },
      "source": [
        "embedding = layers.Embedding(input_dim=max_tokens, \n",
        "                             output_dim=128, \n",
        "                             embeddings_initializer=\"uniform\", \n",
        "                             input_length=avg_tokens) \n",
        "\n",
        "embedding(text_vectorizer(sent_df['Sentence']))"
      ],
      "execution_count": 9,
      "outputs": [
        {
          "output_type": "execute_result",
          "data": {
            "text/plain": [
              "<tf.Tensor: shape=(216, 23, 128), dtype=float32, numpy=\n",
              "array([[[ 0.03660778, -0.03774943, -0.01531668, ...,  0.00106687,\n",
              "         -0.01109964, -0.0175814 ],\n",
              "        [ 0.00985781, -0.01773777, -0.00032331, ..., -0.02691876,\n",
              "          0.00881269,  0.04212124],\n",
              "        [ 0.00531664,  0.01032578,  0.02374015, ...,  0.02318429,\n",
              "          0.04353384,  0.02461844],\n",
              "        ...,\n",
              "        [-0.03339157,  0.02094499, -0.02508782, ...,  0.04788938,\n",
              "          0.01205983, -0.04124683],\n",
              "        [-0.04488761, -0.00199626,  0.03677908, ...,  0.01848635,\n",
              "          0.00675499, -0.03606325],\n",
              "        [ 0.00984437, -0.03464404, -0.01386414, ...,  0.0416661 ,\n",
              "          0.04685506, -0.04509468]],\n",
              "\n",
              "       [[ 0.00233417, -0.01223688, -0.01157024, ...,  0.01490691,\n",
              "          0.04043353, -0.01441158],\n",
              "        [ 0.0464305 ,  0.03758707, -0.0402678 , ..., -0.00282789,\n",
              "         -0.00543243,  0.01391425],\n",
              "        [-0.01161529, -0.00038628, -0.04502564, ..., -0.00529779,\n",
              "          0.01073959, -0.01220355],\n",
              "        ...,\n",
              "        [ 0.00985781, -0.01773777, -0.00032331, ..., -0.02691876,\n",
              "          0.00881269,  0.04212124],\n",
              "        [ 0.02463919,  0.00105475, -0.03800235, ..., -0.00503057,\n",
              "          0.01624881, -0.02834154],\n",
              "        [ 0.01083172,  0.00973493, -0.04470642, ..., -0.02710717,\n",
              "          0.03488452, -0.01754465]],\n",
              "\n",
              "       [[-0.04283537, -0.0126105 , -0.01112006, ..., -0.00178311,\n",
              "         -0.01232191, -0.0416337 ],\n",
              "        [-0.03631713,  0.01761161,  0.02122411, ..., -0.02951189,\n",
              "         -0.04502178,  0.0353346 ],\n",
              "        [-0.04389272, -0.00306699,  0.01474928, ..., -0.0110308 ,\n",
              "          0.02200428,  0.03685229],\n",
              "        ...,\n",
              "        [-0.00056732,  0.02737016, -0.00680365, ...,  0.03038182,\n",
              "          0.0035289 , -0.03319919],\n",
              "        [-0.04598939, -0.03303917,  0.01256682, ...,  0.02830425,\n",
              "         -0.00794559,  0.00923917],\n",
              "        [ 0.02374746, -0.00011552,  0.01339778, ...,  0.04706696,\n",
              "          0.04561875,  0.00752847]],\n",
              "\n",
              "       ...,\n",
              "\n",
              "       [[-0.01534573, -0.03147929, -0.01861537, ...,  0.03870812,\n",
              "          0.03658011,  0.0006125 ],\n",
              "        [-0.03363557,  0.04908278, -0.02793378, ..., -0.01930186,\n",
              "         -0.01455903, -0.03509921],\n",
              "        [ 0.02695073, -0.02404022, -0.0258176 , ..., -0.01620829,\n",
              "          0.03973863, -0.03496261],\n",
              "        ...,\n",
              "        [ 0.02950564, -0.04752403, -0.00309769, ..., -0.03072706,\n",
              "          0.04044982,  0.04774065],\n",
              "        [-0.02434028, -0.01448889, -0.00021913, ...,  0.00363977,\n",
              "         -0.03429677, -0.01215891],\n",
              "        [ 0.03759971, -0.0367443 , -0.04998921, ..., -0.01243919,\n",
              "         -0.01406657,  0.02647742]],\n",
              "\n",
              "       [[ 0.04277677,  0.01859328, -0.02697086, ...,  0.04900413,\n",
              "          0.02502961, -0.02130157],\n",
              "        [-0.04925333,  0.04832665,  0.01301846, ..., -0.04906275,\n",
              "          0.03895782, -0.03261618],\n",
              "        [ 0.04635472, -0.00520004,  0.01608645, ...,  0.0377785 ,\n",
              "          0.00437453,  0.0400491 ],\n",
              "        ...,\n",
              "        [ 0.04744655,  0.03004866,  0.04502523, ...,  0.01566906,\n",
              "          0.03380277, -0.039299  ],\n",
              "        [ 0.02940707, -0.03511311,  0.01699888, ...,  0.04397657,\n",
              "          0.01130812,  0.00299428],\n",
              "        [ 0.02940707, -0.03511311,  0.01699888, ...,  0.04397657,\n",
              "          0.01130812,  0.00299428]],\n",
              "\n",
              "       [[-0.02007844, -0.02560488,  0.00293221, ..., -0.02315037,\n",
              "          0.03408661,  0.03585264],\n",
              "        [-0.03356055, -0.01632631,  0.03266603, ..., -0.01078644,\n",
              "          0.02936164,  0.02879852],\n",
              "        [-0.04721496, -0.00419509,  0.04667052, ..., -0.006143  ,\n",
              "         -0.03026688, -0.04568424],\n",
              "        ...,\n",
              "        [ 0.03809354, -0.04053843, -0.02437981, ...,  0.00980882,\n",
              "          0.04835779,  0.00409712],\n",
              "        [ 0.0464305 ,  0.03758707, -0.0402678 , ..., -0.00282789,\n",
              "         -0.00543243,  0.01391425],\n",
              "        [-0.03356055, -0.01632631,  0.03266603, ..., -0.01078644,\n",
              "          0.02936164,  0.02879852]]], dtype=float32)>"
            ]
          },
          "metadata": {},
          "execution_count": 9
        }
      ]
    },
    {
      "cell_type": "markdown",
      "metadata": {
        "id": "x65Oxb8aVV5c"
      },
      "source": [
        "#### Train/Test Split"
      ]
    },
    {
      "cell_type": "code",
      "metadata": {
        "id": "7L-Q1oaDVZLw",
        "colab": {
          "base_uri": "https://localhost:8080/",
          "height": 419
        },
        "outputId": "8cc16aa0-464e-4e31-e93d-237b84770d79"
      },
      "source": [
        "from sklearn.model_selection import train_test_split\n",
        "train_split, test_split = train_test_split(sent_df, train_size=0.8, test_size=0.2)\n",
        "train_split"
      ],
      "execution_count": 32,
      "outputs": [
        {
          "output_type": "execute_result",
          "data": {
            "text/html": [
              "<div>\n",
              "<style scoped>\n",
              "    .dataframe tbody tr th:only-of-type {\n",
              "        vertical-align: middle;\n",
              "    }\n",
              "\n",
              "    .dataframe tbody tr th {\n",
              "        vertical-align: top;\n",
              "    }\n",
              "\n",
              "    .dataframe thead th {\n",
              "        text-align: right;\n",
              "    }\n",
              "</style>\n",
              "<table border=\"1\" class=\"dataframe\">\n",
              "  <thead>\n",
              "    <tr style=\"text-align: right;\">\n",
              "      <th></th>\n",
              "      <th>Sentence</th>\n",
              "      <th>Target</th>\n",
              "      <th>Label</th>\n",
              "    </tr>\n",
              "  </thead>\n",
              "  <tbody>\n",
              "    <tr>\n",
              "      <th>14</th>\n",
              "      <td>What does this mean? It means that we need to ...</td>\n",
              "      <td>Reinforcement Learning</td>\n",
              "      <td>0</td>\n",
              "    </tr>\n",
              "    <tr>\n",
              "      <th>176</th>\n",
              "      <td>Integration issues have been a greater barrie...</td>\n",
              "      <td>Neural network module for recognizing brain di...</td>\n",
              "      <td>1</td>\n",
              "    </tr>\n",
              "    <tr>\n",
              "      <th>166</th>\n",
              "      <td>Although there is wisdom of excessive prospect...</td>\n",
              "      <td>Neural network module for recognizing brain di...</td>\n",
              "      <td>1</td>\n",
              "    </tr>\n",
              "    <tr>\n",
              "      <th>72</th>\n",
              "      <td>deepsense.ai took part in the “Learning to run...</td>\n",
              "      <td>Reinforcement Learning</td>\n",
              "      <td>0</td>\n",
              "    </tr>\n",
              "    <tr>\n",
              "      <th>169</th>\n",
              "      <td>This has produced remarkable enthusiasm in sev...</td>\n",
              "      <td>Neural network module for recognizing brain di...</td>\n",
              "      <td>1</td>\n",
              "    </tr>\n",
              "    <tr>\n",
              "      <th>...</th>\n",
              "      <td>...</td>\n",
              "      <td>...</td>\n",
              "      <td>...</td>\n",
              "    </tr>\n",
              "    <tr>\n",
              "      <th>54</th>\n",
              "      <td>An interesting upgrade might be obtained passi...</td>\n",
              "      <td>Reinforcement Learning</td>\n",
              "      <td>0</td>\n",
              "    </tr>\n",
              "    <tr>\n",
              "      <th>129</th>\n",
              "      <td>The entire diagnostic process, in general, is ...</td>\n",
              "      <td>Neural network module for recognizing brain di...</td>\n",
              "      <td>1</td>\n",
              "    </tr>\n",
              "    <tr>\n",
              "      <th>97</th>\n",
              "      <td>But the same move ended up turning the tide in...</td>\n",
              "      <td>Reinforcement Learning</td>\n",
              "      <td>0</td>\n",
              "    </tr>\n",
              "    <tr>\n",
              "      <th>196</th>\n",
              "      <td>Either way, increasing transparency in the sho...</td>\n",
              "      <td>Neural network module for recognizing brain di...</td>\n",
              "      <td>1</td>\n",
              "    </tr>\n",
              "    <tr>\n",
              "      <th>117</th>\n",
              "      <td>In order to perform this correlation, the phen...</td>\n",
              "      <td>Neural network module for recognizing brain di...</td>\n",
              "      <td>1</td>\n",
              "    </tr>\n",
              "  </tbody>\n",
              "</table>\n",
              "<p>172 rows × 3 columns</p>\n",
              "</div>"
            ],
            "text/plain": [
              "                                              Sentence  ... Label\n",
              "14   What does this mean? It means that we need to ...  ...     0\n",
              "176   Integration issues have been a greater barrie...  ...     1\n",
              "166  Although there is wisdom of excessive prospect...  ...     1\n",
              "72   deepsense.ai took part in the “Learning to run...  ...     0\n",
              "169  This has produced remarkable enthusiasm in sev...  ...     1\n",
              "..                                                 ...  ...   ...\n",
              "54   An interesting upgrade might be obtained passi...  ...     0\n",
              "129  The entire diagnostic process, in general, is ...  ...     1\n",
              "97   But the same move ended up turning the tide in...  ...     0\n",
              "196  Either way, increasing transparency in the sho...  ...     1\n",
              "117  In order to perform this correlation, the phen...  ...     1\n",
              "\n",
              "[172 rows x 3 columns]"
            ]
          },
          "metadata": {},
          "execution_count": 32
        }
      ]
    },
    {
      "cell_type": "markdown",
      "metadata": {
        "id": "fD_fyh_EUHKN"
      },
      "source": [
        "## Вирішити завдання мультикласової класифікації на створеному наборі даних із використанням методів: Naive Bayes Model, Dense Neural Network"
      ]
    },
    {
      "cell_type": "code",
      "metadata": {
        "id": "hIu3Fp7fttP0"
      },
      "source": [
        "from sklearn.metrics import accuracy_score, precision_recall_fscore_support\n",
        "\n",
        "def calculate_results(y_true, y_pred):\n",
        "  \"\"\"\n",
        "  Calculates model accuracy, precision, recall and f1 score of a binary classification model.\n",
        "\n",
        "  Args:\n",
        "  -----\n",
        "  y_true = true labels in the form of a 1D array\n",
        "  y_pred = predicted labels in the form of a 1D array\n",
        "\n",
        "  Returns a dictionary of accuracy, precision, recall, f1-score.\n",
        "  \"\"\"\n",
        "  # Calculate model accuracy\n",
        "  model_accuracy = accuracy_score(y_true, y_pred) * 100\n",
        "  # Calculate model precision, recall and f1 score using \"weighted\" average\n",
        "  model_precision, model_recall, model_f1, _ = precision_recall_fscore_support(y_true, y_pred, average=\"weighted\")\n",
        "  model_results = {\"accuracy\": model_accuracy,\n",
        "                  \"precision\": model_precision,\n",
        "                  \"recall\": model_recall,\n",
        "                  \"f1\": model_f1}\n",
        "  return model_results\n"
      ],
      "execution_count": 10,
      "outputs": []
    },
    {
      "cell_type": "markdown",
      "metadata": {
        "id": "cDuPl7hXwCj-"
      },
      "source": [
        "### Naive Bayes Model"
      ]
    },
    {
      "cell_type": "code",
      "metadata": {
        "colab": {
          "base_uri": "https://localhost:8080/"
        },
        "id": "Wj0nNYBawDAF",
        "outputId": "a72e141b-7abe-4cae-f272-eddeaec1dd33"
      },
      "source": [
        "from sklearn.feature_extraction.text import TfidfVectorizer\n",
        "from sklearn.naive_bayes import MultinomialNB\n",
        "from sklearn.pipeline import Pipeline\n",
        "\n",
        "model_NB = Pipeline([\n",
        "                    (\"tfidf\", TfidfVectorizer()), \n",
        "                    (\"clf\", MultinomialNB()) \n",
        "])\n",
        "\n",
        "# Fit the pipeline to the training data\n",
        "model_NB.fit(train_split['Sentence'], train_split['Label'])\n",
        "baseline_score = model_NB.score(test_split['Sentence'], test_split['Label'])\n",
        "print(f\"Our baseline model achieves an accuracy of: {baseline_score*100:.2f}%\")"
      ],
      "execution_count": 57,
      "outputs": [
        {
          "output_type": "stream",
          "name": "stdout",
          "text": [
            "Our baseline model achieves an accuracy of: 93.18%\n"
          ]
        }
      ]
    },
    {
      "cell_type": "markdown",
      "metadata": {
        "id": "yHkbjdQAwDGI"
      },
      "source": [
        "### LSTM"
      ]
    },
    {
      "cell_type": "code",
      "metadata": {
        "id": "RpW7qBXJJFGR"
      },
      "source": [
        "from tensorflow.keras import layers\n",
        "inputs = layers.Input(shape=(1,), dtype=\"string\")\n",
        "x = text_vectorizer(inputs)\n",
        "x = embedding(x)\n",
        "x = layers.LSTM(64)(x) # return vector for whole sequence\n",
        "x = layers.Dense(64, activation=\"relu\")(x) # optional dense layer on top of output of LSTM cell\n",
        "outputs = layers.Dense(1, activation=\"sigmoid\")(x)\n",
        "model_lstm = tf.keras.Model(inputs, outputs, name=\"model_LSTM\")\n"
      ],
      "execution_count": 39,
      "outputs": []
    },
    {
      "cell_type": "code",
      "metadata": {
        "id": "qQaasE2SLnUL"
      },
      "source": [
        "model_lstm.compile(loss=\"binary_crossentropy\",\n",
        "                optimizer=tf.keras.optimizers.Adam(),\n",
        "                metrics=[\"accuracy\"])"
      ],
      "execution_count": 40,
      "outputs": []
    },
    {
      "cell_type": "code",
      "metadata": {
        "colab": {
          "base_uri": "https://localhost:8080/"
        },
        "id": "g6TLqhlbLtbz",
        "outputId": "35995c0f-b337-49fd-b374-8a4965a9bf81"
      },
      "source": [
        "model_lstm.summary()"
      ],
      "execution_count": 41,
      "outputs": [
        {
          "output_type": "stream",
          "name": "stdout",
          "text": [
            "Model: \"model_LSTM\"\n",
            "_________________________________________________________________\n",
            " Layer (type)                Output Shape              Param #   \n",
            "=================================================================\n",
            " input_5 (InputLayer)        [(None, 1)]               0         \n",
            "                                                                 \n",
            " text_vectorization (TextVec  (None, 23)               0         \n",
            " torization)                                                     \n",
            "                                                                 \n",
            " embedding (Embedding)       (None, 23, 128)           1280000   \n",
            "                                                                 \n",
            " lstm_4 (LSTM)               (None, 64)                49408     \n",
            "                                                                 \n",
            " dense_6 (Dense)             (None, 64)                4160      \n",
            "                                                                 \n",
            " dense_7 (Dense)             (None, 1)                 65        \n",
            "                                                                 \n",
            "=================================================================\n",
            "Total params: 1,333,633\n",
            "Trainable params: 1,333,633\n",
            "Non-trainable params: 0\n",
            "_________________________________________________________________\n"
          ]
        }
      ]
    },
    {
      "cell_type": "code",
      "metadata": {
        "colab": {
          "base_uri": "https://localhost:8080/"
        },
        "id": "AkmqLX8BLvO8",
        "outputId": "8dbf12d1-24d3-4b73-e695-73e2adfff80b"
      },
      "source": [
        "model_lstm_history = model_lstm.fit(train_split['Sentence'],\n",
        "                              train_split['Label'],\n",
        "                              epochs=4,\n",
        "                              validation_data=(test_split['Sentence'], test_split['Label']))\n"
      ],
      "execution_count": 42,
      "outputs": [
        {
          "output_type": "stream",
          "name": "stdout",
          "text": [
            "Epoch 1/4\n",
            "6/6 [==============================] - 3s 207ms/step - loss: 0.6835 - accuracy: 0.6919 - val_loss: 0.6476 - val_accuracy: 0.9318\n",
            "Epoch 2/4\n",
            "6/6 [==============================] - 0s 19ms/step - loss: 0.6123 - accuracy: 0.9477 - val_loss: 0.5343 - val_accuracy: 0.9545\n",
            "Epoch 3/4\n",
            "6/6 [==============================] - 0s 20ms/step - loss: 0.4298 - accuracy: 0.9884 - val_loss: 0.2717 - val_accuracy: 0.9773\n",
            "Epoch 4/4\n",
            "6/6 [==============================] - 0s 20ms/step - loss: 0.1429 - accuracy: 0.9942 - val_loss: 0.1224 - val_accuracy: 0.9773\n"
          ]
        }
      ]
    },
    {
      "cell_type": "code",
      "metadata": {
        "colab": {
          "base_uri": "https://localhost:8080/"
        },
        "id": "O2qS5-pSMLqc",
        "outputId": "1bcd29c1-5520-43ed-cea6-b58ecf0b4345"
      },
      "source": [
        "model_lstm_pred_probs = model_lstm.predict(test_split['Sentence'])\n",
        "model_lstm_preds = tf.squeeze(tf.round(model_lstm_pred_probs))\n",
        "calculate_results(y_true=test_split['Label'], y_pred=model_lstm_preds)\n"
      ],
      "execution_count": 43,
      "outputs": [
        {
          "output_type": "execute_result",
          "data": {
            "text/plain": [
              "{'accuracy': 97.72727272727273,\n",
              " 'f1': 0.9773081096381563,\n",
              " 'precision': 0.9783549783549784,\n",
              " 'recall': 0.9772727272727273}"
            ]
          },
          "metadata": {},
          "execution_count": 43
        }
      ]
    },
    {
      "cell_type": "markdown",
      "metadata": {
        "id": "wOZg5ROdNctP"
      },
      "source": [
        "### GRU"
      ]
    },
    {
      "cell_type": "code",
      "metadata": {
        "id": "N4lYimUjNkUZ"
      },
      "source": [
        "from tensorflow.keras import layers\n",
        "inputs = layers.Input(shape=(1,), dtype=\"string\")\n",
        "x = text_vectorizer(inputs)\n",
        "x = embedding(x)\n",
        "x = layers.GRU(64)(x) \n",
        "x = layers.Dense(64, activation=\"relu\")(x) # optional dense layer after GRU cell\n",
        "outputs = layers.Dense(1, activation=\"sigmoid\")(x)\n",
        "model_gru = tf.keras.Model(inputs, outputs, name=\"model_GRU\")\n"
      ],
      "execution_count": 52,
      "outputs": []
    },
    {
      "cell_type": "code",
      "metadata": {
        "id": "7QQzEkvGNkWI"
      },
      "source": [
        "model_gru.compile(loss=\"binary_crossentropy\",\n",
        "                optimizer=tf.keras.optimizers.Adam(),\n",
        "                metrics=[\"accuracy\"])\n"
      ],
      "execution_count": 53,
      "outputs": []
    },
    {
      "cell_type": "code",
      "metadata": {
        "colab": {
          "base_uri": "https://localhost:8080/"
        },
        "id": "P63GbmYDNkYR",
        "outputId": "a5b3ee7e-61b7-40b6-99ff-4d4bdd8ea9bf"
      },
      "source": [
        "model_gru_history = model_gru.fit(train_split['Sentence'],\n",
        "                              train_split['Label'],\n",
        "                              epochs=5,\n",
        "                              validation_data=(test_split['Sentence'], test_split['Label']))\n"
      ],
      "execution_count": 54,
      "outputs": [
        {
          "output_type": "stream",
          "name": "stdout",
          "text": [
            "Epoch 1/5\n",
            "6/6 [==============================] - 3s 141ms/step - loss: 0.6733 - accuracy: 0.7907 - val_loss: 0.6472 - val_accuracy: 0.7727\n",
            "Epoch 2/5\n",
            "6/6 [==============================] - 0s 21ms/step - loss: 0.6147 - accuracy: 0.8256 - val_loss: 0.5809 - val_accuracy: 0.8409\n",
            "Epoch 3/5\n",
            "6/6 [==============================] - 0s 21ms/step - loss: 0.5168 - accuracy: 0.8430 - val_loss: 0.4631 - val_accuracy: 0.9091\n",
            "Epoch 4/5\n",
            "6/6 [==============================] - 0s 19ms/step - loss: 0.3446 - accuracy: 0.9070 - val_loss: 0.2651 - val_accuracy: 0.9318\n",
            "Epoch 5/5\n",
            "6/6 [==============================] - 0s 22ms/step - loss: 0.1167 - accuracy: 0.9826 - val_loss: 0.0825 - val_accuracy: 0.9773\n"
          ]
        }
      ]
    },
    {
      "cell_type": "code",
      "metadata": {
        "colab": {
          "base_uri": "https://localhost:8080/"
        },
        "id": "ehia-s8tNkaV",
        "outputId": "4fb15f8c-012a-4b39-bfe7-9ed8290eae3f"
      },
      "source": [
        "model_gru_pred_probs = model_gru.predict(test_split['Sentence'])\n",
        "model_gru_preds = tf.squeeze(tf.round(model_gru_pred_probs))\n",
        "calculate_results(y_true=test_split['Label'], y_pred=model_gru_preds)"
      ],
      "execution_count": 55,
      "outputs": [
        {
          "output_type": "stream",
          "name": "stdout",
          "text": [
            "WARNING:tensorflow:6 out of the last 11 calls to <function Model.make_predict_function.<locals>.predict_function at 0x7fc6dd1be830> triggered tf.function retracing. Tracing is expensive and the excessive number of tracings could be due to (1) creating @tf.function repeatedly in a loop, (2) passing tensors with different shapes, (3) passing Python objects instead of tensors. For (1), please define your @tf.function outside of the loop. For (2), @tf.function has experimental_relax_shapes=True option that relaxes argument shapes that can avoid unnecessary retracing. For (3), please refer to https://www.tensorflow.org/guide/function#controlling_retracing and https://www.tensorflow.org/api_docs/python/tf/function for  more details.\n"
          ]
        },
        {
          "output_type": "execute_result",
          "data": {
            "text/plain": [
              "{'accuracy': 97.72727272727273,\n",
              " 'f1': 0.9773081096381563,\n",
              " 'precision': 0.9783549783549784,\n",
              " 'recall': 0.9772727272727273}"
            ]
          },
          "metadata": {},
          "execution_count": 55
        }
      ]
    },
    {
      "cell_type": "markdown",
      "metadata": {
        "id": "l7fZONy0SFDk"
      },
      "source": [
        "### Bidirectional LSTM"
      ]
    },
    {
      "cell_type": "code",
      "metadata": {
        "id": "8L6so5LeSHn5"
      },
      "source": [
        "from tensorflow.keras import layers\n",
        "inputs = layers.Input(shape=(1,), dtype=\"string\")\n",
        "x = text_vectorizer(inputs)\n",
        "x = embedding(x)\n",
        "# x = layers.Bidirectional(layers.LSTM(64, return_sequences=True))(x) # stacking RNN layers requires return_sequences=True\n",
        "x = layers.Bidirectional(layers.LSTM(64))(x) # bidirectional goes both ways so has double the parameters of a regular LSTM layer\n",
        "outputs = layers.Dense(1, activation=\"sigmoid\")(x)\n",
        "model_bi_lstm = tf.keras.Model(inputs, outputs, name=\"model_Bi_lstm\")\n"
      ],
      "execution_count": 66,
      "outputs": []
    },
    {
      "cell_type": "code",
      "metadata": {
        "id": "VZDUsyfeSOuo"
      },
      "source": [
        "model_bi_lstm.compile(loss=\"binary_crossentropy\",\n",
        "                optimizer=tf.keras.optimizers.Adam(),\n",
        "                metrics=[\"accuracy\"])\n"
      ],
      "execution_count": 67,
      "outputs": []
    },
    {
      "cell_type": "code",
      "metadata": {
        "colab": {
          "base_uri": "https://localhost:8080/"
        },
        "id": "5USTZa7zSQc3",
        "outputId": "00f184bd-b8db-425b-a050-750d00659e5a"
      },
      "source": [
        "model_bi_lstm.summary()\n"
      ],
      "execution_count": 68,
      "outputs": [
        {
          "output_type": "stream",
          "name": "stdout",
          "text": [
            "Model: \"model_4_Bidirectional\"\n",
            "_________________________________________________________________\n",
            " Layer (type)                Output Shape              Param #   \n",
            "=================================================================\n",
            " input_10 (InputLayer)       [(None, 1)]               0         \n",
            "                                                                 \n",
            " text_vectorization (TextVec  (None, 23)               0         \n",
            " torization)                                                     \n",
            "                                                                 \n",
            " embedding (Embedding)       (None, 23, 128)           1280000   \n",
            "                                                                 \n",
            " bidirectional_1 (Bidirectio  (None, 128)              98816     \n",
            " nal)                                                            \n",
            "                                                                 \n",
            " dense_13 (Dense)            (None, 1)                 129       \n",
            "                                                                 \n",
            "=================================================================\n",
            "Total params: 1,378,945\n",
            "Trainable params: 1,378,945\n",
            "Non-trainable params: 0\n",
            "_________________________________________________________________\n"
          ]
        }
      ]
    },
    {
      "cell_type": "code",
      "metadata": {
        "colab": {
          "base_uri": "https://localhost:8080/"
        },
        "id": "dfpOLQssSQ6k",
        "outputId": "33f66209-0738-4fa8-e9cb-59b35de6891b"
      },
      "source": [
        "model_bi_lstm_history = model_bi_lstm.fit(train_split['Sentence'],\n",
        "                              train_split['Label'],\n",
        "                              epochs=4,\n",
        "                              validation_data=(test_split['Sentence'], test_split['Label']))\n"
      ],
      "execution_count": 69,
      "outputs": [
        {
          "output_type": "stream",
          "name": "stdout",
          "text": [
            "Epoch 1/4\n",
            "6/6 [==============================] - 5s 235ms/step - loss: 0.6427 - accuracy: 0.8314 - val_loss: 0.5572 - val_accuracy: 0.9318\n",
            "Epoch 2/4\n",
            "6/6 [==============================] - 0s 26ms/step - loss: 0.4234 - accuracy: 1.0000 - val_loss: 0.3505 - val_accuracy: 0.9545\n",
            "Epoch 3/4\n",
            "6/6 [==============================] - 0s 26ms/step - loss: 0.1672 - accuracy: 1.0000 - val_loss: 0.1361 - val_accuracy: 0.9773\n",
            "Epoch 4/4\n",
            "6/6 [==============================] - 0s 27ms/step - loss: 0.0257 - accuracy: 1.0000 - val_loss: 0.0854 - val_accuracy: 0.9773\n"
          ]
        }
      ]
    },
    {
      "cell_type": "markdown",
      "metadata": {
        "id": "U8ZWx5MITEeK"
      },
      "source": [
        "### Bidirectional GRU"
      ]
    },
    {
      "cell_type": "code",
      "metadata": {
        "id": "IuxMkSKeTIBF"
      },
      "source": [
        "from tensorflow.keras import layers\n",
        "inputs = layers.Input(shape=(1,), dtype=\"string\")\n",
        "x = text_vectorizer(inputs)\n",
        "x = embedding(x)\n",
        "x = layers.Bidirectional(layers.GRU(64))(x) # bidirectional goes both ways so has double the parameters of a regular LSTM layer\n",
        "outputs = layers.Dense(1, activation=\"sigmoid\")(x)\n",
        "model_bi_gru = tf.keras.Model(inputs, outputs, name=\"model_Bi_gru\")"
      ],
      "execution_count": 71,
      "outputs": []
    },
    {
      "cell_type": "code",
      "metadata": {
        "id": "3wTDfkosTOQx"
      },
      "source": [
        "model_bi_gru.compile(loss=\"binary_crossentropy\",\n",
        "                optimizer=tf.keras.optimizers.Adam(),\n",
        "                metrics=[\"accuracy\"])"
      ],
      "execution_count": 72,
      "outputs": []
    },
    {
      "cell_type": "code",
      "metadata": {
        "colab": {
          "base_uri": "https://localhost:8080/"
        },
        "id": "xX0PT4rkTQZ4",
        "outputId": "ba14d50d-a07e-41f0-900a-e5e36cca3f1e"
      },
      "source": [
        "model_bi_gru.summary()"
      ],
      "execution_count": 73,
      "outputs": [
        {
          "output_type": "stream",
          "name": "stdout",
          "text": [
            "Model: \"model_Bi_gru\"\n",
            "_________________________________________________________________\n",
            " Layer (type)                Output Shape              Param #   \n",
            "=================================================================\n",
            " input_12 (InputLayer)       [(None, 1)]               0         \n",
            "                                                                 \n",
            " text_vectorization (TextVec  (None, 23)               0         \n",
            " torization)                                                     \n",
            "                                                                 \n",
            " embedding (Embedding)       (None, 23, 128)           1280000   \n",
            "                                                                 \n",
            " bidirectional_3 (Bidirectio  (None, 128)              74496     \n",
            " nal)                                                            \n",
            "                                                                 \n",
            " dense_15 (Dense)            (None, 1)                 129       \n",
            "                                                                 \n",
            "=================================================================\n",
            "Total params: 1,354,625\n",
            "Trainable params: 1,354,625\n",
            "Non-trainable params: 0\n",
            "_________________________________________________________________\n"
          ]
        }
      ]
    },
    {
      "cell_type": "code",
      "metadata": {
        "colab": {
          "base_uri": "https://localhost:8080/"
        },
        "id": "AUA9dZgATS-R",
        "outputId": "bb840a32-3de5-4f58-8e50-55f165adb0e0"
      },
      "source": [
        "model_bi_gru_history = model_bi_gru.fit(train_split['Sentence'],\n",
        "                              train_split['Label'],\n",
        "                              epochs=10,\n",
        "                              validation_data=(test_split['Sentence'], test_split['Label']))"
      ],
      "execution_count": 74,
      "outputs": [
        {
          "output_type": "stream",
          "name": "stdout",
          "text": [
            "Epoch 1/10\n",
            "6/6 [==============================] - 6s 299ms/step - loss: 0.6228 - accuracy: 0.8081 - val_loss: 0.5573 - val_accuracy: 0.8409\n",
            "Epoch 2/10\n",
            "6/6 [==============================] - 0s 25ms/step - loss: 0.4598 - accuracy: 0.9593 - val_loss: 0.4301 - val_accuracy: 0.9091\n",
            "Epoch 3/10\n",
            "6/6 [==============================] - 0s 24ms/step - loss: 0.2831 - accuracy: 0.9709 - val_loss: 0.2852 - val_accuracy: 0.9318\n",
            "Epoch 4/10\n",
            "6/6 [==============================] - 0s 26ms/step - loss: 0.1106 - accuracy: 0.9942 - val_loss: 0.1535 - val_accuracy: 0.9318\n",
            "Epoch 5/10\n",
            "6/6 [==============================] - 0s 27ms/step - loss: 0.0194 - accuracy: 1.0000 - val_loss: 0.0944 - val_accuracy: 0.9545\n",
            "Epoch 6/10\n",
            "6/6 [==============================] - 0s 28ms/step - loss: 0.0025 - accuracy: 1.0000 - val_loss: 0.0915 - val_accuracy: 0.9773\n",
            "Epoch 7/10\n",
            "6/6 [==============================] - 0s 27ms/step - loss: 4.7910e-04 - accuracy: 1.0000 - val_loss: 0.1087 - val_accuracy: 0.9773\n",
            "Epoch 8/10\n",
            "6/6 [==============================] - 0s 25ms/step - loss: 1.6345e-04 - accuracy: 1.0000 - val_loss: 0.1257 - val_accuracy: 0.9773\n",
            "Epoch 9/10\n",
            "6/6 [==============================] - 0s 29ms/step - loss: 9.6758e-05 - accuracy: 1.0000 - val_loss: 0.1367 - val_accuracy: 0.9773\n",
            "Epoch 10/10\n",
            "6/6 [==============================] - 0s 26ms/step - loss: 7.3908e-05 - accuracy: 1.0000 - val_loss: 0.1429 - val_accuracy: 0.9773\n"
          ]
        }
      ]
    },
    {
      "cell_type": "markdown",
      "metadata": {
        "id": "qH2ONjxtUHZc"
      },
      "source": [
        "## Здійснити порівняння ефективності моделей"
      ]
    },
    {
      "cell_type": "markdown",
      "metadata": {
        "id": "JZUXuRoXSYmj"
      },
      "source": [
        "### Naive Bayes"
      ]
    },
    {
      "cell_type": "code",
      "metadata": {
        "id": "ROXko56mUHgl",
        "colab": {
          "base_uri": "https://localhost:8080/"
        },
        "outputId": "6f65d63f-3328-42d8-a98d-311bca93a319"
      },
      "source": [
        "calculate_results(test_split['Label'], model_NB.predict(test_split['Sentence']))"
      ],
      "execution_count": 58,
      "outputs": [
        {
          "output_type": "execute_result",
          "data": {
            "text/plain": [
              "{'accuracy': 93.18181818181817,\n",
              " 'f1': 0.9316397887826459,\n",
              " 'precision': 0.9324401913875597,\n",
              " 'recall': 0.9318181818181818}"
            ]
          },
          "metadata": {},
          "execution_count": 58
        }
      ]
    },
    {
      "cell_type": "markdown",
      "metadata": {
        "id": "jK7MgUl4Sg0q"
      },
      "source": [
        "### LSTM"
      ]
    },
    {
      "cell_type": "code",
      "metadata": {
        "colab": {
          "base_uri": "https://localhost:8080/"
        },
        "id": "kzWiyKslihDP",
        "outputId": "f26a1377-4bbd-4c40-8866-df43623d9dc0"
      },
      "source": [
        "model_lstm_pred_probs = model_lstm.predict(test_split['Sentence'])\n",
        "model_lstm_preds = tf.squeeze(tf.round(model_lstm_pred_probs))\n",
        "calculate_results(y_true=test_split['Label'], y_pred=model_lstm_preds)"
      ],
      "execution_count": 59,
      "outputs": [
        {
          "output_type": "execute_result",
          "data": {
            "text/plain": [
              "{'accuracy': 95.45454545454545,\n",
              " 'f1': 0.9546395633352156,\n",
              " 'precision': 0.9586776859504131,\n",
              " 'recall': 0.9545454545454546}"
            ]
          },
          "metadata": {},
          "execution_count": 59
        }
      ]
    },
    {
      "cell_type": "markdown",
      "metadata": {
        "id": "dk1g9bv3Sh8v"
      },
      "source": [
        "### GRU"
      ]
    },
    {
      "cell_type": "code",
      "metadata": {
        "colab": {
          "base_uri": "https://localhost:8080/"
        },
        "id": "qYeqV3UpRv2H",
        "outputId": "50bdc67a-650d-4e94-f520-a4bbc8330768"
      },
      "source": [
        "model_gru_pred_probs = model_gru.predict(test_split['Sentence'])\n",
        "model_gru_preds = tf.squeeze(tf.round(model_gru_pred_probs))\n",
        "calculate_results(y_true=test_split['Label'], y_pred=model_gru_preds)"
      ],
      "execution_count": 60,
      "outputs": [
        {
          "output_type": "execute_result",
          "data": {
            "text/plain": [
              "{'accuracy': 97.72727272727273,\n",
              " 'f1': 0.9773081096381563,\n",
              " 'precision': 0.9783549783549784,\n",
              " 'recall': 0.9772727272727273}"
            ]
          },
          "metadata": {},
          "execution_count": 60
        }
      ]
    },
    {
      "cell_type": "markdown",
      "metadata": {
        "id": "lGpqHmyCSjUo"
      },
      "source": [
        "### BI_LSTM\n"
      ]
    },
    {
      "cell_type": "code",
      "metadata": {
        "colab": {
          "base_uri": "https://localhost:8080/"
        },
        "id": "ZJjrEI0jRxtA",
        "outputId": "dcd94246-4130-48d5-db5e-a9e7d17a824f"
      },
      "source": [
        "model_bi_lstm_pred_probs = model_bi_lstm.predict(test_split['Sentence'])\n",
        "model_bi_lstm_preds = tf.squeeze(tf.round(model_bi_lstm_pred_probs))\n",
        "calculate_results(test_split['Label'], model_bi_lstm_preds)"
      ],
      "execution_count": 78,
      "outputs": [
        {
          "output_type": "execute_result",
          "data": {
            "text/plain": [
              "{'accuracy': 95.45454545454545,\n",
              " 'f1': 0.9546395633352156,\n",
              " 'precision': 0.9586776859504131,\n",
              " 'recall': 0.9545454545454546}"
            ]
          },
          "metadata": {},
          "execution_count": 78
        }
      ]
    },
    {
      "cell_type": "markdown",
      "metadata": {
        "id": "G7z5RuRySnwT"
      },
      "source": [
        "### BI_GRU"
      ]
    },
    {
      "cell_type": "code",
      "metadata": {
        "colab": {
          "base_uri": "https://localhost:8080/"
        },
        "id": "VNk2XthjTr70",
        "outputId": "089a0607-b56b-4854-c40b-0afe0340a7bc"
      },
      "source": [
        "model_bi_gru_pred_probs = model_bi_gru.predict(test_split['Sentence'])\n",
        "model_bi_gru_preds = tf.squeeze(tf.round(model_bi_gru_pred_probs))\n",
        "calculate_results(test_split['Label'], model_bi_gru_preds)"
      ],
      "execution_count": 80,
      "outputs": [
        {
          "output_type": "execute_result",
          "data": {
            "text/plain": [
              "{'accuracy': 97.72727272727273,\n",
              " 'f1': 0.9773081096381563,\n",
              " 'precision': 0.9783549783549784,\n",
              " 'recall': 0.9772727272727273}"
            ]
          },
          "metadata": {},
          "execution_count": 80
        }
      ]
    },
    {
      "cell_type": "markdown",
      "metadata": {
        "id": "P0aMvjOrUHo0"
      },
      "source": [
        ""
      ]
    }
  ]
}