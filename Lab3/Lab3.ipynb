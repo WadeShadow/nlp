{
  "nbformat": 4,
  "nbformat_minor": 0,
  "metadata": {
    "colab": {
      "name": "Lab3.ipynb",
      "provenance": [],
      "collapsed_sections": [],
      "mount_file_id": "1tqsZLPS7HuhNByIlhSPjaiJJeqeFYuOb",
      "authorship_tag": "ABX9TyOz8r2zv0wbgaIyofUqUgiQ",
      "include_colab_link": true
    },
    "kernelspec": {
      "name": "python3",
      "display_name": "Python 3"
    },
    "language_info": {
      "name": "python"
    },
    "accelerator": "GPU"
  },
  "cells": [
    {
      "cell_type": "markdown",
      "metadata": {
        "id": "view-in-github",
        "colab_type": "text"
      },
      "source": [
        "<a href=\"https://colab.research.google.com/github/WadeShadow/nlp2021/blob/main/Lab3/Lab3.ipynb\" target=\"_parent\"><img src=\"https://colab.research.google.com/assets/colab-badge.svg\" alt=\"Open In Colab\"/></a>"
      ]
    },
    {
      "cell_type": "code",
      "metadata": {
        "id": "3suJfqw4OdIB"
      },
      "source": [
        "import numpy as np, pandas as pd, tensorflow as tf, requests as rqst, io\n",
        "from tensorflow.keras.layers.experimental.preprocessing import TextVectorization\n",
        "from tensorflow.keras import layers\n",
        "\n",
        "rnd = np.random.randint\n",
        "\n",
        "folder = '/content/drive/MyDrive/Colab Notebooks/NLP_labs/'"
      ],
      "execution_count": 1,
      "outputs": []
    },
    {
      "cell_type": "markdown",
      "metadata": {
        "id": "zjXyPRttUE2S"
      },
      "source": [
        "## На основі підготовлених у попередній лабораторній роботі речень кожного з учасників створити загальний набір даних розмірністю (100, n), де n -кількість учасників команди, та відповідні мітки класів до них\n"
      ]
    },
    {
      "cell_type": "code",
      "metadata": {
        "colab": {
          "base_uri": "https://localhost:8080/"
        },
        "id": "_1bwxXcKUAgf",
        "outputId": "a9f070fa-9934-4c38-e4b5-74d6478bdd74"
      },
      "source": [
        "RL_file = open(folder+'sentences.txt')\n",
        "RL_sentences = RL_file.read().split('. ')[:-1]\n",
        "\n",
        "DARINA_file = open(folder+'100.txt', encoding='windows-1251')\n",
        "DARINA_sente                                                                                                                                                                                                  nces = DARINA_file.read().split('. ')[:-1]\n",
        "\n",
        "RL_sentences"
      ],
      "execution_count": 2,
      "outputs": [
        {
          "output_type": "execute_result",
          "data": {
            "text/plain": [
              "['Training a virtual agent to outperform human players can teach us how to optimize different processes in a variety of different and exciting subfields',\n",
              " 'This is what Google DeepMind did with its popular AlphaGo, which beat the strongest Go player in history and scored a goal that was considered impossible at the time.In this article, we will develop an AI agent that is able to learn how to play the popular game Snake from scratch',\n",
              " 'To do it, we implement a Deep Reinforcement Learning algorithm using both Keras on top of Tensorflow and PyTorch (both versions are available, you can choose the one you prefer)',\n",
              " 'This approach consists in the interaction between two components: an environment (the game itself) and an agent (Snake)',\n",
              " 'The agent collects information about its current state (we will see later what this means) and performs an action accordingly',\n",
              " 'The environment rewards or punishes the agent based on the performed action',\n",
              " 'Over time, the agent learns what actions maximize the reward (in our case, what actions lead to eating the apple and avoiding the walls)',\n",
              " 'No rules about the game are given',\n",
              " 'Initially, Snake does not know what to do and performs random actions',\n",
              " 'The goal is to elaborate a strategy (technically called “policy”) to maximize the score — or the reward.We are going to see how a Deep Q-Learning algorithm learns to play Snake, scoring up to 50 points and showing a solid strategy in just 5 minutes of training',\n",
              " 'Optionally, the code shows how to optimize the Artificial Neural Network using Bayesian Optimization',\n",
              " 'Reinforcement Learning is a family of algorithms and techniques used for Control (e.g',\n",
              " 'Robotics, Autonomous driving, etc..) and Decision making',\n",
              " 'These approaches solve problems that need to be expressed as a Markov Decision Process (MDP)',\n",
              " 'What does this mean? It means that we need to describe our game by a set of states S (for example, an index based on Snake’s position), a set of actions A (for example, Up, Down, Right, Left), a reward function R (for example, +10 when Snake eats an apple, -10 when Snakes hits a wall) and optionally a transition function T that describes the transitions among states',\n",
              " 'Traditional ML algorithms need to be trained with an input and a “correct answer” called target',\n",
              " 'The system will then try to learn how to predict targets based on unseen inputs',\n",
              " 'In this example, we don’t know the best action to take at each state of the game (this is actually what we are trying to learn!), so a traditional approach would not be effective',\n",
              " 'In Reinforcement Learning, we have two main components: the environment (our game) and the agent (our Snake.',\n",
              " 'or to be correct, the Deep Neural Network that drives our Snake’s actions)',\n",
              " 'Every time the agent performs an action, the environment gives a reward to the agent, which can be positive or negative depending on how good the action was from that specific state',\n",
              " 'The goal of the agent is to learn what actions maximize the reward, given every possible state',\n",
              " 'States are the observations that the agent receives at each iteration from the environment',\n",
              " 'A state can be its position, its speed, or whatever array of variables describes the environment',\n",
              " 'To be more rigorous and to use a Reinforcement Learning notation, the strategy used by the agent to make decisions is called policy',\n",
              " 'On a theoretical level, a policy is a mapping from the state space (the space of all the possible observations that the agent can receive) into the action space (the space of all the actions the agent can take, say UP, DOWN, LEFT and RIGHT)',\n",
              " 'A Q-table is a matrix that correlates the state of the agent with the possible actions that the agent can adopt',\n",
              " 'The values in the table are the action’s probability of success (technically, a measure of the expected cumulative reward), which were updated based on the rewards the agent received during training',\n",
              " 'In the example, we might want to choose RIGHT if we are in State 2, and we might want to go UP if we are in State 4',\n",
              " 'The values in the Q-Table represent the cumulative expected reward of taking action a from a state s',\n",
              " 'In other words, these values give us an indication of the average reward that the agent obtains if it takes action a from that state s',\n",
              " 'This table is the policy of the agent that we mentioned before: it determines what actions should be taken from every state to maximize the expected reward',\n",
              " 'Deep Q-Learning increases the potentiality of Q-Learning by converting the table into Deep Neural Network — that is a powerful representation of a parametrized function',\n",
              " 'When the AI chooses and performs the action, the environment gives a reward to the agent',\n",
              " 'Then, the agent reaches the new state state’ and it updates its Q-value according to the Bellman equation as mentioned above',\n",
              " 'Also, for each move, it stores the original state, the action, the state reached after performed that action, the reward obtained and whether the game ended or not',\n",
              " 'This data is later sampled to train the neural network',\n",
              " 'This operation is called Replay Memory',\n",
              " 'A state is the representation of a situation in which the agent finds itself',\n",
              " 'The state also represents the input of the Neural network',\n",
              " 'the AI tries to maximize the expected reward',\n",
              " 'In our case, a positive reward is only given to the agent when it eats the food target (+10)',\n",
              " 'If the snake hits a wall or hits itself, the reward is negative (-10)',\n",
              " 'Additionally, we could give a positive reward for each step Snake takes without dying',\n",
              " 'In that case, Snake might exploit the situation by running in a circle instead of reaching the food, since it would get positive rewards for each step while avoiding the risk of collision against a wall',\n",
              " 'Sometimes, Reinforcement Learning agents outsmart us, presenting flaws in our strategy that we did not anticipate',\n",
              " 'The brain of the Artificial Intelligence agent uses Deep learning',\n",
              " 'In our case, it consists of 3 hidden layers of 120 neurons',\n",
              " 'The learning rate is not fixed, it starts at 0.0005 and decreases to 0.000005',\n",
              " 'Different architectures and different hyper-parameters contribute to a quicker convergence to an optimum, as well as possible highest scores',\n",
              " 'The network receives as input the state, and returns as output three values related to the three actions: move left, move right, move straight',\n",
              " 'The last layer uses the Softmax function',\n",
              " 'This example shows how a simple agent can learn the mechanism of a process, in this case the game Snake, in a few minutes and with a few lines of code',\n",
              " 'I strongly suggest to dive into the code and to try to improve the result',\n",
              " 'An interesting upgrade might be obtained passing screenshots of the current game for each iteration',\n",
              " 'In that case, the state could be the RGB information for each pixel',\n",
              " 'The Deep Q-Learning model can be replaced with a Double Deep Q-learning algorithm, for a more precise convergence',\n",
              " 'Reinforcement learning is the training of machine learning models to make a sequence of decisions',\n",
              " 'The agent learns to achieve a goal in an uncertain, potentially complex environment',\n",
              " 'In reinforcement learning, an artificial intelligence faces a game-like situation',\n",
              " 'The computer employs trial and error to come up with a solution to the problem',\n",
              " 'To get the machine to do what the programmer wants, the artificial intelligence gets either rewards or penalties for the actions it performs',\n",
              " 'Its goal is to maximize the total reward',\n",
              " 'Although the designer sets the reward policy–that is, the rules of the game–he gives the model no hints or suggestions for how to solve the game',\n",
              " 'It’s up to the model to figure out how to perform the task to maximize the reward, starting from totally random trials and finishing with sophisticated tactics and superhuman skills',\n",
              " 'By leveraging the power of search and many trials, reinforcement learning is currently the most effective way to hint machine’s creativity',\n",
              " 'In contrast to human beings, artificial intelligence can gather experience from thousands of parallel gameplays if a reinforcement learning algorithm is run on a sufficiently powerful computer infrastructure',\n",
              " 'in usual circumstances we would require an autonomous vehicle to put safety first, minimize ride time, reduce pollution, offer passengers comfort and obey the rules of law',\n",
              " 'With an autonomous race car, on the other hand, we would emphasize speed much more than the driver’s comfort',\n",
              " 'The programmer cannot predict everything that could happen on the road',\n",
              " 'Instead of building lengthy “if-then” instructions, the programmer prepares the reinforcement learning agent to be capable of learning from the system of rewards and penalties',\n",
              " 'The agent (another name for reinforcement learning algorithms performing the task) gets rewards for reaching specific goals',\n",
              " 'deepsense.ai took part in the “Learning to run” project, which aimed to train a virtual runner from scratch',\n",
              " 'The runner is an advanced and precise musculoskeletal model designed by the Stanford Neuromuscular Biomechanics Laboratory',\n",
              " 'Learning the agent how to run is a first step in building a new generation of prosthetic legs, ones that automatically recognize people’s walking patterns and tweak themselves to make moving easier and more effective',\n",
              " 'While it is possible and has been done in Stanford’s labs, hard-wiring all the commands and predicting all possible patterns of walking requires a lot of work from highly skilled programmers',\n",
              " 'Reinforcement learning, as stated above employs a system of rewards and penalties to compel the computer to solve a problem by itself',\n",
              " 'Human involvement is limited to changing the environment and tweaking the system of rewards and penalties',\n",
              " 'As the computer maximizes the reward, it is prone to seeking unexpected ways of doing it',\n",
              " 'Human involvement is focused on preventing it from exploiting the system and motivating the machine to perform the task in the way expected',\n",
              " 'Reinforcement learning is useful when there is no “proper way” to perform a task, yet there are rules the model has to follow to perform its duties correctly',\n",
              " 'By tweaking and seeking the optimal policy for deep reinforcement learning, we built an agent that in just 20 minutes reached a superhuman level in playing Atari games',\n",
              " 'Similar algorithms in principal can be used to build AI for an autonomous car or a prosthetic leg',\n",
              " 'In fact, one of the best ways to evaluate the reinforcement learning approach is to give the model an Atari video game to play, such as Arkanoid or Space Invaders',\n",
              " 'According to Google Brain’s Marc G',\n",
              " 'Bellemare, who introduced Atari video games as a reinforcement learning benchmark, “although challenging, these environments remain simple enough that we can hope to achieve measurable progress as we attempt to solve them”',\n",
              " 'Deep reinforcement learning, the algorithm used by state-of-the-art game-playing bots, starts by providing an agent with a set of possible actions in the game, a mechanism to receive feedback from the environment, and a goal to pursue',\n",
              " 'Then, through numerous episodes of gameplay, the RL agent gradually goes from taking random actions to learning sequences of actions that can help it maximize its goal',\n",
              " 'Early research of deep reinforcement learning relied on the agent being pretrained on gameplay data from human players',\n",
              " 'More recently, researchers have been able to develop RL agents that can learn games from scratch through pure self-play without human input',\n",
              " 'In their study, the researchers at MIT Lincoln Laboratory were interested in finding out if a reinforcement learning program that outperforms humans could become a reliable coworker to humans',\n",
              " '“At a very high level, this work was inspired by the question: What technology gaps exist that prevent reinforcement learning (RL) from being applied to real-world problems, not just video games?” Dr',\n",
              " 'Ross Allen, AI researcher at Lincoln Laboratory and co-author of the paper, told TechTalks',\n",
              " '“While many such technology gaps exist (e.g., the real world is characterized by uncertainty/partial-observability, data scarcity, ambiguous/nuanced objectives, disparate timescales of decision making, etc.), we identified the need to collaborate with humans as a key technology gap for applying RL in the real-world',\n",
              " 'In fact, in some cases, the reinforcement systems have managed to hack the games and find tricks that baffled even the most talented and experienced human players',\n",
              " 'One famous example was a move made by DeepMind’s AlphaGo in its matchup against Go world champion Lee Sedol',\n",
              " 'Analysts first thought the move was a mistake because it went against the intuitions of human experts',\n",
              " 'But the same move ended up turning the tide in favor of the AI player and defeating Sedol',\n",
              " 'Allen thinks the same kind of ingenuity can come into play when RL is teamed up with humans',\n",
              " '“We think RL can be leveraged to advance the state of the art of human-AI collaboration by avoiding the preconceived assumptions and biases that characterize ‘rule-based expert systems,” Allen said',\n",
              " 'Reinforcement learning is a special branch of AI algorithms that is composed of three key elements: an environment, agents, and rewards',\n",
              " 'By performing actions, the agent changes its own state and that of the environment',\n",
              " 'Based on how much those actions affect the goal the agent must achieve, it is rewarded or penalized',\n",
              " 'In many reinforcement learning problems, the agent has no initial knowledge of the environment and starts by taking random actions',\n",
              " 'Based on the feedback it receives, the agent learns to tune its actions and develop policies that maximize its reward',\n",
              " 'In their paper, the researchers at DeepMind suggest reinforcement learning as the main algorithm that can replicate reward maximization as seen in nature and can eventually lead to artificial general intelligence',\n",
              " '“If an agent can continually adjust its behaviour so as to improve its cumulative reward, then any abilities that are repeatedly demanded by its environment must ultimately be produced in the agent’s behaviour,” the researchers write, adding that, in the course of maximizing for its reward, a good reinforcement learning agent could eventually learn perception, language, social intelligence and so forth',\n",
              " '“We do not offer any theoretical guarantee on the sample efficiency of reinforcement learning agents.” Reinforcement learning is notoriously renowned for requiring huge amounts of data',\n",
              " 'For instance, a reinforcement learning agent might need centuries worth of gameplay to master a computer game',\n",
              " 'And AI researchers still haven’t figured out how to create reinforcement learning systems that can generalize their learnings across several domains',\n",
              " 'Therefore, slight changes to the environment often require the full retraining of the model',\n",
              " 'The researchers also acknowledge that learning mechanisms for reward maximization is an unsolved problem that remains a central question to be further studied in reinforcement learning',\n",
              " 'In “Chip Placement with Deep Reinforcement Learning”, we pose chip placement as a reinforcement learning (RL) problem, where we train an agent (i.e, an RL policy) to optimize the quality of chip placements',\n",
              " 'Unlike prior methods, our approach has the ability to learn from past experience and improve over time',\n",
              " 'In particular, as we train over a greater number of chip blocks, our method becomes better at rapidly generating optimized placements for previously unseen chip blocks',\n",
              " 'Whereas existing baselines require human experts in the loop and take several weeks to generate, our method can generate placements in under six hours that outperform or match their manually designed counterparts']"
            ]
          },
          "metadata": {},
          "execution_count": 2
        }
      ]
    },
    {
      "cell_type": "code",
      "metadata": {
        "id": "GSO49B9-VDGu"
      },
      "source": [
        ""
      ],
      "execution_count": 11,
      "outputs": []
    },
    {
      "cell_type": "code",
      "metadata": {
        "colab": {
          "base_uri": "https://localhost:8080/",
          "height": 419
        },
        "id": "xXFtRDHpobtl",
        "outputId": "e5269aa6-56f1-4529-b483-69275d9a6feb"
      },
      "source": [
        "sent_df = []\n",
        "\n",
        "for sent in RL_sentences:\n",
        "  sent_df.append({'Sentence':sent, 'Target':'Reinforcement Learning'})\n",
        "\n",
        "for sent in DARINA_sentences:\n",
        "  sent_df.append({'Sentence':sent, 'Target':'Neural network module for recognizing brain diseases'})\n",
        "\n",
        "sent_df = pd.DataFrame(data=sent_df, columns=['Sentence', 'Target'])\n",
        "\n",
        "sent_df['Label'] = sent_df['Target']\n",
        "sent_df.replace({'Label':{'Reinforcement Learning':0, 'Neural network module for recognizing brain diseases':1}}, inplace=True)\n",
        "sent_df"
      ],
      "execution_count": 3,
      "outputs": [
        {
          "output_type": "execute_result",
          "data": {
            "text/html": [
              "<div>\n",
              "<style scoped>\n",
              "    .dataframe tbody tr th:only-of-type {\n",
              "        vertical-align: middle;\n",
              "    }\n",
              "\n",
              "    .dataframe tbody tr th {\n",
              "        vertical-align: top;\n",
              "    }\n",
              "\n",
              "    .dataframe thead th {\n",
              "        text-align: right;\n",
              "    }\n",
              "</style>\n",
              "<table border=\"1\" class=\"dataframe\">\n",
              "  <thead>\n",
              "    <tr style=\"text-align: right;\">\n",
              "      <th></th>\n",
              "      <th>Sentence</th>\n",
              "      <th>Target</th>\n",
              "      <th>Label</th>\n",
              "    </tr>\n",
              "  </thead>\n",
              "  <tbody>\n",
              "    <tr>\n",
              "      <th>0</th>\n",
              "      <td>Training a virtual agent to outperform human p...</td>\n",
              "      <td>Reinforcement Learning</td>\n",
              "      <td>0</td>\n",
              "    </tr>\n",
              "    <tr>\n",
              "      <th>1</th>\n",
              "      <td>This is what Google DeepMind did with its popu...</td>\n",
              "      <td>Reinforcement Learning</td>\n",
              "      <td>0</td>\n",
              "    </tr>\n",
              "    <tr>\n",
              "      <th>2</th>\n",
              "      <td>To do it, we implement a Deep Reinforcement Le...</td>\n",
              "      <td>Reinforcement Learning</td>\n",
              "      <td>0</td>\n",
              "    </tr>\n",
              "    <tr>\n",
              "      <th>3</th>\n",
              "      <td>This approach consists in the interaction betw...</td>\n",
              "      <td>Reinforcement Learning</td>\n",
              "      <td>0</td>\n",
              "    </tr>\n",
              "    <tr>\n",
              "      <th>4</th>\n",
              "      <td>The agent collects information about its curre...</td>\n",
              "      <td>Reinforcement Learning</td>\n",
              "      <td>0</td>\n",
              "    </tr>\n",
              "    <tr>\n",
              "      <th>...</th>\n",
              "      <td>...</td>\n",
              "      <td>...</td>\n",
              "      <td>...</td>\n",
              "    </tr>\n",
              "    <tr>\n",
              "      <th>211</th>\n",
              "      <td>This includes balancing the prospective benefi...</td>\n",
              "      <td>Neural network module for recognizing brain di...</td>\n",
              "      <td>1</td>\n",
              "    </tr>\n",
              "    <tr>\n",
              "      <th>212</th>\n",
              "      <td>Users report their symptoms into the app, whic...</td>\n",
              "      <td>Neural network module for recognizing brain di...</td>\n",
              "      <td>1</td>\n",
              "    </tr>\n",
              "    <tr>\n",
              "      <th>213</th>\n",
              "      <td>Most common users could be people with serious...</td>\n",
              "      <td>Neural network module for recognizing brain di...</td>\n",
              "      <td>1</td>\n",
              "    </tr>\n",
              "    <tr>\n",
              "      <th>214</th>\n",
              "      <td>Body scans can spot cancer and vascular diseas...</td>\n",
              "      <td>Neural network module for recognizing brain di...</td>\n",
              "      <td>1</td>\n",
              "    </tr>\n",
              "    <tr>\n",
              "      <th>215</th>\n",
              "      <td>Since the first step in health care is compili...</td>\n",
              "      <td>Neural network module for recognizing brain di...</td>\n",
              "      <td>1</td>\n",
              "    </tr>\n",
              "  </tbody>\n",
              "</table>\n",
              "<p>216 rows × 3 columns</p>\n",
              "</div>"
            ],
            "text/plain": [
              "                                              Sentence  ... Label\n",
              "0    Training a virtual agent to outperform human p...  ...     0\n",
              "1    This is what Google DeepMind did with its popu...  ...     0\n",
              "2    To do it, we implement a Deep Reinforcement Le...  ...     0\n",
              "3    This approach consists in the interaction betw...  ...     0\n",
              "4    The agent collects information about its curre...  ...     0\n",
              "..                                                 ...  ...   ...\n",
              "211  This includes balancing the prospective benefi...  ...     1\n",
              "212  Users report their symptoms into the app, whic...  ...     1\n",
              "213  Most common users could be people with serious...  ...     1\n",
              "214  Body scans can spot cancer and vascular diseas...  ...     1\n",
              "215  Since the first step in health care is compili...  ...     1\n",
              "\n",
              "[216 rows x 3 columns]"
            ]
          },
          "metadata": {},
          "execution_count": 3
        }
      ]
    },
    {
      "cell_type": "markdown",
      "metadata": {
        "id": "g2wyDOPHUGyY"
      },
      "source": [
        "## Здійснити підготовку набору даних до моделювання (tokenization&embedding, train_test_split)\n"
      ]
    },
    {
      "cell_type": "code",
      "metadata": {
        "colab": {
          "base_uri": "https://localhost:8080/"
        },
        "id": "twFzQqnLu8J8",
        "outputId": "41f21102-b037-4112-a932-1ee2ba375d02"
      },
      "source": [
        "max_tokens = 10000\n",
        "\n",
        "sentences = RL_sentences+DARINA_sentences\n",
        "tokens_count = 0\n",
        "for sent in sentences:\n",
        "  tokens_count+=len(sent.split())\n",
        "avg_tokens = round(tokens_count/len(sentences))\n",
        "avg_tokens"
      ],
      "execution_count": 4,
      "outputs": [
        {
          "output_type": "execute_result",
          "data": {
            "text/plain": [
              "23"
            ]
          },
          "metadata": {},
          "execution_count": 4
        }
      ]
    },
    {
      "cell_type": "markdown",
      "metadata": {
        "id": "NeH6e0tRVV78"
      },
      "source": [
        "#### Tokenization&Embedding"
      ]
    },
    {
      "cell_type": "code",
      "metadata": {
        "id": "Fm1gjy-eUHB4",
        "colab": {
          "base_uri": "https://localhost:8080/"
        },
        "outputId": "14441565-ad17-4bb4-86c1-7da26b38d0fd"
      },
      "source": [
        "text_vectorizer = TextVectorization(max_tokens=max_tokens, \n",
        "                                    standardize=\"lower_and_strip_punctuation\", \n",
        "                                    split=\"whitespace\", \n",
        "                                    ngrams=None, \n",
        "                                    output_mode=\"int\",\n",
        "                                    output_sequence_length=avg_tokens, \n",
        "                                    pad_to_max_tokens=True)\n",
        "\n",
        "text_vectorizer.adapt(sent_df['Sentence'])\n",
        "\n",
        "text_vectorizer(sent_df['Sentence'])"
      ],
      "execution_count": 5,
      "outputs": [
        {
          "output_type": "execute_result",
          "data": {
            "text/plain": [
              "<tf.Tensor: shape=(216, 23), dtype=int64, numpy=\n",
              "array([[ 108,    6,  340, ...,  120,    4, 1214],\n",
              "       [  27,    8,   47, ...,    6,   76,    9],\n",
              "       [   3,  152,   26, ...,  618,   22,  216],\n",
              "       ...,\n",
              "       [  86,  314,  342, ...,    7,   64,  126],\n",
              "       [1387,  794,   20, ..., 1159,    0,    0],\n",
              "       [ 244,    2,  119, ...,  446,    8,    2]])>"
            ]
          },
          "metadata": {},
          "execution_count": 5
        }
      ]
    },
    {
      "cell_type": "code",
      "metadata": {
        "colab": {
          "base_uri": "https://localhost:8080/"
        },
        "id": "HsUT7y2avSdJ",
        "outputId": "7eee2479-b461-4d65-b1aa-f4b43418dbe7"
      },
      "source": [
        "embedding = layers.Embedding(input_dim=max_tokens, # set input shape\n",
        "                             output_dim=128, # set size of embedding vector\n",
        "                             embeddings_initializer=\"uniform\", # default, intialize randomly\n",
        "                             input_length=avg_tokens) # how long is each input\n",
        "\n",
        "embedding(text_vectorizer(sent_df['Sentence']))"
      ],
      "execution_count": 6,
      "outputs": [
        {
          "output_type": "execute_result",
          "data": {
            "text/plain": [
              "<tf.Tensor: shape=(216, 23, 128), dtype=float32, numpy=\n",
              "array([[[ 6.97020441e-03, -1.96845662e-02,  2.09697820e-02, ...,\n",
              "          2.98492350e-02,  3.70584168e-02,  4.55253161e-02],\n",
              "        [ 2.17731483e-02,  2.40580551e-02,  2.60901712e-02, ...,\n",
              "          3.12251560e-02,  4.39117886e-02, -4.66168411e-02],\n",
              "        [ 3.49115767e-02,  2.40859427e-02, -1.88845154e-02, ...,\n",
              "          6.48991019e-03,  2.00299658e-02, -1.83723196e-02],\n",
              "        ...,\n",
              "        [ 1.94359459e-02,  1.20611675e-02,  3.19797881e-02, ...,\n",
              "         -3.55614051e-02, -1.26329772e-02,  3.27330939e-02],\n",
              "        [-1.85273066e-02, -1.97102558e-02,  1.75294317e-02, ...,\n",
              "          3.26038115e-02,  3.20647024e-02,  4.60136421e-02],\n",
              "        [ 1.82113312e-02,  5.48766926e-03,  5.05348295e-03, ...,\n",
              "          4.72555496e-02,  3.57601792e-03, -4.55062389e-02]],\n",
              "\n",
              "       [[ 1.67846680e-03, -4.18853052e-02,  4.99509089e-02, ...,\n",
              "          1.70918144e-02, -1.95655227e-02, -1.42388716e-02],\n",
              "        [-4.07283306e-02, -1.44096985e-02,  3.35036181e-02, ...,\n",
              "         -3.89966257e-02, -4.57582474e-02, -4.31985259e-02],\n",
              "        [ 3.11541818e-02,  1.09671243e-02,  4.70048524e-02, ...,\n",
              "          1.28401555e-02,  2.83845514e-03,  4.53954078e-02],\n",
              "        ...,\n",
              "        [ 2.17731483e-02,  2.40580551e-02,  2.60901712e-02, ...,\n",
              "          3.12251560e-02,  4.39117886e-02, -4.66168411e-02],\n",
              "        [-2.75953654e-02, -8.80732387e-03,  2.35612281e-02, ...,\n",
              "          4.76106293e-02, -2.41317749e-02,  3.32275778e-03],\n",
              "        [ 4.40919399e-03,  5.98654151e-05,  4.26519774e-02, ...,\n",
              "          4.74333204e-02, -2.21990589e-02,  2.21287087e-03]],\n",
              "\n",
              "       [[-4.83172536e-02, -2.13545915e-02, -3.37951407e-02, ...,\n",
              "          4.53004986e-03,  2.30847634e-02,  2.43803151e-02],\n",
              "        [-2.77700070e-02,  1.19925141e-02, -6.57104328e-03, ...,\n",
              "          4.71392758e-02, -2.47886665e-02,  4.28843535e-02],\n",
              "        [-1.20360963e-02, -4.98900190e-02,  6.95691258e-03, ...,\n",
              "          4.26173545e-02, -3.05478107e-02, -4.85496894e-02],\n",
              "        ...,\n",
              "        [ 2.68252008e-02,  4.00754921e-02,  4.43614610e-02, ...,\n",
              "         -4.69752066e-02,  2.44794749e-02,  5.94953448e-03],\n",
              "        [ 9.13473219e-03, -4.21938784e-02, -1.22578368e-02, ...,\n",
              "         -4.46479097e-02,  1.67970918e-02,  2.66905315e-02],\n",
              "        [-1.05658881e-02,  2.54857428e-02,  2.61079520e-04, ...,\n",
              "         -2.31724866e-02,  4.27522101e-02, -3.65592539e-04]],\n",
              "\n",
              "       ...,\n",
              "\n",
              "       [[-1.92692038e-02, -4.25876863e-02, -8.60750675e-04, ...,\n",
              "          1.69092678e-02,  4.85146977e-02, -3.21472883e-02],\n",
              "        [ 4.07193340e-02, -8.92453268e-03,  4.57121767e-02, ...,\n",
              "         -4.58465479e-02,  2.30297446e-05, -1.87895428e-02],\n",
              "        [-4.05912884e-02,  1.30688883e-02,  1.71572678e-02, ...,\n",
              "         -8.96592066e-03, -9.50340182e-03, -3.13471332e-02],\n",
              "        ...,\n",
              "        [-1.08625777e-02, -1.02472790e-02, -3.25118303e-02, ...,\n",
              "          4.58920039e-02, -2.75696404e-02,  1.24404542e-02],\n",
              "        [-5.38621098e-03,  4.90557402e-04,  4.46251743e-02, ...,\n",
              "          3.82021554e-02, -1.49396546e-02,  3.09960954e-02],\n",
              "        [-8.40140507e-03, -8.87913629e-03, -4.87306826e-02, ...,\n",
              "          3.87566127e-02,  4.47418131e-02,  1.75568201e-02]],\n",
              "\n",
              "       [[ 5.68053871e-03, -2.39335373e-03, -2.20056772e-02, ...,\n",
              "         -4.47776318e-02, -3.20671201e-02, -1.32135749e-02],\n",
              "        [ 1.11320838e-02, -1.21260062e-02,  1.44905560e-02, ...,\n",
              "          4.42448519e-02,  3.11466195e-02,  1.32844932e-02],\n",
              "        [ 9.28598642e-03, -3.22566032e-02,  3.79530452e-02, ...,\n",
              "          2.19418146e-02,  2.16401108e-02,  3.33096646e-02],\n",
              "        ...,\n",
              "        [ 1.88451745e-02, -1.26408115e-02,  6.63759559e-03, ...,\n",
              "         -4.01951894e-02,  2.70625390e-02,  1.13770738e-02],\n",
              "        [-2.02359557e-02, -3.19982693e-03, -2.66021490e-02, ...,\n",
              "         -4.20068391e-02,  4.89427485e-02,  4.14213575e-02],\n",
              "        [-2.02359557e-02, -3.19982693e-03, -2.66021490e-02, ...,\n",
              "         -4.20068391e-02,  4.89427485e-02,  4.14213575e-02]],\n",
              "\n",
              "       [[ 3.41144241e-02, -3.63228321e-02,  4.38750871e-02, ...,\n",
              "          1.31383575e-02,  1.09411478e-02,  3.94401290e-02],\n",
              "        [-4.27352302e-02, -3.58350389e-02,  1.60754658e-02, ...,\n",
              "          4.26135920e-02, -1.88844930e-02,  1.40627064e-02],\n",
              "        [ 4.09013666e-02, -6.95693493e-03,  2.10381187e-02, ...,\n",
              "         -2.47717500e-02, -4.95978370e-02,  2.43804604e-03],\n",
              "        ...,\n",
              "        [-3.89252901e-02, -4.71347682e-02,  2.52828635e-02, ...,\n",
              "         -2.54774094e-03, -3.34602147e-02,  4.64387275e-02],\n",
              "        [-4.07283306e-02, -1.44096985e-02,  3.35036181e-02, ...,\n",
              "         -3.89966257e-02, -4.57582474e-02, -4.31985259e-02],\n",
              "        [-4.27352302e-02, -3.58350389e-02,  1.60754658e-02, ...,\n",
              "          4.26135920e-02, -1.88844930e-02,  1.40627064e-02]]],\n",
              "      dtype=float32)>"
            ]
          },
          "metadata": {},
          "execution_count": 6
        }
      ]
    },
    {
      "cell_type": "markdown",
      "metadata": {
        "id": "x65Oxb8aVV5c"
      },
      "source": [
        "#### Train/Test Split"
      ]
    },
    {
      "cell_type": "code",
      "metadata": {
        "id": "7L-Q1oaDVZLw",
        "colab": {
          "base_uri": "https://localhost:8080/",
          "height": 419
        },
        "outputId": "aa1c91ca-4b26-4e9f-e218-8e2fd467ce4e"
      },
      "source": [
        "from sklearn.model_selection import train_test_split\n",
        "train_split, test_split = train_test_split(sent_df, train_size=0.8, test_size=0.2)\n",
        "train_split"
      ],
      "execution_count": 7,
      "outputs": [
        {
          "output_type": "execute_result",
          "data": {
            "text/html": [
              "<div>\n",
              "<style scoped>\n",
              "    .dataframe tbody tr th:only-of-type {\n",
              "        vertical-align: middle;\n",
              "    }\n",
              "\n",
              "    .dataframe tbody tr th {\n",
              "        vertical-align: top;\n",
              "    }\n",
              "\n",
              "    .dataframe thead th {\n",
              "        text-align: right;\n",
              "    }\n",
              "</style>\n",
              "<table border=\"1\" class=\"dataframe\">\n",
              "  <thead>\n",
              "    <tr style=\"text-align: right;\">\n",
              "      <th></th>\n",
              "      <th>Sentence</th>\n",
              "      <th>Target</th>\n",
              "      <th>Label</th>\n",
              "    </tr>\n",
              "  </thead>\n",
              "  <tbody>\n",
              "    <tr>\n",
              "      <th>82</th>\n",
              "      <td>Similar algorithms in principal can be used to...</td>\n",
              "      <td>Reinforcement Learning</td>\n",
              "      <td>0</td>\n",
              "    </tr>\n",
              "    <tr>\n",
              "      <th>104</th>\n",
              "      <td>Based on the feedback it receives, the agent l...</td>\n",
              "      <td>Reinforcement Learning</td>\n",
              "      <td>0</td>\n",
              "    </tr>\n",
              "    <tr>\n",
              "      <th>206</th>\n",
              "      <td>Also, by ensuring a continuous feedback loop m...</td>\n",
              "      <td>Neural network module for recognizing brain di...</td>\n",
              "      <td>1</td>\n",
              "    </tr>\n",
              "    <tr>\n",
              "      <th>132</th>\n",
              "      <td>Furthermore, the amount of medical data is con...</td>\n",
              "      <td>Neural network module for recognizing brain di...</td>\n",
              "      <td>1</td>\n",
              "    </tr>\n",
              "    <tr>\n",
              "      <th>102</th>\n",
              "      <td>Based on how much those actions affect the goa...</td>\n",
              "      <td>Reinforcement Learning</td>\n",
              "      <td>0</td>\n",
              "    </tr>\n",
              "    <tr>\n",
              "      <th>...</th>\n",
              "      <td>...</td>\n",
              "      <td>...</td>\n",
              "      <td>...</td>\n",
              "    </tr>\n",
              "    <tr>\n",
              "      <th>145</th>\n",
              "      <td>The unraveling of underlying affected genetic ...</td>\n",
              "      <td>Neural network module for recognizing brain di...</td>\n",
              "      <td>1</td>\n",
              "    </tr>\n",
              "    <tr>\n",
              "      <th>12</th>\n",
              "      <td>Robotics, Autonomous driving, etc..) and Decis...</td>\n",
              "      <td>Reinforcement Learning</td>\n",
              "      <td>0</td>\n",
              "    </tr>\n",
              "    <tr>\n",
              "      <th>200</th>\n",
              "      <td>The research and results of these tests are st...</td>\n",
              "      <td>Neural network module for recognizing brain di...</td>\n",
              "      <td>1</td>\n",
              "    </tr>\n",
              "    <tr>\n",
              "      <th>131</th>\n",
              "      <td>This highly complex process has, on the one ha...</td>\n",
              "      <td>Neural network module for recognizing brain di...</td>\n",
              "      <td>1</td>\n",
              "    </tr>\n",
              "    <tr>\n",
              "      <th>64</th>\n",
              "      <td>It’s up to the model to figure out how to perf...</td>\n",
              "      <td>Reinforcement Learning</td>\n",
              "      <td>0</td>\n",
              "    </tr>\n",
              "  </tbody>\n",
              "</table>\n",
              "<p>172 rows × 3 columns</p>\n",
              "</div>"
            ],
            "text/plain": [
              "                                              Sentence  ... Label\n",
              "82   Similar algorithms in principal can be used to...  ...     0\n",
              "104  Based on the feedback it receives, the agent l...  ...     0\n",
              "206  Also, by ensuring a continuous feedback loop m...  ...     1\n",
              "132  Furthermore, the amount of medical data is con...  ...     1\n",
              "102  Based on how much those actions affect the goa...  ...     0\n",
              "..                                                 ...  ...   ...\n",
              "145  The unraveling of underlying affected genetic ...  ...     1\n",
              "12   Robotics, Autonomous driving, etc..) and Decis...  ...     0\n",
              "200  The research and results of these tests are st...  ...     1\n",
              "131  This highly complex process has, on the one ha...  ...     1\n",
              "64   It’s up to the model to figure out how to perf...  ...     0\n",
              "\n",
              "[172 rows x 3 columns]"
            ]
          },
          "metadata": {},
          "execution_count": 7
        }
      ]
    },
    {
      "cell_type": "markdown",
      "metadata": {
        "id": "fD_fyh_EUHKN"
      },
      "source": [
        "## Вирішити завдання мультикласової класифікації на створеному наборі даних із використанням методів: Naive Bayes Model, Dense Neural Network"
      ]
    },
    {
      "cell_type": "code",
      "metadata": {
        "id": "hIu3Fp7fttP0"
      },
      "source": [
        "from sklearn.metrics import accuracy_score, precision_recall_fscore_support\n",
        "\n",
        "def calculate_results(y_true, y_pred):\n",
        "  \"\"\"\n",
        "  Calculates model accuracy, precision, recall and f1 score of a binary classification model.\n",
        "\n",
        "  Args:\n",
        "  -----\n",
        "  y_true = true labels in the form of a 1D array\n",
        "  y_pred = predicted labels in the form of a 1D array\n",
        "\n",
        "  Returns a dictionary of accuracy, precision, recall, f1-score.\n",
        "  \"\"\"\n",
        "  # Calculate model accuracy\n",
        "  model_accuracy = accuracy_score(y_true, y_pred) * 100\n",
        "  # Calculate model precision, recall and f1 score using \"weighted\" average\n",
        "  model_precision, model_recall, model_f1, _ = precision_recall_fscore_support(y_true, y_pred, average=\"weighted\")\n",
        "  model_results = {\"accuracy\": model_accuracy,\n",
        "                  \"precision\": model_precision,\n",
        "                  \"recall\": model_recall,\n",
        "                  \"f1\": model_f1}\n",
        "  return model_results\n"
      ],
      "execution_count": 12,
      "outputs": []
    },
    {
      "cell_type": "markdown",
      "metadata": {
        "id": "cDuPl7hXwCj-"
      },
      "source": [
        "### Naive Bayes Model"
      ]
    },
    {
      "cell_type": "code",
      "metadata": {
        "colab": {
          "base_uri": "https://localhost:8080/"
        },
        "id": "Wj0nNYBawDAF",
        "outputId": "ebdb79c5-30c3-4ed6-a5ad-1fcd4e460ded"
      },
      "source": [
        "from sklearn.feature_extraction.text import TfidfVectorizer\n",
        "from sklearn.naive_bayes import MultinomialNB\n",
        "from sklearn.pipeline import Pipeline\n",
        "\n",
        "# Create tokenization and modelling pipeline\n",
        "model_0 = Pipeline([\n",
        "                    (\"tfidf\", TfidfVectorizer()), # convert words to numbers using tfidf\n",
        "                    (\"clf\", MultinomialNB()) # model the text\n",
        "])\n",
        "\n",
        "# Fit the pipeline to the training data\n",
        "model_0.fit(train_split['Sentence'], train_split['Label'])\n",
        "baseline_score = model_0.score(test_split['Sentence'], test_split['Label'])\n",
        "print(f\"Our baseline model achieves an accuracy of: {baseline_score*100:.2f}%\")"
      ],
      "execution_count": 8,
      "outputs": [
        {
          "output_type": "stream",
          "name": "stdout",
          "text": [
            "Our baseline model achieves an accuracy of: 86.36%\n"
          ]
        }
      ]
    },
    {
      "cell_type": "markdown",
      "metadata": {
        "id": "yHkbjdQAwDGI"
      },
      "source": [
        "### Dense Neural Network"
      ]
    },
    {
      "cell_type": "code",
      "metadata": {
        "id": "-nxhiUqxUHSM"
      },
      "source": [
        "from tensorflow.keras import layers\n",
        "inputs = layers.Input(shape=(1,), dtype=\"string\") # inputs are 1-dimensional strings\n",
        "x = text_vectorizer(inputs) # turn the input text into numbers\n",
        "x = embedding(x) # create an embedding of the numerized numbers\n",
        "x = layers.GlobalAveragePooling1D()(x) # lower the dimensionality of the embedding (try running the model without this layer and see what happens)\n",
        "outputs = layers.Dense(1, activation=\"sigmoid\")(x) # create the output layer, want binary outputs so use sigmoid activation\n",
        "model_1 = tf.keras.Model(inputs, outputs, name=\"model_1_dense\") # construct the model\n"
      ],
      "execution_count": 9,
      "outputs": []
    },
    {
      "cell_type": "code",
      "metadata": {
        "colab": {
          "base_uri": "https://localhost:8080/"
        },
        "id": "fdp49g8cv7KY",
        "outputId": "c13321b0-cbee-4a12-914d-fea08dd56d77"
      },
      "source": [
        "model_1.compile(loss=\"binary_crossentropy\",\n",
        "                optimizer=tf.keras.optimizers.Adam(),\n",
        "                metrics=[\"accuracy\"])\n",
        "\n",
        "model_1.summary()\n"
      ],
      "execution_count": 10,
      "outputs": [
        {
          "output_type": "stream",
          "name": "stdout",
          "text": [
            "Model: \"model_1_dense\"\n",
            "_________________________________________________________________\n",
            " Layer (type)                Output Shape              Param #   \n",
            "=================================================================\n",
            " input_1 (InputLayer)        [(None, 1)]               0         \n",
            "                                                                 \n",
            " text_vectorization (TextVec  (None, 23)               0         \n",
            " torization)                                                     \n",
            "                                                                 \n",
            " embedding (Embedding)       (None, 23, 128)           1280000   \n",
            "                                                                 \n",
            " global_average_pooling1d (G  (None, 128)              0         \n",
            " lobalAveragePooling1D)                                          \n",
            "                                                                 \n",
            " dense (Dense)               (None, 1)                 129       \n",
            "                                                                 \n",
            "=================================================================\n",
            "Total params: 1,280,129\n",
            "Trainable params: 1,280,129\n",
            "Non-trainable params: 0\n",
            "_________________________________________________________________\n"
          ]
        }
      ]
    },
    {
      "cell_type": "code",
      "metadata": {
        "colab": {
          "base_uri": "https://localhost:8080/"
        },
        "id": "FIW9jifdv-ra",
        "outputId": "5a210a44-6e7b-49f2-be1b-1fff040bc462"
      },
      "source": [
        "# Fit the model\n",
        "model_1_history = model_1.fit(train_split['Sentence'], # input sentences can be a list of strings due to text preprocessing layer built-in model\n",
        "                              train_split['Label'],\n",
        "                              epochs=50,\n",
        "                              validation_data=(test_split['Sentence'], test_split['Label']))"
      ],
      "execution_count": 11,
      "outputs": [
        {
          "output_type": "stream",
          "name": "stdout",
          "text": [
            "Epoch 1/50\n",
            "6/6 [==============================] - 3s 56ms/step - loss: 0.6899 - accuracy: 0.6047 - val_loss: 0.6844 - val_accuracy: 0.6364\n",
            "Epoch 2/50\n",
            "6/6 [==============================] - 0s 13ms/step - loss: 0.6760 - accuracy: 0.8023 - val_loss: 0.6766 - val_accuracy: 0.6818\n",
            "Epoch 3/50\n",
            "6/6 [==============================] - 0s 12ms/step - loss: 0.6634 - accuracy: 0.8256 - val_loss: 0.6686 - val_accuracy: 0.6591\n",
            "Epoch 4/50\n",
            "6/6 [==============================] - 0s 12ms/step - loss: 0.6500 - accuracy: 0.8488 - val_loss: 0.6600 - val_accuracy: 0.6818\n",
            "Epoch 5/50\n",
            "6/6 [==============================] - 0s 12ms/step - loss: 0.6348 - accuracy: 0.8547 - val_loss: 0.6514 - val_accuracy: 0.6818\n",
            "Epoch 6/50\n",
            "6/6 [==============================] - 0s 11ms/step - loss: 0.6194 - accuracy: 0.8721 - val_loss: 0.6426 - val_accuracy: 0.7045\n",
            "Epoch 7/50\n",
            "6/6 [==============================] - 0s 12ms/step - loss: 0.6026 - accuracy: 0.8837 - val_loss: 0.6326 - val_accuracy: 0.7500\n",
            "Epoch 8/50\n",
            "6/6 [==============================] - 0s 13ms/step - loss: 0.5839 - accuracy: 0.8895 - val_loss: 0.6224 - val_accuracy: 0.7500\n",
            "Epoch 9/50\n",
            "6/6 [==============================] - 0s 12ms/step - loss: 0.5650 - accuracy: 0.8953 - val_loss: 0.6114 - val_accuracy: 0.7500\n",
            "Epoch 10/50\n",
            "6/6 [==============================] - 0s 13ms/step - loss: 0.5439 - accuracy: 0.8953 - val_loss: 0.6002 - val_accuracy: 0.7727\n",
            "Epoch 11/50\n",
            "6/6 [==============================] - 0s 12ms/step - loss: 0.5230 - accuracy: 0.9128 - val_loss: 0.5886 - val_accuracy: 0.7727\n",
            "Epoch 12/50\n",
            "6/6 [==============================] - 0s 12ms/step - loss: 0.5014 - accuracy: 0.9128 - val_loss: 0.5770 - val_accuracy: 0.7727\n",
            "Epoch 13/50\n",
            "6/6 [==============================] - 0s 12ms/step - loss: 0.4792 - accuracy: 0.9244 - val_loss: 0.5654 - val_accuracy: 0.7727\n",
            "Epoch 14/50\n",
            "6/6 [==============================] - 0s 12ms/step - loss: 0.4568 - accuracy: 0.9360 - val_loss: 0.5536 - val_accuracy: 0.7727\n",
            "Epoch 15/50\n",
            "6/6 [==============================] - 0s 12ms/step - loss: 0.4340 - accuracy: 0.9535 - val_loss: 0.5421 - val_accuracy: 0.7727\n",
            "Epoch 16/50\n",
            "6/6 [==============================] - 0s 12ms/step - loss: 0.4115 - accuracy: 0.9535 - val_loss: 0.5309 - val_accuracy: 0.7727\n",
            "Epoch 17/50\n",
            "6/6 [==============================] - 0s 12ms/step - loss: 0.3891 - accuracy: 0.9651 - val_loss: 0.5197 - val_accuracy: 0.7727\n",
            "Epoch 18/50\n",
            "6/6 [==============================] - 0s 12ms/step - loss: 0.3675 - accuracy: 0.9709 - val_loss: 0.5084 - val_accuracy: 0.7727\n",
            "Epoch 19/50\n",
            "6/6 [==============================] - 0s 12ms/step - loss: 0.3464 - accuracy: 0.9709 - val_loss: 0.4969 - val_accuracy: 0.8182\n",
            "Epoch 20/50\n",
            "6/6 [==============================] - 0s 11ms/step - loss: 0.3261 - accuracy: 0.9709 - val_loss: 0.4858 - val_accuracy: 0.8182\n",
            "Epoch 21/50\n",
            "6/6 [==============================] - 0s 12ms/step - loss: 0.3063 - accuracy: 0.9767 - val_loss: 0.4749 - val_accuracy: 0.8636\n",
            "Epoch 22/50\n",
            "6/6 [==============================] - 0s 15ms/step - loss: 0.2879 - accuracy: 0.9767 - val_loss: 0.4644 - val_accuracy: 0.8636\n",
            "Epoch 23/50\n",
            "6/6 [==============================] - 0s 12ms/step - loss: 0.2702 - accuracy: 0.9826 - val_loss: 0.4543 - val_accuracy: 0.8864\n",
            "Epoch 24/50\n",
            "6/6 [==============================] - 0s 12ms/step - loss: 0.2533 - accuracy: 0.9826 - val_loss: 0.4445 - val_accuracy: 0.8864\n",
            "Epoch 25/50\n",
            "6/6 [==============================] - 0s 13ms/step - loss: 0.2376 - accuracy: 0.9942 - val_loss: 0.4355 - val_accuracy: 0.8864\n",
            "Epoch 26/50\n",
            "6/6 [==============================] - 0s 12ms/step - loss: 0.2228 - accuracy: 0.9942 - val_loss: 0.4266 - val_accuracy: 0.8864\n",
            "Epoch 27/50\n",
            "6/6 [==============================] - 0s 14ms/step - loss: 0.2090 - accuracy: 0.9942 - val_loss: 0.4181 - val_accuracy: 0.8864\n",
            "Epoch 28/50\n",
            "6/6 [==============================] - 0s 12ms/step - loss: 0.1962 - accuracy: 1.0000 - val_loss: 0.4104 - val_accuracy: 0.8864\n",
            "Epoch 29/50\n",
            "6/6 [==============================] - 0s 12ms/step - loss: 0.1843 - accuracy: 1.0000 - val_loss: 0.4031 - val_accuracy: 0.8864\n",
            "Epoch 30/50\n",
            "6/6 [==============================] - 0s 12ms/step - loss: 0.1731 - accuracy: 1.0000 - val_loss: 0.3959 - val_accuracy: 0.8864\n",
            "Epoch 31/50\n",
            "6/6 [==============================] - 0s 12ms/step - loss: 0.1629 - accuracy: 1.0000 - val_loss: 0.3890 - val_accuracy: 0.8864\n",
            "Epoch 32/50\n",
            "6/6 [==============================] - 0s 12ms/step - loss: 0.1534 - accuracy: 1.0000 - val_loss: 0.3825 - val_accuracy: 0.8864\n",
            "Epoch 33/50\n",
            "6/6 [==============================] - 0s 12ms/step - loss: 0.1445 - accuracy: 1.0000 - val_loss: 0.3762 - val_accuracy: 0.8864\n",
            "Epoch 34/50\n",
            "6/6 [==============================] - 0s 12ms/step - loss: 0.1364 - accuracy: 1.0000 - val_loss: 0.3703 - val_accuracy: 0.8864\n",
            "Epoch 35/50\n",
            "6/6 [==============================] - 0s 17ms/step - loss: 0.1287 - accuracy: 1.0000 - val_loss: 0.3646 - val_accuracy: 0.8864\n",
            "Epoch 36/50\n",
            "6/6 [==============================] - 0s 12ms/step - loss: 0.1217 - accuracy: 1.0000 - val_loss: 0.3594 - val_accuracy: 0.8864\n",
            "Epoch 37/50\n",
            "6/6 [==============================] - 0s 13ms/step - loss: 0.1151 - accuracy: 1.0000 - val_loss: 0.3546 - val_accuracy: 0.8864\n",
            "Epoch 38/50\n",
            "6/6 [==============================] - 0s 13ms/step - loss: 0.1090 - accuracy: 1.0000 - val_loss: 0.3497 - val_accuracy: 0.8864\n",
            "Epoch 39/50\n",
            "6/6 [==============================] - 0s 12ms/step - loss: 0.1033 - accuracy: 1.0000 - val_loss: 0.3451 - val_accuracy: 0.8864\n",
            "Epoch 40/50\n",
            "6/6 [==============================] - 0s 12ms/step - loss: 0.0980 - accuracy: 1.0000 - val_loss: 0.3409 - val_accuracy: 0.8864\n",
            "Epoch 41/50\n",
            "6/6 [==============================] - 0s 12ms/step - loss: 0.0929 - accuracy: 1.0000 - val_loss: 0.3370 - val_accuracy: 0.8864\n",
            "Epoch 42/50\n",
            "6/6 [==============================] - 0s 12ms/step - loss: 0.0882 - accuracy: 1.0000 - val_loss: 0.3331 - val_accuracy: 0.8864\n",
            "Epoch 43/50\n",
            "6/6 [==============================] - 0s 12ms/step - loss: 0.0839 - accuracy: 1.0000 - val_loss: 0.3296 - val_accuracy: 0.8864\n",
            "Epoch 44/50\n",
            "6/6 [==============================] - 0s 13ms/step - loss: 0.0798 - accuracy: 1.0000 - val_loss: 0.3260 - val_accuracy: 0.8864\n",
            "Epoch 45/50\n",
            "6/6 [==============================] - 0s 12ms/step - loss: 0.0760 - accuracy: 1.0000 - val_loss: 0.3225 - val_accuracy: 0.8864\n",
            "Epoch 46/50\n",
            "6/6 [==============================] - 0s 12ms/step - loss: 0.0724 - accuracy: 1.0000 - val_loss: 0.3191 - val_accuracy: 0.8864\n",
            "Epoch 47/50\n",
            "6/6 [==============================] - 0s 12ms/step - loss: 0.0691 - accuracy: 1.0000 - val_loss: 0.3160 - val_accuracy: 0.8864\n",
            "Epoch 48/50\n",
            "6/6 [==============================] - 0s 13ms/step - loss: 0.0660 - accuracy: 1.0000 - val_loss: 0.3130 - val_accuracy: 0.8864\n",
            "Epoch 49/50\n",
            "6/6 [==============================] - 0s 14ms/step - loss: 0.0632 - accuracy: 1.0000 - val_loss: 0.3102 - val_accuracy: 0.8864\n",
            "Epoch 50/50\n",
            "6/6 [==============================] - 0s 12ms/step - loss: 0.0604 - accuracy: 1.0000 - val_loss: 0.3073 - val_accuracy: 0.8864\n"
          ]
        }
      ]
    },
    {
      "cell_type": "markdown",
      "metadata": {
        "id": "qH2ONjxtUHZc"
      },
      "source": [
        "## Здійснити порівняння ефективності моделей"
      ]
    },
    {
      "cell_type": "code",
      "metadata": {
        "id": "ROXko56mUHgl",
        "colab": {
          "base_uri": "https://localhost:8080/"
        },
        "outputId": "3cdd70b6-99c2-4cae-e002-c2a40c0d06f6"
      },
      "source": [
        "calculate_results(test_split['Label'], model_0.predict(test_split['Sentence']))"
      ],
      "execution_count": 18,
      "outputs": [
        {
          "output_type": "execute_result",
          "data": {
            "text/plain": [
              "{'accuracy': 86.36363636363636,\n",
              " 'f1': 0.8601398601398601,\n",
              " 'precision': 0.8918495297805642,\n",
              " 'recall': 0.8636363636363636}"
            ]
          },
          "metadata": {},
          "execution_count": 18
        }
      ]
    },
    {
      "cell_type": "code",
      "metadata": {
        "colab": {
          "base_uri": "https://localhost:8080/"
        },
        "id": "kzWiyKslihDP",
        "outputId": "5101e4d4-9ff4-486c-8b9d-2ba077d24a2c"
      },
      "source": [
        "calculate_results(test_split['Label'], tf.squeeze(tf.round(model_1.predict(test_split['Sentence']))))\n"
      ],
      "execution_count": 19,
      "outputs": [
        {
          "output_type": "execute_result",
          "data": {
            "text/plain": [
              "{'accuracy': 88.63636363636364,\n",
              " 'f1': 0.8854716711859569,\n",
              " 'precision': 0.8930652680652681,\n",
              " 'recall': 0.8863636363636364}"
            ]
          },
          "metadata": {},
          "execution_count": 19
        }
      ]
    },
    {
      "cell_type": "markdown",
      "metadata": {
        "id": "P0aMvjOrUHo0"
      },
      "source": [
        ""
      ]
    }
  ]
}