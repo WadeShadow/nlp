{
  "nbformat": 4,
  "nbformat_minor": 0,
  "metadata": {
    "colab": {
      "name": "Exam.ipynb",
      "provenance": [],
      "collapsed_sections": [],
      "include_colab_link": true
    },
    "kernelspec": {
      "name": "python3",
      "display_name": "Python 3"
    },
    "language_info": {
      "name": "python"
    },
    "accelerator": "GPU"
  },
  "cells": [
    {
      "cell_type": "markdown",
      "metadata": {
        "id": "view-in-github",
        "colab_type": "text"
      },
      "source": [
        "<a href=\"https://colab.research.google.com/github/WadeShadow/nlp2021/blob/main/Exam/Brekht.ipynb\" target=\"_parent\"><img src=\"https://colab.research.google.com/assets/colab-badge.svg\" alt=\"Open In Colab\"/></a>"
      ]
    },
    {
      "cell_type": "markdown",
      "source": [
        "## Брехт Андрій Олексійович\n",
        "---\n",
        "### Група: ТШІ-21\n",
        "### Варіант: 2\n",
        "---\n",
        "### Практичне завдання іспиту з дисципліни \"Методи обробки природномовної інформації\"\n",
        "### Дата складання: 13.12.2021р."
      ],
      "metadata": {
        "id": "UCXL5rb2FA1O"
      }
    },
    {
      "cell_type": "markdown",
      "source": [
        "---\n",
        "Варіант № 2\n",
        "\n",
        "Завдання:\n",
        "Розробити Jupyter Notebook для вирішення завдання класифікації тексту\n",
        "на основі набору даних:\n",
        "https://drive.google.com/drive/folders/1cYLsyazwxMUSICumvIhv5jGJe6K7iAHa?usp=sharing\n",
        "\n",
        "Забезпечити виконання наступних етапів:\n",
        "1. Завантаження та попередній аналіз даних.\n",
        "2. Створення тренувального та тестувального наборів даних.\n",
        "3. Попередню оцінку точності моделі за допомогою методу Naive Bayes.\n",
        "4. Вирішення задачі класифікації за допомогою методу GRU model.\n",
        "5. Графічне відображення тренування моделі.\n",
        "6. Порівняння результатів, отриманих у п.п. 3,4\n",
        "7. Висновки.\n",
        "\n",
        "Структура звітного документу:\n",
        "Заголовок роботи (Markdown: П.І.Б., група, назва роботи (Практичне завдання іспиту з дисципліни...), дата складання.)\n",
        "Етапи роботи (Номер та назва етапу (частини етапу),  код з коментарями.)\n",
        "\n",
        "Використати технології: Tensorflow, Google Colab.\n",
        "Результати викласти у форматі Brekht.ipynb у папку Exam репозиторію GitHub."
      ],
      "metadata": {
        "id": "L50vrhwU2oWC"
      }
    },
    {
      "cell_type": "markdown",
      "source": [
        "#Завантаження та попердній аналіз даних"
      ],
      "metadata": {
        "id": "2_r3a8uPJVue"
      }
    },
    {
      "cell_type": "code",
      "execution_count": null,
      "metadata": {
        "id": "2zqEjCj1YMlI"
      },
      "outputs": [],
      "source": [
        "import numpy as np\n",
        "import pandas as pd\n",
        "import tensorflow as tf, requests as rqst, io\n",
        "from tensorflow.keras.layers.experimental.preprocessing import TextVectorization\n",
        "from tensorflow.keras import layers\n",
        "from sklearn.model_selection import train_test_split\n",
        "\n",
        "rnd = np.random.randint"
      ]
    },
    {
      "cell_type": "code",
      "source": [
        "!wget https://raw.githubusercontent.com/mrdbourke/tensorflow-deep-learning/main/extras/helper_functions.py\n",
        "\n",
        "from helper_functions import unzip_data, create_tensorboard_callback, plot_loss_curves, compare_historys"
      ],
      "metadata": {
        "id": "kzUzI0nYYX_v",
        "colab": {
          "base_uri": "https://localhost:8080/"
        },
        "outputId": "25fa98a5-ad89-4006-f063-aa32ad179c19"
      },
      "execution_count": null,
      "outputs": [
        {
          "output_type": "stream",
          "name": "stdout",
          "text": [
            "--2021-12-13 08:14:14--  https://raw.githubusercontent.com/mrdbourke/tensorflow-deep-learning/main/extras/helper_functions.py\n",
            "Resolving raw.githubusercontent.com (raw.githubusercontent.com)... 185.199.109.133, 185.199.110.133, 185.199.108.133, ...\n",
            "Connecting to raw.githubusercontent.com (raw.githubusercontent.com)|185.199.109.133|:443... connected.\n",
            "HTTP request sent, awaiting response... 200 OK\n",
            "Length: 10246 (10K) [text/plain]\n",
            "Saving to: ‘helper_functions.py’\n",
            "\n",
            "\rhelper_functions.py   0%[                    ]       0  --.-KB/s               \rhelper_functions.py 100%[===================>]  10.01K  --.-KB/s    in 0s      \n",
            "\n",
            "2021-12-13 08:14:14 (68.3 MB/s) - ‘helper_functions.py’ saved [10246/10246]\n",
            "\n"
          ]
        }
      ]
    },
    {
      "cell_type": "code",
      "source": [
        "file = open('train_new.csv','r')\n",
        "new_file = open('train_new1.csv', 'w')\n",
        "for i, line in enumerate(file):\n",
        "  if i>930 and i<940:\n",
        "    continue\n",
        "  new_file.write(line)"
      ],
      "metadata": {
        "id": "aTASGOve3F5A"
      },
      "execution_count": null,
      "outputs": []
    },
    {
      "cell_type": "code",
      "source": [
        "training_data = pd.read_csv('train.csv', engine='python', error_bad_lines=False)\n",
        "val_data = pd.read_csv('valid.csv', engine='python', error_bad_lines=False)\n",
        "training_data\n",
        "val_data"
      ],
      "metadata": {
        "id": "uLWoUytTYl4p",
        "colab": {
          "base_uri": "https://localhost:8080/",
          "height": 459
        },
        "outputId": "a54048e2-79a8-4937-89fe-3d50b1eaefd3"
      },
      "execution_count": null,
      "outputs": [
        {
          "output_type": "stream",
          "name": "stderr",
          "text": [
            "Skipping line 937: unexpected end of data\n",
            "Skipping line 1017: unexpected end of data\n"
          ]
        },
        {
          "output_type": "execute_result",
          "data": {
            "text/html": [
              "<div>\n",
              "<style scoped>\n",
              "    .dataframe tbody tr th:only-of-type {\n",
              "        vertical-align: middle;\n",
              "    }\n",
              "\n",
              "    .dataframe tbody tr th {\n",
              "        vertical-align: top;\n",
              "    }\n",
              "\n",
              "    .dataframe thead th {\n",
              "        text-align: right;\n",
              "    }\n",
              "</style>\n",
              "<table border=\"1\" class=\"dataframe\">\n",
              "  <thead>\n",
              "    <tr style=\"text-align: right;\">\n",
              "      <th></th>\n",
              "      <th>Id</th>\n",
              "      <th>Title</th>\n",
              "      <th>Body</th>\n",
              "      <th>Tags</th>\n",
              "      <th>CreationDate</th>\n",
              "      <th>Y</th>\n",
              "    </tr>\n",
              "  </thead>\n",
              "  <tbody>\n",
              "    <tr>\n",
              "      <th>0</th>\n",
              "      <td>34552974</td>\n",
              "      <td>How to get all the child records from differen...</td>\n",
              "      <td>I am having 4 different tables like \\r\\nselect...</td>\n",
              "      <td>&lt;sql&gt;&lt;sql-server&gt;</td>\n",
              "      <td>2016-01-01 01:44:52</td>\n",
              "      <td>LQ_EDIT</td>\n",
              "    </tr>\n",
              "    <tr>\n",
              "      <th>1</th>\n",
              "      <td>34554721</td>\n",
              "      <td>Retrieve all except some data of the another t...</td>\n",
              "      <td>I have two table m_master and tbl_appointment\\...</td>\n",
              "      <td>&lt;php&gt;&lt;mysql&gt;&lt;sql&gt;&lt;codeigniter&gt;&lt;mysqli&gt;</td>\n",
              "      <td>2016-01-01 08:43:50</td>\n",
              "      <td>LQ_EDIT</td>\n",
              "    </tr>\n",
              "    <tr>\n",
              "      <th>2</th>\n",
              "      <td>34555135</td>\n",
              "      <td>Pandas: read_html</td>\n",
              "      <td>&lt;p&gt;I'm trying to extract US states from wiki U...</td>\n",
              "      <td>&lt;python&gt;&lt;pandas&gt;</td>\n",
              "      <td>2016-01-01 09:55:22</td>\n",
              "      <td>HQ</td>\n",
              "    </tr>\n",
              "    <tr>\n",
              "      <th>3</th>\n",
              "      <td>34555448</td>\n",
              "      <td>Reader Always gimme NULL</td>\n",
              "      <td>I'm so new to C#, I wanna make an application ...</td>\n",
              "      <td>&lt;sql-server&gt;&lt;c#-4.0&gt;</td>\n",
              "      <td>2016-01-01 10:43:45</td>\n",
              "      <td>LQ_EDIT</td>\n",
              "    </tr>\n",
              "    <tr>\n",
              "      <th>4</th>\n",
              "      <td>34555752</td>\n",
              "      <td>php rearrange array elements based on condition</td>\n",
              "      <td>basically i have this array:\\r\\n\\r\\n    array(...</td>\n",
              "      <td>&lt;php&gt;</td>\n",
              "      <td>2016-01-01 11:34:09</td>\n",
              "      <td>LQ_EDIT</td>\n",
              "    </tr>\n",
              "    <tr>\n",
              "      <th>...</th>\n",
              "      <td>...</td>\n",
              "      <td>...</td>\n",
              "      <td>...</td>\n",
              "      <td>...</td>\n",
              "      <td>...</td>\n",
              "      <td>...</td>\n",
              "    </tr>\n",
              "    <tr>\n",
              "      <th>1010</th>\n",
              "      <td>35745067</td>\n",
              "      <td>regex extract a text between string</td>\n",
              "      <td>&lt;p&gt;are not so expert with regex\\ni have this s...</td>\n",
              "      <td>&lt;regex&gt;&lt;vb.net&gt;</td>\n",
              "      <td>2016-03-02 10:50:27</td>\n",
              "      <td>LQ_CLOSE</td>\n",
              "    </tr>\n",
              "    <tr>\n",
              "      <th>1011</th>\n",
              "      <td>35747862</td>\n",
              "      <td>what does _doc represents in elasticsearch?</td>\n",
              "      <td>&lt;p&gt;I am still trying to figure out what does _...</td>\n",
              "      <td>&lt;elasticsearch&gt;</td>\n",
              "      <td>2016-03-02 12:56:10</td>\n",
              "      <td>HQ</td>\n",
              "    </tr>\n",
              "    <tr>\n",
              "      <th>1012</th>\n",
              "      <td>35748116</td>\n",
              "      <td>Babel ignore several directories</td>\n",
              "      <td>&lt;p&gt;I'm currently running Babel with a simple c...</td>\n",
              "      <td>&lt;javascript&gt;&lt;babeljs&gt;</td>\n",
              "      <td>2016-03-02 13:07:57</td>\n",
              "      <td>HQ</td>\n",
              "    </tr>\n",
              "    <tr>\n",
              "      <th>1013</th>\n",
              "      <td>35750407</td>\n",
              "      <td>PHP Sanitise Data</td>\n",
              "      <td>&lt;p&gt;Can't seem to sanitise php data&lt;/p&gt;\\n\\n&lt;pre...</td>\n",
              "      <td>&lt;php&gt;&lt;mysql&gt;</td>\n",
              "      <td>2016-03-02 14:44:23</td>\n",
              "      <td>LQ_CLOSE</td>\n",
              "    </tr>\n",
              "    <tr>\n",
              "      <th>1014</th>\n",
              "      <td>35750967</td>\n",
              "      <td>R: roxygen2, imported packages do not appear i...</td>\n",
              "      <td>&lt;p&gt;I have a file: import_packages.r in my proj...</td>\n",
              "      <td>&lt;r&gt;&lt;roxygen2&gt;&lt;roxygen&gt;</td>\n",
              "      <td>2016-03-02 15:08:15</td>\n",
              "      <td>HQ</td>\n",
              "    </tr>\n",
              "  </tbody>\n",
              "</table>\n",
              "<p>1015 rows × 6 columns</p>\n",
              "</div>"
            ],
            "text/plain": [
              "            Id  ...         Y\n",
              "0     34552974  ...   LQ_EDIT\n",
              "1     34554721  ...   LQ_EDIT\n",
              "2     34555135  ...        HQ\n",
              "3     34555448  ...   LQ_EDIT\n",
              "4     34555752  ...   LQ_EDIT\n",
              "...        ...  ...       ...\n",
              "1010  35745067  ...  LQ_CLOSE\n",
              "1011  35747862  ...        HQ\n",
              "1012  35748116  ...        HQ\n",
              "1013  35750407  ...  LQ_CLOSE\n",
              "1014  35750967  ...        HQ\n",
              "\n",
              "[1015 rows x 6 columns]"
            ]
          },
          "metadata": {},
          "execution_count": 35
        }
      ]
    },
    {
      "cell_type": "code",
      "source": [
        "training_data['Predict'] = training_data['Y']\n",
        "val_data['Predict'] = val_data['Y']\n",
        "\n",
        "training_data.replace({'Predict':{'LQ_EDIT':0,'HQ':1, 'LQ_CLOSE':2}}, inplace=True)\n",
        "val_data.replace({'Predict':{'LQ_EDIT':0,'HQ':1, 'LQ_CLOSE':2}}, inplace=True)\n",
        "training_data"
      ],
      "metadata": {
        "colab": {
          "base_uri": "https://localhost:8080/",
          "height": 597
        },
        "id": "hrrcq3Wx8I1Q",
        "outputId": "1bd50e10-ab15-4d9a-9b0a-e50f931798d2"
      },
      "execution_count": null,
      "outputs": [
        {
          "output_type": "execute_result",
          "data": {
            "text/html": [
              "<div>\n",
              "<style scoped>\n",
              "    .dataframe tbody tr th:only-of-type {\n",
              "        vertical-align: middle;\n",
              "    }\n",
              "\n",
              "    .dataframe tbody tr th {\n",
              "        vertical-align: top;\n",
              "    }\n",
              "\n",
              "    .dataframe thead th {\n",
              "        text-align: right;\n",
              "    }\n",
              "</style>\n",
              "<table border=\"1\" class=\"dataframe\">\n",
              "  <thead>\n",
              "    <tr style=\"text-align: right;\">\n",
              "      <th></th>\n",
              "      <th>Id</th>\n",
              "      <th>Title</th>\n",
              "      <th>Body</th>\n",
              "      <th>Tags</th>\n",
              "      <th>CreationDate</th>\n",
              "      <th>Y</th>\n",
              "      <th>Predict</th>\n",
              "    </tr>\n",
              "  </thead>\n",
              "  <tbody>\n",
              "    <tr>\n",
              "      <th>0</th>\n",
              "      <td>34552656</td>\n",
              "      <td>Java: Repeat Task Every Random Seconds</td>\n",
              "      <td>&lt;p&gt;I'm already familiar with repeating tasks e...</td>\n",
              "      <td>&lt;java&gt;&lt;repeat&gt;</td>\n",
              "      <td>2016-01-01 00:21:59</td>\n",
              "      <td>LQ_CLOSE</td>\n",
              "      <td>2</td>\n",
              "    </tr>\n",
              "    <tr>\n",
              "      <th>1</th>\n",
              "      <td>34553034</td>\n",
              "      <td>Why are Java Optionals immutable?</td>\n",
              "      <td>&lt;p&gt;I'd like to understand why Java 8 Optionals...</td>\n",
              "      <td>&lt;java&gt;&lt;optional&gt;</td>\n",
              "      <td>2016-01-01 02:03:20</td>\n",
              "      <td>HQ</td>\n",
              "      <td>1</td>\n",
              "    </tr>\n",
              "    <tr>\n",
              "      <th>2</th>\n",
              "      <td>34553174</td>\n",
              "      <td>Text Overlay Image with Darkened Opacity React...</td>\n",
              "      <td>&lt;p&gt;I am attempting to overlay a title over an ...</td>\n",
              "      <td>&lt;javascript&gt;&lt;image&gt;&lt;overlay&gt;&lt;react-native&gt;&lt;opa...</td>\n",
              "      <td>2016-01-01 02:48:24</td>\n",
              "      <td>HQ</td>\n",
              "      <td>1</td>\n",
              "    </tr>\n",
              "    <tr>\n",
              "      <th>3</th>\n",
              "      <td>34553318</td>\n",
              "      <td>Why ternary operator in swift is so picky?</td>\n",
              "      <td>&lt;p&gt;The question is very simple, but I just cou...</td>\n",
              "      <td>&lt;swift&gt;&lt;operators&gt;&lt;whitespace&gt;&lt;ternary-operato...</td>\n",
              "      <td>2016-01-01 03:30:17</td>\n",
              "      <td>HQ</td>\n",
              "      <td>1</td>\n",
              "    </tr>\n",
              "    <tr>\n",
              "      <th>4</th>\n",
              "      <td>34553755</td>\n",
              "      <td>hide/show fab with scale animation</td>\n",
              "      <td>&lt;p&gt;I'm using custom floatingactionmenu. I need...</td>\n",
              "      <td>&lt;android&gt;&lt;material-design&gt;&lt;floating-action-but...</td>\n",
              "      <td>2016-01-01 05:21:48</td>\n",
              "      <td>HQ</td>\n",
              "      <td>1</td>\n",
              "    </tr>\n",
              "    <tr>\n",
              "      <th>...</th>\n",
              "      <td>...</td>\n",
              "      <td>...</td>\n",
              "      <td>...</td>\n",
              "      <td>...</td>\n",
              "      <td>...</td>\n",
              "      <td>...</td>\n",
              "      <td>...</td>\n",
              "    </tr>\n",
              "    <tr>\n",
              "      <th>930</th>\n",
              "      <td>34892541</td>\n",
              "      <td>Notice \"Undifined Variable\"</td>\n",
              "      <td>&lt;p&gt;I am running a PHP script, and keep getting...</td>\n",
              "      <td>&lt;php&gt;</td>\n",
              "      <td>2016-01-20 05:57:59</td>\n",
              "      <td>LQ_CLOSE</td>\n",
              "      <td>2</td>\n",
              "    </tr>\n",
              "    <tr>\n",
              "      <th>931</th>\n",
              "      <td>34892601</td>\n",
              "      <td>what does the weak_alias function do and where...</td>\n",
              "      <td>&lt;p&gt;So I'm looking through the source of gcc co...</td>\n",
              "      <td>&lt;c&gt;&lt;linux&gt;&lt;gcc&gt;&lt;compiler-construction&gt;&lt;gnu&gt;</td>\n",
              "      <td>2016-01-20 06:02:20</td>\n",
              "      <td>HQ</td>\n",
              "      <td>1</td>\n",
              "    </tr>\n",
              "    <tr>\n",
              "      <th>932</th>\n",
              "      <td>34892696</td>\n",
              "      <td>how to show selected item in another activityi...</td>\n",
              "      <td>&lt;p&gt;I am new in android. My app is basically is...</td>\n",
              "      <td>&lt;android&gt;</td>\n",
              "      <td>2016-01-20 06:08:02</td>\n",
              "      <td>LQ_CLOSE</td>\n",
              "      <td>2</td>\n",
              "    </tr>\n",
              "    <tr>\n",
              "      <th>933</th>\n",
              "      <td>34893279</td>\n",
              "      <td>Spring Data Redis Expire Key</td>\n",
              "      <td>&lt;p&gt;I have a One Spring Hibernate Application. ...</td>\n",
              "      <td>&lt;java&gt;&lt;spring&gt;&lt;hibernate&gt;&lt;redis&gt;</td>\n",
              "      <td>2016-01-20 06:49:25</td>\n",
              "      <td>HQ</td>\n",
              "      <td>1</td>\n",
              "    </tr>\n",
              "    <tr>\n",
              "      <th>934</th>\n",
              "      <td>34893623</td>\n",
              "      <td>i want to conect a microcontroller to PC and p...</td>\n",
              "      <td>i want to connect a microcontroller to PC and ...</td>\n",
              "      <td>&lt;c#&gt;&lt;microcontroller&gt;&lt;naudio&gt;</td>\n",
              "      <td>2016-01-20 07:10:04</td>\n",
              "      <td>LQ_EDIT</td>\n",
              "      <td>0</td>\n",
              "    </tr>\n",
              "  </tbody>\n",
              "</table>\n",
              "<p>935 rows × 7 columns</p>\n",
              "</div>"
            ],
            "text/plain": [
              "           Id  ... Predict\n",
              "0    34552656  ...       2\n",
              "1    34553034  ...       1\n",
              "2    34553174  ...       1\n",
              "3    34553318  ...       1\n",
              "4    34553755  ...       1\n",
              "..        ...  ...     ...\n",
              "930  34892541  ...       2\n",
              "931  34892601  ...       1\n",
              "932  34892696  ...       2\n",
              "933  34893279  ...       1\n",
              "934  34893623  ...       0\n",
              "\n",
              "[935 rows x 7 columns]"
            ]
          },
          "metadata": {},
          "execution_count": 46
        }
      ]
    },
    {
      "cell_type": "markdown",
      "source": [
        "#Створення тренувального та тестувального наборів даних + Векторизація та Ембедінг"
      ],
      "metadata": {
        "id": "tMDXQAMHJflW"
      }
    },
    {
      "cell_type": "code",
      "source": [
        "train_set = training_data[['Body','Predict']].sample(frac=1)\n",
        "val_set = val_data[['Body','Predict']].sample(frac=1)\n",
        "train_set"
      ],
      "metadata": {
        "id": "2F-5Pt0x7SCv",
        "colab": {
          "base_uri": "https://localhost:8080/",
          "height": 424
        },
        "outputId": "46710a72-ea94-44be-d72a-132bc5315b2d"
      },
      "execution_count": null,
      "outputs": [
        {
          "output_type": "execute_result",
          "data": {
            "text/html": [
              "<div>\n",
              "<style scoped>\n",
              "    .dataframe tbody tr th:only-of-type {\n",
              "        vertical-align: middle;\n",
              "    }\n",
              "\n",
              "    .dataframe tbody tr th {\n",
              "        vertical-align: top;\n",
              "    }\n",
              "\n",
              "    .dataframe thead th {\n",
              "        text-align: right;\n",
              "    }\n",
              "</style>\n",
              "<table border=\"1\" class=\"dataframe\">\n",
              "  <thead>\n",
              "    <tr style=\"text-align: right;\">\n",
              "      <th></th>\n",
              "      <th>Body</th>\n",
              "      <th>Predict</th>\n",
              "    </tr>\n",
              "  </thead>\n",
              "  <tbody>\n",
              "    <tr>\n",
              "      <th>470</th>\n",
              "      <td>&lt;p&gt;I was wondering if it was possible in Java ...</td>\n",
              "      <td>2</td>\n",
              "    </tr>\n",
              "    <tr>\n",
              "      <th>211</th>\n",
              "      <td>def one_good_turn(n):\\r\\n    return n + 1\\r\\n ...</td>\n",
              "      <td>0</td>\n",
              "    </tr>\n",
              "    <tr>\n",
              "      <th>431</th>\n",
              "      <td>im new at coding cpp and i dont undertstand ho...</td>\n",
              "      <td>0</td>\n",
              "    </tr>\n",
              "    <tr>\n",
              "      <th>140</th>\n",
              "      <td>&lt;p&gt;I tried to do a program that random 10000 n...</td>\n",
              "      <td>2</td>\n",
              "    </tr>\n",
              "    <tr>\n",
              "      <th>321</th>\n",
              "      <td>&lt;p&gt;Im making an app/game in android studio. An...</td>\n",
              "      <td>2</td>\n",
              "    </tr>\n",
              "    <tr>\n",
              "      <th>...</th>\n",
              "      <td>...</td>\n",
              "      <td>...</td>\n",
              "    </tr>\n",
              "    <tr>\n",
              "      <th>880</th>\n",
              "      <td>I have this :\\r\\n\\r\\n    #include &lt;stdio.h&gt;\\r\\...</td>\n",
              "      <td>0</td>\n",
              "    </tr>\n",
              "    <tr>\n",
              "      <th>681</th>\n",
              "      <td>&lt;p&gt;My Jenkins box needs to access Stash and Ji...</td>\n",
              "      <td>1</td>\n",
              "    </tr>\n",
              "    <tr>\n",
              "      <th>412</th>\n",
              "      <td>&lt;p&gt;I have a global variable \"count\". All I wan...</td>\n",
              "      <td>2</td>\n",
              "    </tr>\n",
              "    <tr>\n",
              "      <th>186</th>\n",
              "      <td>&lt;p&gt;I am having problem with my ios air app, sh...</td>\n",
              "      <td>2</td>\n",
              "    </tr>\n",
              "    <tr>\n",
              "      <th>791</th>\n",
              "      <td>Im learning c++.\\r\\nI have my class complex: \\...</td>\n",
              "      <td>0</td>\n",
              "    </tr>\n",
              "  </tbody>\n",
              "</table>\n",
              "<p>935 rows × 2 columns</p>\n",
              "</div>"
            ],
            "text/plain": [
              "                                                  Body  Predict\n",
              "470  <p>I was wondering if it was possible in Java ...        2\n",
              "211  def one_good_turn(n):\\r\\n    return n + 1\\r\\n ...        0\n",
              "431  im new at coding cpp and i dont undertstand ho...        0\n",
              "140  <p>I tried to do a program that random 10000 n...        2\n",
              "321  <p>Im making an app/game in android studio. An...        2\n",
              "..                                                 ...      ...\n",
              "880  I have this :\\r\\n\\r\\n    #include <stdio.h>\\r\\...        0\n",
              "681  <p>My Jenkins box needs to access Stash and Ji...        1\n",
              "412  <p>I have a global variable \"count\". All I wan...        2\n",
              "186  <p>I am having problem with my ios air app, sh...        2\n",
              "791  Im learning c++.\\r\\nI have my class complex: \\...        0\n",
              "\n",
              "[935 rows x 2 columns]"
            ]
          },
          "metadata": {},
          "execution_count": 56
        }
      ]
    },
    {
      "cell_type": "code",
      "source": [
        "avg_length = round(sum([len(i.split()) for i in train_set['Body']])/len(train_set))\n",
        "avg_length"
      ],
      "metadata": {
        "colab": {
          "base_uri": "https://localhost:8080/"
        },
        "id": "379UXtUd_BfY",
        "outputId": "0b8473bb-8b58-4fcf-b771-8f9826408cd1"
      },
      "execution_count": null,
      "outputs": [
        {
          "output_type": "execute_result",
          "data": {
            "text/plain": [
              "113"
            ]
          },
          "metadata": {},
          "execution_count": 63
        }
      ]
    },
    {
      "cell_type": "code",
      "source": [
        "max_vocab_length = 10000\n",
        "\n",
        "text_vectorizer = TextVectorization(max_tokens=max_vocab_length,\n",
        "                                    output_mode=\"int\",\n",
        "                                    output_sequence_length=avg_length)\n",
        "\n",
        "text_vectorizer.adapt(train_set['Body'])\n",
        "\n",
        "text_vectorizer(train_set['Body'])"
      ],
      "metadata": {
        "colab": {
          "base_uri": "https://localhost:8080/"
        },
        "id": "sG15R3o172m2",
        "outputId": "4d7a9a7c-cf9f-447e-a3e0-e243e1be7e61"
      },
      "execution_count": null,
      "outputs": [
        {
          "output_type": "execute_result",
          "data": {
            "text/plain": [
              "<tf.Tensor: shape=(935, 113), dtype=int64, numpy=\n",
              "array([[  18,   98,  441, ...,    0,    0,    0],\n",
              "       [ 267,    1,   42, ...,    0,    0,    0],\n",
              "       [  58,   36,   34, ..., 2043, 1519, 2042],\n",
              "       ...,\n",
              "       [  18,   16,    5, ...,    0,    0,    0],\n",
              "       [  18,   28,  346, ...,    0,    0,    0],\n",
              "       [  58, 1017,   91, ...,    0,    0,    0]])>"
            ]
          },
          "metadata": {},
          "execution_count": 64
        }
      ]
    },
    {
      "cell_type": "code",
      "source": [
        "embedding = layers.Embedding(input_dim=max_vocab_length, \n",
        "                             output_dim=128, \n",
        "                             embeddings_initializer=\"uniform\",\n",
        "                             input_length=avg_length) \n",
        "\n",
        "embedding(text_vectorizer(train_set['Body']))"
      ],
      "metadata": {
        "colab": {
          "base_uri": "https://localhost:8080/"
        },
        "id": "lw3dfvm68AL0",
        "outputId": "e3ec3bd0-5d66-4301-f8e4-53d898308ffb"
      },
      "execution_count": null,
      "outputs": [
        {
          "output_type": "execute_result",
          "data": {
            "text/plain": [
              "<tf.Tensor: shape=(935, 113, 128), dtype=float32, numpy=\n",
              "array([[[ 0.00653668,  0.01393073,  0.02282676, ..., -0.03057443,\n",
              "          0.01435179, -0.01437119],\n",
              "        [-0.00830965,  0.03968051, -0.03321201, ...,  0.02701988,\n",
              "         -0.00878114,  0.03636404],\n",
              "        [-0.03674699,  0.00494296,  0.03363765, ...,  0.01554285,\n",
              "         -0.03965672,  0.04102136],\n",
              "        ...,\n",
              "        [ 0.00623541, -0.03515131, -0.04980059, ...,  0.01085637,\n",
              "         -0.0125587 ,  0.04800088],\n",
              "        [ 0.00623541, -0.03515131, -0.04980059, ...,  0.01085637,\n",
              "         -0.0125587 ,  0.04800088],\n",
              "        [ 0.00623541, -0.03515131, -0.04980059, ...,  0.01085637,\n",
              "         -0.0125587 ,  0.04800088]],\n",
              "\n",
              "       [[ 0.02702696, -0.03015264,  0.04243927, ..., -0.00235766,\n",
              "         -0.04499655, -0.04163764],\n",
              "        [ 0.04502426, -0.04832106,  0.0063551 , ...,  0.04780358,\n",
              "          0.03976606, -0.00373094],\n",
              "        [-0.03683449,  0.0210145 , -0.02751356, ..., -0.04111754,\n",
              "          0.00322573,  0.04403928],\n",
              "        ...,\n",
              "        [ 0.00623541, -0.03515131, -0.04980059, ...,  0.01085637,\n",
              "         -0.0125587 ,  0.04800088],\n",
              "        [ 0.00623541, -0.03515131, -0.04980059, ...,  0.01085637,\n",
              "         -0.0125587 ,  0.04800088],\n",
              "        [ 0.00623541, -0.03515131, -0.04980059, ...,  0.01085637,\n",
              "         -0.0125587 ,  0.04800088]],\n",
              "\n",
              "       [[-0.0010797 , -0.04008234, -0.02055159, ..., -0.0225077 ,\n",
              "         -0.04256767, -0.04357674],\n",
              "        [ 0.0393927 , -0.00374246, -0.0361917 , ...,  0.01866125,\n",
              "          0.0258762 ,  0.00738267],\n",
              "        [-0.03447324,  0.03119637, -0.03824778, ..., -0.0140708 ,\n",
              "          0.00934628,  0.01587801],\n",
              "        ...,\n",
              "        [ 0.02977523, -0.03385873,  0.02845237, ...,  0.03609239,\n",
              "         -0.00241048, -0.04073365],\n",
              "        [ 0.00676978,  0.00446024, -0.01937243, ..., -0.00663882,\n",
              "         -0.02659508,  0.0162662 ],\n",
              "        [-0.02816787,  0.02462341, -0.02188554, ..., -0.02118688,\n",
              "          0.00329608, -0.04129023]],\n",
              "\n",
              "       ...,\n",
              "\n",
              "       [[ 0.00653668,  0.01393073,  0.02282676, ..., -0.03057443,\n",
              "          0.01435179, -0.01437119],\n",
              "        [-0.03861064, -0.01069719, -0.0117223 , ...,  0.00069516,\n",
              "          0.03967427, -0.03900902],\n",
              "        [-0.01148631,  0.03492745,  0.00145686, ...,  0.02237045,\n",
              "          0.02726648, -0.01384421],\n",
              "        ...,\n",
              "        [ 0.00623541, -0.03515131, -0.04980059, ...,  0.01085637,\n",
              "         -0.0125587 ,  0.04800088],\n",
              "        [ 0.00623541, -0.03515131, -0.04980059, ...,  0.01085637,\n",
              "         -0.0125587 ,  0.04800088],\n",
              "        [ 0.00623541, -0.03515131, -0.04980059, ...,  0.01085637,\n",
              "         -0.0125587 ,  0.04800088]],\n",
              "\n",
              "       [[ 0.00653668,  0.01393073,  0.02282676, ..., -0.03057443,\n",
              "          0.01435179, -0.01437119],\n",
              "        [ 0.0349836 , -0.04689571,  0.02220208, ...,  0.02078367,\n",
              "         -0.00493884,  0.00788435],\n",
              "        [ 0.01258422, -0.02950461, -0.0098003 , ...,  0.04798393,\n",
              "          0.00273434, -0.00487281],\n",
              "        ...,\n",
              "        [ 0.00623541, -0.03515131, -0.04980059, ...,  0.01085637,\n",
              "         -0.0125587 ,  0.04800088],\n",
              "        [ 0.00623541, -0.03515131, -0.04980059, ...,  0.01085637,\n",
              "         -0.0125587 ,  0.04800088],\n",
              "        [ 0.00623541, -0.03515131, -0.04980059, ...,  0.01085637,\n",
              "         -0.0125587 ,  0.04800088]],\n",
              "\n",
              "       [[-0.0010797 , -0.04008234, -0.02055159, ..., -0.0225077 ,\n",
              "         -0.04256767, -0.04357674],\n",
              "        [ 0.00751247,  0.03216659, -0.02776691, ..., -0.00802659,\n",
              "         -0.01778898, -0.01610017],\n",
              "        [-0.0261079 ,  0.01116762, -0.02106293, ...,  0.01820126,\n",
              "         -0.03801049,  0.04628238],\n",
              "        ...,\n",
              "        [ 0.00623541, -0.03515131, -0.04980059, ...,  0.01085637,\n",
              "         -0.0125587 ,  0.04800088],\n",
              "        [ 0.00623541, -0.03515131, -0.04980059, ...,  0.01085637,\n",
              "         -0.0125587 ,  0.04800088],\n",
              "        [ 0.00623541, -0.03515131, -0.04980059, ...,  0.01085637,\n",
              "         -0.0125587 ,  0.04800088]]], dtype=float32)>"
            ]
          },
          "metadata": {},
          "execution_count": 65
        }
      ]
    },
    {
      "cell_type": "markdown",
      "source": [
        "#Попередню оцінка точності моделі за допомогою методу Naive Bayes."
      ],
      "metadata": {
        "id": "X6gw0lYWJ44p"
      }
    },
    {
      "cell_type": "code",
      "source": [
        "from sklearn.feature_extraction.text import TfidfVectorizer\n",
        "from sklearn.naive_bayes import MultinomialNB\n",
        "from sklearn.pipeline import Pipeline\n",
        "\n",
        "model_0 = Pipeline([(\"tfidf\", TfidfVectorizer()), (\"clf\", MultinomialNB())])\n",
        "\n",
        "model_0.fit(train_set['Body'], train_set['Predict'])"
      ],
      "metadata": {
        "colab": {
          "base_uri": "https://localhost:8080/"
        },
        "id": "wgAx0E7oA1ic",
        "outputId": "83ea3597-e884-4728-b6cc-ed8dcdf73ed4"
      },
      "execution_count": null,
      "outputs": [
        {
          "output_type": "execute_result",
          "data": {
            "text/plain": [
              "Pipeline(steps=[('tfidf', TfidfVectorizer()), ('clf', MultinomialNB())])"
            ]
          },
          "metadata": {},
          "execution_count": 70
        }
      ]
    },
    {
      "cell_type": "code",
      "source": [
        "baseline_score = model_0.score(val_set['Body'], val_set['Predict'])\n",
        "print(f\"Our baseline model achieves an accuracy of: {baseline_score*100:.2f}%\")"
      ],
      "metadata": {
        "colab": {
          "base_uri": "https://localhost:8080/"
        },
        "id": "k6Kf9lqxA_hr",
        "outputId": "a1aab2c4-55b0-4388-f59a-82a81e30ea05"
      },
      "execution_count": null,
      "outputs": [
        {
          "output_type": "stream",
          "name": "stdout",
          "text": [
            "Our baseline model achieves an accuracy of: 44.53%\n"
          ]
        }
      ]
    },
    {
      "cell_type": "code",
      "source": [
        "baseline_preds = model_0.predict(val_set['Body'])\n",
        "baseline_preds"
      ],
      "metadata": {
        "colab": {
          "base_uri": "https://localhost:8080/"
        },
        "id": "sAE4G08ODWbF",
        "outputId": "c0a483b9-8d12-4804-d3f1-af385d2996cd"
      },
      "execution_count": null,
      "outputs": [
        {
          "output_type": "execute_result",
          "data": {
            "text/plain": [
              "array([1, 1, 1, ..., 1, 1, 1])"
            ]
          },
          "metadata": {},
          "execution_count": 110
        }
      ]
    },
    {
      "cell_type": "markdown",
      "source": [
        "#Вирішення задачі класифікації за допомогою методу GRU"
      ],
      "metadata": {
        "id": "bCLiiHBXKED8"
      }
    },
    {
      "cell_type": "code",
      "source": [
        "from sklearn.metrics import accuracy_score, precision_recall_fscore_support\n",
        "\n",
        "def calculate_results(y_true, y_pred):\n",
        "  \"\"\"\n",
        "  Calculates model accuracy, precision, recall and f1 score of a binary classification model.\n",
        "\n",
        "  Args:\n",
        "  -----\n",
        "  y_true = true labels in the form of a 1D array\n",
        "  y_pred = predicted labels in the form of a 1D array\n",
        "\n",
        "  Returns a dictionary of accuracy, precision, recall, f1-score.\n",
        "  \"\"\"\n",
        "  # Calculate model accuracy\n",
        "  model_accuracy = accuracy_score(y_true, y_pred) * 100\n",
        "  # Calculate model precision, recall and f1 score using \"weighted\" average\n",
        "  model_precision, model_recall, model_f1, _ = precision_recall_fscore_support(y_true, y_pred, average=\"weighted\")\n",
        "  model_results = {\"accuracy\": model_accuracy,\n",
        "                  \"precision\": model_precision,\n",
        "                  \"recall\": model_recall,\n",
        "                  \"f1\": model_f1}\n",
        "  return model_results"
      ],
      "metadata": {
        "id": "-OqxbgkkC7Km"
      },
      "execution_count": null,
      "outputs": []
    },
    {
      "cell_type": "code",
      "source": [
        "from tensorflow.keras import layers\n",
        "inputs = layers.Input(shape=(1,), dtype=\"string\")\n",
        "x = text_vectorizer(inputs)\n",
        "x = embedding(x)\n",
        "x = layers.GRU(128)(x)\n",
        "x = layers.Dense(128, activation=\"sigmoid\")(x) \n",
        "outputs = layers.Dense(3, activation=\"softmax\")(x)\n",
        "model_gru = tf.keras.Model(inputs, outputs, name=\"model_GRU\")"
      ],
      "metadata": {
        "id": "ZYG6P2IFJPLF"
      },
      "execution_count": null,
      "outputs": []
    },
    {
      "cell_type": "code",
      "source": [
        "model_gru.compile(loss=\"sparse_categorical_crossentropy\",\n",
        "                optimizer=tf.keras.optimizers.Adam(),\n",
        "                metrics=[\"accuracy\"])"
      ],
      "metadata": {
        "id": "Dd-ufOZvLkEp"
      },
      "execution_count": null,
      "outputs": []
    },
    {
      "cell_type": "code",
      "source": [
        "model_gru.summary()"
      ],
      "metadata": {
        "colab": {
          "base_uri": "https://localhost:8080/"
        },
        "id": "09RejsF9LtHl",
        "outputId": "b2f1b271-46c6-461a-ed64-7fcb2943609c"
      },
      "execution_count": null,
      "outputs": [
        {
          "output_type": "stream",
          "name": "stdout",
          "text": [
            "Model: \"model_GRU\"\n",
            "_________________________________________________________________\n",
            " Layer (type)                Output Shape              Param #   \n",
            "=================================================================\n",
            " input_2 (InputLayer)        [(None, 1)]               0         \n",
            "                                                                 \n",
            " text_vectorization (TextVec  (None, 113)              0         \n",
            " torization)                                                     \n",
            "                                                                 \n",
            " embedding (Embedding)       (None, 113, 128)          1280000   \n",
            "                                                                 \n",
            " gru_1 (GRU)                 (None, 128)               99072     \n",
            "                                                                 \n",
            " dense_2 (Dense)             (None, 128)               16512     \n",
            "                                                                 \n",
            " dense_3 (Dense)             (None, 3)                 387       \n",
            "                                                                 \n",
            "=================================================================\n",
            "Total params: 1,395,971\n",
            "Trainable params: 1,395,971\n",
            "Non-trainable params: 0\n",
            "_________________________________________________________________\n"
          ]
        }
      ]
    },
    {
      "cell_type": "code",
      "source": [
        "model_gru_history = model_gru.fit(train_set['Body'], train_set['Predict'],\n",
        "                              epochs=30,\n",
        "                              validation_data=(val_set['Body'], val_set['Predict']))"
      ],
      "metadata": {
        "colab": {
          "base_uri": "https://localhost:8080/"
        },
        "id": "tEJz1qG0L8Tp",
        "outputId": "f43d7123-3b78-48de-cc3b-3427ee8b8f1c"
      },
      "execution_count": null,
      "outputs": [
        {
          "output_type": "stream",
          "name": "stdout",
          "text": [
            "Epoch 1/30\n",
            "30/30 [==============================] - 4s 67ms/step - loss: 0.9892 - accuracy: 0.4866 - val_loss: 1.0138 - val_accuracy: 0.4621\n",
            "Epoch 2/30\n",
            "30/30 [==============================] - 1s 49ms/step - loss: 0.5041 - accuracy: 0.7487 - val_loss: 1.2031 - val_accuracy: 0.4759\n",
            "Epoch 3/30\n",
            "30/30 [==============================] - 1s 49ms/step - loss: 0.4073 - accuracy: 0.7754 - val_loss: 1.3493 - val_accuracy: 0.5340\n",
            "Epoch 4/30\n",
            "30/30 [==============================] - 1s 49ms/step - loss: 0.4002 - accuracy: 0.7850 - val_loss: 1.1947 - val_accuracy: 0.5547\n",
            "Epoch 5/30\n",
            "30/30 [==============================] - 1s 48ms/step - loss: 0.3671 - accuracy: 0.8631 - val_loss: 1.1473 - val_accuracy: 0.4847\n",
            "Epoch 6/30\n",
            "30/30 [==============================] - 1s 49ms/step - loss: 0.2902 - accuracy: 0.8727 - val_loss: 1.4634 - val_accuracy: 0.6108\n",
            "Epoch 7/30\n",
            "30/30 [==============================] - 1s 48ms/step - loss: 0.1233 - accuracy: 0.9701 - val_loss: 1.6350 - val_accuracy: 0.5882\n",
            "Epoch 8/30\n",
            "30/30 [==============================] - 1s 49ms/step - loss: 0.4752 - accuracy: 0.8471 - val_loss: 1.0957 - val_accuracy: 0.5813\n",
            "Epoch 9/30\n",
            "30/30 [==============================] - 1s 48ms/step - loss: 0.2619 - accuracy: 0.9594 - val_loss: 1.1922 - val_accuracy: 0.6079\n",
            "Epoch 10/30\n",
            "30/30 [==============================] - 1s 49ms/step - loss: 0.0557 - accuracy: 0.9904 - val_loss: 1.4294 - val_accuracy: 0.6207\n",
            "Epoch 11/30\n",
            "30/30 [==============================] - 1s 49ms/step - loss: 0.0306 - accuracy: 0.9936 - val_loss: 1.5758 - val_accuracy: 0.6030\n",
            "Epoch 12/30\n",
            "30/30 [==============================] - 1s 49ms/step - loss: 0.0204 - accuracy: 0.9979 - val_loss: 1.5943 - val_accuracy: 0.6069\n",
            "Epoch 13/30\n",
            "30/30 [==============================] - 1s 49ms/step - loss: 0.0182 - accuracy: 0.9979 - val_loss: 1.6502 - val_accuracy: 0.6177\n",
            "Epoch 14/30\n",
            "30/30 [==============================] - 2s 57ms/step - loss: 0.0175 - accuracy: 0.9979 - val_loss: 1.7117 - val_accuracy: 0.6207\n",
            "Epoch 15/30\n",
            "30/30 [==============================] - 1s 49ms/step - loss: 0.0171 - accuracy: 0.9979 - val_loss: 1.7271 - val_accuracy: 0.6227\n",
            "Epoch 16/30\n",
            "30/30 [==============================] - 1s 49ms/step - loss: 0.0165 - accuracy: 0.9979 - val_loss: 1.8497 - val_accuracy: 0.6079\n",
            "Epoch 17/30\n",
            "30/30 [==============================] - 1s 49ms/step - loss: 0.0179 - accuracy: 0.9979 - val_loss: 1.8590 - val_accuracy: 0.6158\n",
            "Epoch 18/30\n",
            "30/30 [==============================] - 1s 49ms/step - loss: 0.0168 - accuracy: 0.9979 - val_loss: 1.8718 - val_accuracy: 0.6207\n",
            "Epoch 19/30\n",
            "30/30 [==============================] - 1s 49ms/step - loss: 0.0227 - accuracy: 0.9968 - val_loss: 1.8796 - val_accuracy: 0.6167\n",
            "Epoch 20/30\n",
            "30/30 [==============================] - 1s 50ms/step - loss: 0.0166 - accuracy: 0.9979 - val_loss: 1.9182 - val_accuracy: 0.6187\n",
            "Epoch 21/30\n",
            "30/30 [==============================] - 1s 49ms/step - loss: 0.0161 - accuracy: 0.9979 - val_loss: 1.9613 - val_accuracy: 0.6187\n",
            "Epoch 22/30\n",
            "30/30 [==============================] - 1s 50ms/step - loss: 0.0161 - accuracy: 0.9979 - val_loss: 1.9896 - val_accuracy: 0.6217\n",
            "Epoch 23/30\n",
            "30/30 [==============================] - 1s 49ms/step - loss: 0.0158 - accuracy: 0.9979 - val_loss: 2.0289 - val_accuracy: 0.6217\n",
            "Epoch 24/30\n",
            "30/30 [==============================] - 1s 49ms/step - loss: 0.0156 - accuracy: 0.9979 - val_loss: 2.0521 - val_accuracy: 0.6187\n",
            "Epoch 25/30\n",
            "30/30 [==============================] - 1s 49ms/step - loss: 0.0154 - accuracy: 0.9979 - val_loss: 2.0867 - val_accuracy: 0.6138\n",
            "Epoch 26/30\n",
            "30/30 [==============================] - 1s 49ms/step - loss: 0.0153 - accuracy: 0.9979 - val_loss: 2.0927 - val_accuracy: 0.6099\n",
            "Epoch 27/30\n",
            "30/30 [==============================] - 1s 50ms/step - loss: 0.0154 - accuracy: 0.9979 - val_loss: 2.1413 - val_accuracy: 0.6089\n",
            "Epoch 28/30\n",
            "30/30 [==============================] - 1s 49ms/step - loss: 0.0152 - accuracy: 0.9979 - val_loss: 2.1330 - val_accuracy: 0.6108\n",
            "Epoch 29/30\n",
            "30/30 [==============================] - 1s 49ms/step - loss: 0.0153 - accuracy: 0.9979 - val_loss: 2.1842 - val_accuracy: 0.6128\n",
            "Epoch 30/30\n",
            "30/30 [==============================] - 1s 49ms/step - loss: 0.0149 - accuracy: 0.9979 - val_loss: 2.1400 - val_accuracy: 0.6148\n"
          ]
        }
      ]
    },
    {
      "cell_type": "code",
      "source": [
        "model_gru_pred_probs = model_gru.predict(val_set['Body'])"
      ],
      "metadata": {
        "id": "lWlKaVtBMQx-"
      },
      "execution_count": null,
      "outputs": []
    },
    {
      "cell_type": "code",
      "source": [
        "model_gru_preds = tf.squeeze(tf.argmax(model_gru_pred_probs, axis = 1))\n",
        "model_gru_preds"
      ],
      "metadata": {
        "colab": {
          "base_uri": "https://localhost:8080/"
        },
        "id": "qTynEMAbMv5S",
        "outputId": "bc98614d-fd24-4714-fba7-adb55b79ff07"
      },
      "execution_count": null,
      "outputs": [
        {
          "output_type": "execute_result",
          "data": {
            "text/plain": [
              "<tf.Tensor: shape=(1015,), dtype=int64, numpy=array([2, 1, 2, ..., 1, 1, 1])>"
            ]
          },
          "metadata": {},
          "execution_count": 90
        }
      ]
    },
    {
      "cell_type": "markdown",
      "source": [
        "#Графічне відображення тренування моделі."
      ],
      "metadata": {
        "id": "KVheflfXKZtJ"
      }
    },
    {
      "cell_type": "code",
      "source": [
        "from matplotlib import pyplot as plt\n",
        "\n",
        "def plot_history(history): \n",
        "    plt.plot(history.history['accuracy'])\n",
        "    plt.plot(history.history['val_accuracy'])\n",
        "    plt.title('model accuracy')\n",
        "    plt.ylabel('accuracy')\n",
        "    plt.xlabel('epoch')\n",
        "    plt.legend(['train', 'test'], loc='upper left')\n",
        "    plt.show()\n",
        "    plt.plot(history.history['loss'])\n",
        "    plt.plot(history.history['val_loss'])\n",
        "    plt.title('model loss')\n",
        "    plt.ylabel('loss')\n",
        "    plt.xlabel('epoch')\n",
        "    plt.legend(['train', 'test'], loc='upper left')\n",
        "    plt.show()"
      ],
      "metadata": {
        "id": "kuUvEMAXKjsf"
      },
      "execution_count": null,
      "outputs": []
    },
    {
      "cell_type": "code",
      "source": [
        "plot_history(model_gru_history)"
      ],
      "metadata": {
        "colab": {
          "base_uri": "https://localhost:8080/",
          "height": 573
        },
        "id": "ICO2wcH8Nu7U",
        "outputId": "6fbbfba5-a8ec-48af-cd4e-6cce042e8df2"
      },
      "execution_count": null,
      "outputs": [
        {
          "output_type": "display_data",
          "data": {
            "image/png": "[encoded data removed]",
            "text/plain": [
              "<Figure size 432x288 with 1 Axes>"
            ]
          },
          "metadata": {
            "needs_background": "light"
          }
        },
        {
          "output_type": "display_data",
          "data": {
            "image/png": "[encoded data removed]",
            "text/plain": [
              "<Figure size 432x288 with 1 Axes>"
            ]
          },
          "metadata": {
            "needs_background": "light"
          }
        }
      ]
    },
    {
      "cell_type": "markdown",
      "source": [
        "#Порівняння результатів моделей"
      ],
      "metadata": {
        "id": "ZPVaXNQdKdA7"
      }
    },
    {
      "cell_type": "code",
      "source": [
        "def compare_base_model_to_new_model(baseline_results, new_model_results):\n",
        "  for key, value in baseline_results.items():\n",
        "    print(f\"Base model {key.upper()}: {value:.2f}, New model {key.upper()}: {new_model_results[key]:.2f}, Relative Improvement: {(new_model_results[key]/value-1)*100:.1f}%\")"
      ],
      "metadata": {
        "id": "YmUlDomeKndE"
      },
      "execution_count": null,
      "outputs": []
    },
    {
      "cell_type": "code",
      "source": [
        "baseline_results = calculate_results(y_true=val_set['Predict'],\n",
        "                                     y_pred=baseline_preds)\n",
        "baseline_results"
      ],
      "metadata": {
        "colab": {
          "base_uri": "https://localhost:8080/"
        },
        "id": "AmT1WUI5BDYG",
        "outputId": "a62356c9-9c54-43fc-f712-815cae5fd889"
      },
      "execution_count": null,
      "outputs": [
        {
          "output_type": "execute_result",
          "data": {
            "text/plain": [
              "{'accuracy': 44.532019704433495,\n",
              " 'f1': 0.30008091726449565,\n",
              " 'precision': 0.58606453653907,\n",
              " 'recall': 0.44532019704433495}"
            ]
          },
          "metadata": {},
          "execution_count": 140
        }
      ]
    },
    {
      "cell_type": "code",
      "source": [
        "model_gru_results = calculate_results(y_true=val_set['Predict'],\n",
        "                                    y_pred=model_gru_preds)\n",
        "model_gru_results"
      ],
      "metadata": {
        "colab": {
          "base_uri": "https://localhost:8080/"
        },
        "id": "oCbPw0JBMQrz",
        "outputId": "8847acd9-5714-4b63-be88-19455ce37703"
      },
      "execution_count": null,
      "outputs": [
        {
          "output_type": "execute_result",
          "data": {
            "text/plain": [
              "{'accuracy': 61.47783251231527,\n",
              " 'f1': 0.6053631410952326,\n",
              " 'precision': 0.6134405089813897,\n",
              " 'recall': 0.6147783251231527}"
            ]
          },
          "metadata": {},
          "execution_count": 141
        }
      ]
    },
    {
      "cell_type": "code",
      "source": [
        "compare_base_model_to_new_model(baseline_results, model_gru_results)"
      ],
      "metadata": {
        "colab": {
          "base_uri": "https://localhost:8080/"
        },
        "id": "oCLJz1zBOd63",
        "outputId": "00ef7ff6-bc50-4d5e-8feb-195905418dec"
      },
      "execution_count": null,
      "outputs": [
        {
          "output_type": "stream",
          "name": "stdout",
          "text": [
            "Base model ACCURACY: 44.53, New model ACCURACY: 61.48, Relative Improvement: 38.1%\n",
            "Base model PRECISION: 0.59, New model PRECISION: 0.61, Relative Improvement: 4.7%\n",
            "Base model RECALL: 0.45, New model RECALL: 0.61, Relative Improvement: 38.1%\n",
            "Base model F1: 0.30, New model F1: 0.61, Relative Improvement: 101.7%\n"
          ]
        }
      ]
    },
    {
      "cell_type": "code",
      "source": [
        ""
      ],
      "metadata": {
        "id": "PRgG-D3gElcT"
      },
      "execution_count": null,
      "outputs": []
    }
  ]
}