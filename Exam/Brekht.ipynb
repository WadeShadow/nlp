{
  "nbformat": 4,
  "nbformat_minor": 0,
  "metadata": {
    "colab": {
      "name": "Exam.ipynb",
      "provenance": [],
      "collapsed_sections": [],
      "include_colab_link": true
    },
    "kernelspec": {
      "name": "python3",
      "display_name": "Python 3"
    },
    "language_info": {
      "name": "python"
    },
    "accelerator": "GPU"
  },
  "cells": [
    {
      "cell_type": "markdown",
      "metadata": {
        "id": "view-in-github",
        "colab_type": "text"
      },
      "source": [
        "<a href=\"https://colab.research.google.com/github/WadeShadow/nlp2021/blob/main/Exam/Brekht.ipynb\" target=\"_parent\"><img src=\"https://colab.research.google.com/assets/colab-badge.svg\" alt=\"Open In Colab\"/></a>"
      ]
    },
    {
      "cell_type": "markdown",
      "source": [
        "## Брехт Андрій Олексійович\n",
        "---\n",
        "### Група: ТШІ-21\n",
        "### Варіант: 2\n",
        "---\n",
        "### Практичне завдання іспиту з дисципліни \"Методи обробки природномовної інформації\"\n",
        "### Дата складання: 13.12.2021р."
      ],
      "metadata": {
        "id": "UCXL5rb2FA1O"
      }
    },
    {
      "cell_type": "markdown",
      "source": [
        "---\n",
        "Варіант № 2\n",
        "\n",
        "Завдання:\n",
        "Розробити Jupyter Notebook для вирішення завдання класифікації тексту\n",
        "на основі набору даних:\n",
        "https://drive.google.com/drive/folders/1cYLsyazwxMUSICumvIhv5jGJe6K7iAHa?usp=sharing\n",
        "\n",
        "Забезпечити виконання наступних етапів:\n",
        "1. Завантаження та попередній аналіз даних.\n",
        "2. Створення тренувального та тестувального наборів даних.\n",
        "3. Попередню оцінку точності моделі за допомогою методу Naive Bayes.\n",
        "4. Вирішення задачі класифікації за допомогою методу GRU model.\n",
        "5. Графічне відображення тренування моделі.\n",
        "6. Порівняння результатів, отриманих у п.п. 3,4\n",
        "7. Висновки.\n",
        "\n",
        "Структура звітного документу:\n",
        "Заголовок роботи (Markdown: П.І.Б., група, назва роботи (Практичне завдання іспиту з дисципліни...), дата складання.)\n",
        "Етапи роботи (Номер та назва етапу (частини етапу),  код з коментарями.)\n",
        "\n",
        "Використати технології: Tensorflow, Google Colab.\n",
        "Результати викласти у форматі Brekht.ipynb у папку Exam репозиторію GitHub."
      ],
      "metadata": {
        "id": "L50vrhwU2oWC"
      }
    },
    {
      "cell_type": "markdown",
      "source": [
        "#Завантаження та попердній аналіз даних"
      ],
      "metadata": {
        "id": "2_r3a8uPJVue"
      }
    },
    {
      "cell_type": "code",
      "execution_count": null,
      "metadata": {
        "id": "2zqEjCj1YMlI"
      },
      "outputs": [],
      "source": [
        "import numpy as np\n",
        "import pandas as pd\n",
        "import tensorflow as tf, requests as rqst, io\n",
        "from tensorflow.keras.layers.experimental.preprocessing import TextVectorization\n",
        "from tensorflow.keras import layers\n",
        "from sklearn.model_selection import train_test_split\n",
        "\n",
        "rnd = np.random.randint"
      ]
    },
    {
      "cell_type": "code",
      "source": [
        "!wget https://raw.githubusercontent.com/mrdbourke/tensorflow-deep-learning/main/extras/helper_functions.py\n",
        "\n",
        "from helper_functions import unzip_data, create_tensorboard_callback, plot_loss_curves, compare_historys"
      ],
      "metadata": {
        "id": "kzUzI0nYYX_v",
        "colab": {
          "base_uri": "https://localhost:8080/"
        },
        "outputId": "25fa98a5-ad89-4006-f063-aa32ad179c19"
      },
      "execution_count": null,
      "outputs": [
        {
          "output_type": "stream",
          "name": "stdout",
          "text": [
            "--2021-12-13 08:14:14--  https://raw.githubusercontent.com/mrdbourke/tensorflow-deep-learning/main/extras/helper_functions.py\n",
            "Resolving raw.githubusercontent.com (raw.githubusercontent.com)... 185.199.109.133, 185.199.110.133, 185.199.108.133, ...\n",
            "Connecting to raw.githubusercontent.com (raw.githubusercontent.com)|185.199.109.133|:443... connected.\n",
            "HTTP request sent, awaiting response... 200 OK\n",
            "Length: 10246 (10K) [text/plain]\n",
            "Saving to: ‘helper_functions.py’\n",
            "\n",
            "\rhelper_functions.py   0%[                    ]       0  --.-KB/s               \rhelper_functions.py 100%[===================>]  10.01K  --.-KB/s    in 0s      \n",
            "\n",
            "2021-12-13 08:14:14 (68.3 MB/s) - ‘helper_functions.py’ saved [10246/10246]\n",
            "\n"
          ]
        }
      ]
    },
    {
      "cell_type": "code",
      "source": [
        "file = open('train_new.csv','r')\n",
        "new_file = open('train_new1.csv', 'w')\n",
        "for i, line in enumerate(file):\n",
        "  if i>930 and i<940:\n",
        "    continue\n",
        "  new_file.write(line)"
      ],
      "metadata": {
        "id": "aTASGOve3F5A"
      },
      "execution_count": null,
      "outputs": []
    },
    {
      "cell_type": "code",
      "source": [
        "training_data = pd.read_csv('train.csv', engine='python', error_bad_lines=False)\n",
        "val_data = pd.read_csv('valid.csv', engine='python', error_bad_lines=False)\n",
        "training_data\n",
        "val_data"
      ],
      "metadata": {
        "id": "uLWoUytTYl4p",
        "colab": {
          "base_uri": "https://localhost:8080/",
          "height": 459
        },
        "outputId": "a54048e2-79a8-4937-89fe-3d50b1eaefd3"
      },
      "execution_count": null,
      "outputs": [
        {
          "output_type": "stream",
          "name": "stderr",
          "text": [
            "Skipping line 937: unexpected end of data\n",
            "Skipping line 1017: unexpected end of data\n"
          ]
        },
        {
          "output_type": "execute_result",
          "data": {
            "text/html": [
              "<div>\n",
              "<style scoped>\n",
              "    .dataframe tbody tr th:only-of-type {\n",
              "        vertical-align: middle;\n",
              "    }\n",
              "\n",
              "    .dataframe tbody tr th {\n",
              "        vertical-align: top;\n",
              "    }\n",
              "\n",
              "    .dataframe thead th {\n",
              "        text-align: right;\n",
              "    }\n",
              "</style>\n",
              "<table border=\"1\" class=\"dataframe\">\n",
              "  <thead>\n",
              "    <tr style=\"text-align: right;\">\n",
              "      <th></th>\n",
              "      <th>Id</th>\n",
              "      <th>Title</th>\n",
              "      <th>Body</th>\n",
              "      <th>Tags</th>\n",
              "      <th>CreationDate</th>\n",
              "      <th>Y</th>\n",
              "    </tr>\n",
              "  </thead>\n",
              "  <tbody>\n",
              "    <tr>\n",
              "      <th>0</th>\n",
              "      <td>34552974</td>\n",
              "      <td>How to get all the child records from differen...</td>\n",
              "      <td>I am having 4 different tables like \\r\\nselect...</td>\n",
              "      <td>&lt;sql&gt;&lt;sql-server&gt;</td>\n",
              "      <td>2016-01-01 01:44:52</td>\n",
              "      <td>LQ_EDIT</td>\n",
              "    </tr>\n",
              "    <tr>\n",
              "      <th>1</th>\n",
              "      <td>34554721</td>\n",
              "      <td>Retrieve all except some data of the another t...</td>\n",
              "      <td>I have two table m_master and tbl_appointment\\...</td>\n",
              "      <td>&lt;php&gt;&lt;mysql&gt;&lt;sql&gt;&lt;codeigniter&gt;&lt;mysqli&gt;</td>\n",
              "      <td>2016-01-01 08:43:50</td>\n",
              "      <td>LQ_EDIT</td>\n",
              "    </tr>\n",
              "    <tr>\n",
              "      <th>2</th>\n",
              "      <td>34555135</td>\n",
              "      <td>Pandas: read_html</td>\n",
              "      <td>&lt;p&gt;I'm trying to extract US states from wiki U...</td>\n",
              "      <td>&lt;python&gt;&lt;pandas&gt;</td>\n",
              "      <td>2016-01-01 09:55:22</td>\n",
              "      <td>HQ</td>\n",
              "    </tr>\n",
              "    <tr>\n",
              "      <th>3</th>\n",
              "      <td>34555448</td>\n",
              "      <td>Reader Always gimme NULL</td>\n",
              "      <td>I'm so new to C#, I wanna make an application ...</td>\n",
              "      <td>&lt;sql-server&gt;&lt;c#-4.0&gt;</td>\n",
              "      <td>2016-01-01 10:43:45</td>\n",
              "      <td>LQ_EDIT</td>\n",
              "    </tr>\n",
              "    <tr>\n",
              "      <th>4</th>\n",
              "      <td>34555752</td>\n",
              "      <td>php rearrange array elements based on condition</td>\n",
              "      <td>basically i have this array:\\r\\n\\r\\n    array(...</td>\n",
              "      <td>&lt;php&gt;</td>\n",
              "      <td>2016-01-01 11:34:09</td>\n",
              "      <td>LQ_EDIT</td>\n",
              "    </tr>\n",
              "    <tr>\n",
              "      <th>...</th>\n",
              "      <td>...</td>\n",
              "      <td>...</td>\n",
              "      <td>...</td>\n",
              "      <td>...</td>\n",
              "      <td>...</td>\n",
              "      <td>...</td>\n",
              "    </tr>\n",
              "    <tr>\n",
              "      <th>1010</th>\n",
              "      <td>35745067</td>\n",
              "      <td>regex extract a text between string</td>\n",
              "      <td>&lt;p&gt;are not so expert with regex\\ni have this s...</td>\n",
              "      <td>&lt;regex&gt;&lt;vb.net&gt;</td>\n",
              "      <td>2016-03-02 10:50:27</td>\n",
              "      <td>LQ_CLOSE</td>\n",
              "    </tr>\n",
              "    <tr>\n",
              "      <th>1011</th>\n",
              "      <td>35747862</td>\n",
              "      <td>what does _doc represents in elasticsearch?</td>\n",
              "      <td>&lt;p&gt;I am still trying to figure out what does _...</td>\n",
              "      <td>&lt;elasticsearch&gt;</td>\n",
              "      <td>2016-03-02 12:56:10</td>\n",
              "      <td>HQ</td>\n",
              "    </tr>\n",
              "    <tr>\n",
              "      <th>1012</th>\n",
              "      <td>35748116</td>\n",
              "      <td>Babel ignore several directories</td>\n",
              "      <td>&lt;p&gt;I'm currently running Babel with a simple c...</td>\n",
              "      <td>&lt;javascript&gt;&lt;babeljs&gt;</td>\n",
              "      <td>2016-03-02 13:07:57</td>\n",
              "      <td>HQ</td>\n",
              "    </tr>\n",
              "    <tr>\n",
              "      <th>1013</th>\n",
              "      <td>35750407</td>\n",
              "      <td>PHP Sanitise Data</td>\n",
              "      <td>&lt;p&gt;Can't seem to sanitise php data&lt;/p&gt;\\n\\n&lt;pre...</td>\n",
              "      <td>&lt;php&gt;&lt;mysql&gt;</td>\n",
              "      <td>2016-03-02 14:44:23</td>\n",
              "      <td>LQ_CLOSE</td>\n",
              "    </tr>\n",
              "    <tr>\n",
              "      <th>1014</th>\n",
              "      <td>35750967</td>\n",
              "      <td>R: roxygen2, imported packages do not appear i...</td>\n",
              "      <td>&lt;p&gt;I have a file: import_packages.r in my proj...</td>\n",
              "      <td>&lt;r&gt;&lt;roxygen2&gt;&lt;roxygen&gt;</td>\n",
              "      <td>2016-03-02 15:08:15</td>\n",
              "      <td>HQ</td>\n",
              "    </tr>\n",
              "  </tbody>\n",
              "</table>\n",
              "<p>1015 rows × 6 columns</p>\n",
              "</div>"
            ],
            "text/plain": [
              "            Id  ...         Y\n",
              "0     34552974  ...   LQ_EDIT\n",
              "1     34554721  ...   LQ_EDIT\n",
              "2     34555135  ...        HQ\n",
              "3     34555448  ...   LQ_EDIT\n",
              "4     34555752  ...   LQ_EDIT\n",
              "...        ...  ...       ...\n",
              "1010  35745067  ...  LQ_CLOSE\n",
              "1011  35747862  ...        HQ\n",
              "1012  35748116  ...        HQ\n",
              "1013  35750407  ...  LQ_CLOSE\n",
              "1014  35750967  ...        HQ\n",
              "\n",
              "[1015 rows x 6 columns]"
            ]
          },
          "metadata": {},
          "execution_count": 35
        }
      ]
    },
    {
      "cell_type": "code",
      "source": [
        "training_data['Predict'] = training_data['Y']\n",
        "val_data['Predict'] = val_data['Y']\n",
        "\n",
        "training_data.replace({'Predict':{'LQ_EDIT':0,'HQ':1, 'LQ_CLOSE':2}}, inplace=True)\n",
        "val_data.replace({'Predict':{'LQ_EDIT':0,'HQ':1, 'LQ_CLOSE':2}}, inplace=True)\n",
        "\n",
        "training_data['Body'] = training_data['Title']+':::'+training_data['Body']\n",
        "\n",
        "training_data\n",
        "\n",
        "unified_data = pd.concat([training_data, val_data])\n",
        "unified_data"
      ],
      "metadata": {
        "colab": {
          "base_uri": "https://localhost:8080/",
          "height": 424
        },
        "id": "hrrcq3Wx8I1Q",
        "outputId": "1b1ad9b6-5d3d-4327-bd08-076b82c0b6d9"
      },
      "execution_count": null,
      "outputs": [
        {
          "output_type": "execute_result",
          "data": {
            "text/html": [
              "<div>\n",
              "<style scoped>\n",
              "    .dataframe tbody tr th:only-of-type {\n",
              "        vertical-align: middle;\n",
              "    }\n",
              "\n",
              "    .dataframe tbody tr th {\n",
              "        vertical-align: top;\n",
              "    }\n",
              "\n",
              "    .dataframe thead th {\n",
              "        text-align: right;\n",
              "    }\n",
              "</style>\n",
              "<table border=\"1\" class=\"dataframe\">\n",
              "  <thead>\n",
              "    <tr style=\"text-align: right;\">\n",
              "      <th></th>\n",
              "      <th>Id</th>\n",
              "      <th>Title</th>\n",
              "      <th>Body</th>\n",
              "      <th>Tags</th>\n",
              "      <th>CreationDate</th>\n",
              "      <th>Y</th>\n",
              "      <th>Predict</th>\n",
              "    </tr>\n",
              "  </thead>\n",
              "  <tbody>\n",
              "    <tr>\n",
              "      <th>0</th>\n",
              "      <td>34552656</td>\n",
              "      <td>Java: Repeat Task Every Random Seconds</td>\n",
              "      <td>Java: Repeat Task Every Random Seconds:::Java:...</td>\n",
              "      <td>&lt;java&gt;&lt;repeat&gt;</td>\n",
              "      <td>2016-01-01 00:21:59</td>\n",
              "      <td>LQ_CLOSE</td>\n",
              "      <td>2</td>\n",
              "    </tr>\n",
              "    <tr>\n",
              "      <th>1</th>\n",
              "      <td>34553034</td>\n",
              "      <td>Why are Java Optionals immutable?</td>\n",
              "      <td>Why are Java Optionals immutable?:::Why are Ja...</td>\n",
              "      <td>&lt;java&gt;&lt;optional&gt;</td>\n",
              "      <td>2016-01-01 02:03:20</td>\n",
              "      <td>HQ</td>\n",
              "      <td>1</td>\n",
              "    </tr>\n",
              "    <tr>\n",
              "      <th>2</th>\n",
              "      <td>34553174</td>\n",
              "      <td>Text Overlay Image with Darkened Opacity React...</td>\n",
              "      <td>Text Overlay Image with Darkened Opacity React...</td>\n",
              "      <td>&lt;javascript&gt;&lt;image&gt;&lt;overlay&gt;&lt;react-native&gt;&lt;opa...</td>\n",
              "      <td>2016-01-01 02:48:24</td>\n",
              "      <td>HQ</td>\n",
              "      <td>1</td>\n",
              "    </tr>\n",
              "    <tr>\n",
              "      <th>3</th>\n",
              "      <td>34553318</td>\n",
              "      <td>Why ternary operator in swift is so picky?</td>\n",
              "      <td>Why ternary operator in swift is so picky?:::W...</td>\n",
              "      <td>&lt;swift&gt;&lt;operators&gt;&lt;whitespace&gt;&lt;ternary-operato...</td>\n",
              "      <td>2016-01-01 03:30:17</td>\n",
              "      <td>HQ</td>\n",
              "      <td>1</td>\n",
              "    </tr>\n",
              "    <tr>\n",
              "      <th>4</th>\n",
              "      <td>34553755</td>\n",
              "      <td>hide/show fab with scale animation</td>\n",
              "      <td>hide/show fab with scale animation:::hide/show...</td>\n",
              "      <td>&lt;android&gt;&lt;material-design&gt;&lt;floating-action-but...</td>\n",
              "      <td>2016-01-01 05:21:48</td>\n",
              "      <td>HQ</td>\n",
              "      <td>1</td>\n",
              "    </tr>\n",
              "    <tr>\n",
              "      <th>...</th>\n",
              "      <td>...</td>\n",
              "      <td>...</td>\n",
              "      <td>...</td>\n",
              "      <td>...</td>\n",
              "      <td>...</td>\n",
              "      <td>...</td>\n",
              "      <td>...</td>\n",
              "    </tr>\n",
              "    <tr>\n",
              "      <th>1010</th>\n",
              "      <td>35745067</td>\n",
              "      <td>regex extract a text between string</td>\n",
              "      <td>&lt;p&gt;are not so expert with regex\\ni have this s...</td>\n",
              "      <td>&lt;regex&gt;&lt;vb.net&gt;</td>\n",
              "      <td>2016-03-02 10:50:27</td>\n",
              "      <td>LQ_CLOSE</td>\n",
              "      <td>2</td>\n",
              "    </tr>\n",
              "    <tr>\n",
              "      <th>1011</th>\n",
              "      <td>35747862</td>\n",
              "      <td>what does _doc represents in elasticsearch?</td>\n",
              "      <td>&lt;p&gt;I am still trying to figure out what does _...</td>\n",
              "      <td>&lt;elasticsearch&gt;</td>\n",
              "      <td>2016-03-02 12:56:10</td>\n",
              "      <td>HQ</td>\n",
              "      <td>1</td>\n",
              "    </tr>\n",
              "    <tr>\n",
              "      <th>1012</th>\n",
              "      <td>35748116</td>\n",
              "      <td>Babel ignore several directories</td>\n",
              "      <td>&lt;p&gt;I'm currently running Babel with a simple c...</td>\n",
              "      <td>&lt;javascript&gt;&lt;babeljs&gt;</td>\n",
              "      <td>2016-03-02 13:07:57</td>\n",
              "      <td>HQ</td>\n",
              "      <td>1</td>\n",
              "    </tr>\n",
              "    <tr>\n",
              "      <th>1013</th>\n",
              "      <td>35750407</td>\n",
              "      <td>PHP Sanitise Data</td>\n",
              "      <td>&lt;p&gt;Can't seem to sanitise php data&lt;/p&gt;\\n\\n&lt;pre...</td>\n",
              "      <td>&lt;php&gt;&lt;mysql&gt;</td>\n",
              "      <td>2016-03-02 14:44:23</td>\n",
              "      <td>LQ_CLOSE</td>\n",
              "      <td>2</td>\n",
              "    </tr>\n",
              "    <tr>\n",
              "      <th>1014</th>\n",
              "      <td>35750967</td>\n",
              "      <td>R: roxygen2, imported packages do not appear i...</td>\n",
              "      <td>&lt;p&gt;I have a file: import_packages.r in my proj...</td>\n",
              "      <td>&lt;r&gt;&lt;roxygen2&gt;&lt;roxygen&gt;</td>\n",
              "      <td>2016-03-02 15:08:15</td>\n",
              "      <td>HQ</td>\n",
              "      <td>1</td>\n",
              "    </tr>\n",
              "  </tbody>\n",
              "</table>\n",
              "<p>1950 rows × 7 columns</p>\n",
              "</div>"
            ],
            "text/plain": [
              "            Id  ... Predict\n",
              "0     34552656  ...       2\n",
              "1     34553034  ...       1\n",
              "2     34553174  ...       1\n",
              "3     34553318  ...       1\n",
              "4     34553755  ...       1\n",
              "...        ...  ...     ...\n",
              "1010  35745067  ...       2\n",
              "1011  35747862  ...       1\n",
              "1012  35748116  ...       1\n",
              "1013  35750407  ...       2\n",
              "1014  35750967  ...       1\n",
              "\n",
              "[1950 rows x 7 columns]"
            ]
          },
          "metadata": {},
          "execution_count": 175
        }
      ]
    },
    {
      "cell_type": "markdown",
      "source": [
        "#Створення тренувального та тестувального наборів даних + Векторизація та Ембедінг"
      ],
      "metadata": {
        "id": "tMDXQAMHJflW"
      }
    },
    {
      "cell_type": "code",
      "source": [
        "import sklearn as sk\n",
        "unified_sets = sk.utils.shuffle(unified_data)\n",
        "\n",
        "split_pos = round(0.8*len(unified_sets))\n",
        "\n",
        "train_set = unified_sets[['Body','Predict']].iloc[:split_pos]\n",
        "val_set = unified_sets[['Body','Predict']].iloc[split_pos:]"
      ],
      "metadata": {
        "id": "wyK1BpI2JjZE"
      },
      "execution_count": null,
      "outputs": []
    },
    {
      "cell_type": "code",
      "source": [
        "# train_set = training_data[['Body','Predict']].sample(frac=1)\n",
        "# val_set = val_data[['Body','Predict']].sample(frac=1)\n",
        "train_set"
      ],
      "metadata": {
        "id": "2F-5Pt0x7SCv",
        "colab": {
          "base_uri": "https://localhost:8080/",
          "height": 424
        },
        "outputId": "cc1261ee-8038-4c86-d818-a8dd6a300d58"
      },
      "execution_count": null,
      "outputs": [
        {
          "output_type": "execute_result",
          "data": {
            "text/html": [
              "<div>\n",
              "<style scoped>\n",
              "    .dataframe tbody tr th:only-of-type {\n",
              "        vertical-align: middle;\n",
              "    }\n",
              "\n",
              "    .dataframe tbody tr th {\n",
              "        vertical-align: top;\n",
              "    }\n",
              "\n",
              "    .dataframe thead th {\n",
              "        text-align: right;\n",
              "    }\n",
              "</style>\n",
              "<table border=\"1\" class=\"dataframe\">\n",
              "  <thead>\n",
              "    <tr style=\"text-align: right;\">\n",
              "      <th></th>\n",
              "      <th>Body</th>\n",
              "      <th>Predict</th>\n",
              "    </tr>\n",
              "  </thead>\n",
              "  <tbody>\n",
              "    <tr>\n",
              "      <th>600</th>\n",
              "      <td>PyODBC : can't open the driver even if it exis...</td>\n",
              "      <td>1</td>\n",
              "    </tr>\n",
              "    <tr>\n",
              "      <th>581</th>\n",
              "      <td>Java Threads producer-consumer shared buffer::...</td>\n",
              "      <td>2</td>\n",
              "    </tr>\n",
              "    <tr>\n",
              "      <th>234</th>\n",
              "      <td>&lt;p&gt;I had initiated a domain transfer on Amazon...</td>\n",
              "      <td>2</td>\n",
              "    </tr>\n",
              "    <tr>\n",
              "      <th>607</th>\n",
              "      <td>&lt;p&gt;I'm trying to place some HTML inside a spec...</td>\n",
              "      <td>1</td>\n",
              "    </tr>\n",
              "    <tr>\n",
              "      <th>611</th>\n",
              "      <td>Can you use AND in an IF - to check two condit...</td>\n",
              "      <td>2</td>\n",
              "    </tr>\n",
              "    <tr>\n",
              "      <th>...</th>\n",
              "      <td>...</td>\n",
              "      <td>...</td>\n",
              "    </tr>\n",
              "    <tr>\n",
              "      <th>698</th>\n",
              "      <td>Here is my code:  \\r\\nI get the `file` with a ...</td>\n",
              "      <td>0</td>\n",
              "    </tr>\n",
              "    <tr>\n",
              "      <th>1010</th>\n",
              "      <td>&lt;p&gt;are not so expert with regex\\ni have this s...</td>\n",
              "      <td>2</td>\n",
              "    </tr>\n",
              "    <tr>\n",
              "      <th>159</th>\n",
              "      <td>Mac spark-shell Error initializing SparkContex...</td>\n",
              "      <td>1</td>\n",
              "    </tr>\n",
              "    <tr>\n",
              "      <th>856</th>\n",
              "      <td>Saving prediction results to CSV:::Saving pred...</td>\n",
              "      <td>1</td>\n",
              "    </tr>\n",
              "    <tr>\n",
              "      <th>469</th>\n",
              "      <td>I couldn't change color of diagonal line in 16...</td>\n",
              "      <td>0</td>\n",
              "    </tr>\n",
              "  </tbody>\n",
              "</table>\n",
              "<p>1560 rows × 2 columns</p>\n",
              "</div>"
            ],
            "text/plain": [
              "                                                   Body  Predict\n",
              "600   PyODBC : can't open the driver even if it exis...        1\n",
              "581   Java Threads producer-consumer shared buffer::...        2\n",
              "234   <p>I had initiated a domain transfer on Amazon...        2\n",
              "607   <p>I'm trying to place some HTML inside a spec...        1\n",
              "611   Can you use AND in an IF - to check two condit...        2\n",
              "...                                                 ...      ...\n",
              "698   Here is my code:  \\r\\nI get the `file` with a ...        0\n",
              "1010  <p>are not so expert with regex\\ni have this s...        2\n",
              "159   Mac spark-shell Error initializing SparkContex...        1\n",
              "856   Saving prediction results to CSV:::Saving pred...        1\n",
              "469   I couldn't change color of diagonal line in 16...        0\n",
              "\n",
              "[1560 rows x 2 columns]"
            ]
          },
          "metadata": {},
          "execution_count": 179
        }
      ]
    },
    {
      "cell_type": "code",
      "source": [
        "avg_length = round(sum([len(i.split()) for i in train_set['Body']])/len(train_set))\n",
        "avg_length"
      ],
      "metadata": {
        "colab": {
          "base_uri": "https://localhost:8080/"
        },
        "id": "379UXtUd_BfY",
        "outputId": "2b5defa5-4fad-4325-fcfd-a60b387f3372"
      },
      "execution_count": null,
      "outputs": [
        {
          "output_type": "execute_result",
          "data": {
            "text/plain": [
              "137"
            ]
          },
          "metadata": {},
          "execution_count": 181
        }
      ]
    },
    {
      "cell_type": "code",
      "source": [
        "max_vocab_length = 20000\n",
        "\n",
        "text_vectorizer = TextVectorization(max_tokens=max_vocab_length,\n",
        "                                    output_mode=\"int\",\n",
        "                                    output_sequence_length=avg_length)\n",
        "\n",
        "text_vectorizer.adapt(train_set['Body'])\n",
        "\n",
        "text_vectorizer(train_set['Body'])"
      ],
      "metadata": {
        "colab": {
          "base_uri": "https://localhost:8080/"
        },
        "id": "sG15R3o172m2",
        "outputId": "fe712495-a5b3-4498-d0ed-957eddd9cf1b"
      },
      "execution_count": null,
      "outputs": [
        {
          "output_type": "execute_result",
          "data": {
            "text/plain": [
              "<tf.Tensor: shape=(1560, 137), dtype=int64, numpy=\n",
              "array([[ 5202,   179,   242, ..., 12352, 16132,  1368],\n",
              "       [  104,   813,  2464, ...,   107,    10,   155],\n",
              "       [   31,   499,  7936, ...,     0,     0,     0],\n",
              "       ...,\n",
              "       [  914,  2413,    43, ...,     2,    21,   226],\n",
              "       [ 1400,  2180,   463, ...,     0,     0,     0],\n",
              "       [    4,   597,   158, ...,     4,   300,  1736]])>"
            ]
          },
          "metadata": {},
          "execution_count": 182
        }
      ]
    },
    {
      "cell_type": "code",
      "source": [
        "embedding = layers.Embedding(input_dim=max_vocab_length, \n",
        "                             output_dim=128, \n",
        "                             embeddings_initializer=\"uniform\",\n",
        "                             input_length=avg_length) \n",
        "\n",
        "embedding(text_vectorizer(train_set['Body']))"
      ],
      "metadata": {
        "colab": {
          "base_uri": "https://localhost:8080/"
        },
        "id": "lw3dfvm68AL0",
        "outputId": "7894310e-bf19-4244-d458-7facb7f55ab5"
      },
      "execution_count": null,
      "outputs": [
        {
          "output_type": "execute_result",
          "data": {
            "text/plain": [
              "<tf.Tensor: shape=(1560, 137, 128), dtype=float32, numpy=\n",
              "array([[[-0.00542305, -0.03641834, -0.04968908, ..., -0.0196808 ,\n",
              "         -0.00863333,  0.01047035],\n",
              "        [-0.03361659,  0.03095107,  0.03970707, ...,  0.01666642,\n",
              "          0.01871102,  0.01389626],\n",
              "        [-0.02595925,  0.00011309, -0.04812347, ..., -0.03356604,\n",
              "          0.0338997 , -0.00129854],\n",
              "        ...,\n",
              "        [-0.02490643,  0.01006673,  0.01823575, ...,  0.03981386,\n",
              "          0.03312907,  0.03942389],\n",
              "        [ 0.03133487, -0.01482626,  0.00572909, ...,  0.00754081,\n",
              "         -0.03882414,  0.00623708],\n",
              "        [-0.02888358, -0.0083654 , -0.03632405, ..., -0.03610525,\n",
              "         -0.02158545,  0.04936321]],\n",
              "\n",
              "       [[ 0.02809623, -0.04442934,  0.00902564, ..., -0.03052949,\n",
              "          0.04618311,  0.04446479],\n",
              "        [-0.03924163, -0.02700038,  0.03443625, ...,  0.03189239,\n",
              "         -0.04999315,  0.01333236],\n",
              "        [ 0.01893005, -0.03096767, -0.03118041, ..., -0.04857657,\n",
              "         -0.04453697,  0.0442629 ],\n",
              "        ...,\n",
              "        [-0.002638  , -0.04713542, -0.01879804, ..., -0.04745381,\n",
              "          0.0103371 ,  0.02305483],\n",
              "        [ 0.00437597,  0.0112488 ,  0.0425649 , ...,  0.02205546,\n",
              "          0.04198221, -0.03025762],\n",
              "        [-0.01214775, -0.0300356 ,  0.00689666, ..., -0.03193986,\n",
              "          0.01271736, -0.02060006]],\n",
              "\n",
              "       [[ 0.01639643,  0.01679554,  0.00255311, ..., -0.04605969,\n",
              "          0.02074089, -0.01011143],\n",
              "        [-0.01983086, -0.02770742,  0.03853946, ..., -0.01571373,\n",
              "         -0.02308   ,  0.01694852],\n",
              "        [-0.03696066,  0.01113605, -0.00370933, ..., -0.01790183,\n",
              "         -0.0378524 ,  0.03241375],\n",
              "        ...,\n",
              "        [-0.02897663, -0.00929359, -0.00998586, ..., -0.02806895,\n",
              "          0.00684054,  0.04020307],\n",
              "        [-0.02897663, -0.00929359, -0.00998586, ..., -0.02806895,\n",
              "          0.00684054,  0.04020307],\n",
              "        [-0.02897663, -0.00929359, -0.00998586, ..., -0.02806895,\n",
              "          0.00684054,  0.04020307]],\n",
              "\n",
              "       ...,\n",
              "\n",
              "       [[ 0.01600217,  0.00827274,  0.01709533, ...,  0.00142689,\n",
              "          0.00714529,  0.04607712],\n",
              "        [ 0.01619765, -0.01180943, -0.03620512, ...,  0.04480361,\n",
              "          0.01842454, -0.02664991],\n",
              "        [-0.00586703,  0.00544222,  0.04696108, ..., -0.04105198,\n",
              "         -0.01299834, -0.03771639],\n",
              "        ...,\n",
              "        [-0.04608386,  0.00220116,  0.02804129, ..., -0.01927259,\n",
              "          0.04618592, -0.00818425],\n",
              "        [-0.00161127, -0.02769191,  0.04791326, ..., -0.00048852,\n",
              "          0.04972992, -0.03948589],\n",
              "        [ 0.04654247,  0.03829899, -0.02598662, ..., -0.02630528,\n",
              "          0.03015956, -0.01579305]],\n",
              "\n",
              "       [[-0.02641398,  0.02294215, -0.02738591, ...,  0.02669878,\n",
              "         -0.02255102, -0.02808393],\n",
              "        [ 0.04290925,  0.02143675,  0.00322057, ..., -0.00601321,\n",
              "          0.02861368, -0.01010579],\n",
              "        [ 0.00439183, -0.02926608, -0.00572965, ..., -0.04980674,\n",
              "         -0.02763664, -0.00070832],\n",
              "        ...,\n",
              "        [-0.02897663, -0.00929359, -0.00998586, ..., -0.02806895,\n",
              "          0.00684054,  0.04020307],\n",
              "        [-0.02897663, -0.00929359, -0.00998586, ..., -0.02806895,\n",
              "          0.00684054,  0.04020307],\n",
              "        [-0.02897663, -0.00929359, -0.00998586, ..., -0.02806895,\n",
              "          0.00684054,  0.04020307]],\n",
              "\n",
              "       [[ 0.03122417,  0.0049978 , -0.01777493, ..., -0.01634739,\n",
              "          0.01321745, -0.04802123],\n",
              "        [-0.00915116,  0.03766194, -0.0040758 , ...,  0.01544109,\n",
              "         -0.02441748, -0.00762031],\n",
              "        [-0.00521612,  0.01667856,  0.01869765, ...,  0.01490858,\n",
              "         -0.01467874,  0.03739499],\n",
              "        ...,\n",
              "        [ 0.03122417,  0.0049978 , -0.01777493, ..., -0.01634739,\n",
              "          0.01321745, -0.04802123],\n",
              "        [-0.02648046,  0.03337291,  0.04645829, ...,  0.03348987,\n",
              "         -0.02221457, -0.04828708],\n",
              "        [-0.03512025, -0.04023391,  0.03086836, ...,  0.03981603,\n",
              "         -0.03702055,  0.00391371]]], dtype=float32)>"
            ]
          },
          "metadata": {},
          "execution_count": 183
        }
      ]
    },
    {
      "cell_type": "markdown",
      "source": [
        "#Попередню оцінка точності моделі за допомогою методу Naive Bayes."
      ],
      "metadata": {
        "id": "X6gw0lYWJ44p"
      }
    },
    {
      "cell_type": "code",
      "source": [
        "from sklearn.feature_extraction.text import TfidfVectorizer\n",
        "from sklearn.naive_bayes import MultinomialNB\n",
        "from sklearn.pipeline import Pipeline\n",
        "\n",
        "model_0 = Pipeline([(\"tfidf\", TfidfVectorizer()), (\"clf\", MultinomialNB())])\n",
        "\n",
        "model_0.fit(train_set['Body'], train_set['Predict'])"
      ],
      "metadata": {
        "colab": {
          "base_uri": "https://localhost:8080/"
        },
        "id": "wgAx0E7oA1ic",
        "outputId": "d5968f8c-a611-4cb9-8745-ebb665caf4f7"
      },
      "execution_count": null,
      "outputs": [
        {
          "output_type": "execute_result",
          "data": {
            "text/plain": [
              "Pipeline(steps=[('tfidf', TfidfVectorizer()), ('clf', MultinomialNB())])"
            ]
          },
          "metadata": {},
          "execution_count": 184
        }
      ]
    },
    {
      "cell_type": "code",
      "source": [
        "baseline_score = model_0.score(val_set['Body'], val_set['Predict'])\n",
        "print(f\"Our baseline model achieves an accuracy of: {baseline_score*100:.2f}%\")"
      ],
      "metadata": {
        "colab": {
          "base_uri": "https://localhost:8080/"
        },
        "id": "k6Kf9lqxA_hr",
        "outputId": "af74fae7-6749-472f-fac2-d661341a78a7"
      },
      "execution_count": null,
      "outputs": [
        {
          "output_type": "stream",
          "name": "stdout",
          "text": [
            "Our baseline model achieves an accuracy of: 46.41%\n"
          ]
        }
      ]
    },
    {
      "cell_type": "code",
      "source": [
        "baseline_preds = model_0.predict(val_set['Body'])\n",
        "baseline_preds"
      ],
      "metadata": {
        "colab": {
          "base_uri": "https://localhost:8080/"
        },
        "id": "sAE4G08ODWbF",
        "outputId": "aa3d7d81-63b2-4668-8cf0-cc33713f00e1"
      },
      "execution_count": null,
      "outputs": [
        {
          "output_type": "execute_result",
          "data": {
            "text/plain": [
              "array([1, 1, 2, 2, 1, 1, 1, 1, 2, 1, 1, 2, 1, 1, 1, 1, 1, 1, 1, 1, 0, 1,\n",
              "       1, 1, 1, 1, 1, 2, 1, 1, 1, 1, 1, 1, 1, 1, 1, 1, 1, 1, 2, 1, 1, 1,\n",
              "       1, 1, 1, 1, 1, 1, 1, 1, 1, 1, 1, 1, 1, 1, 1, 1, 1, 1, 1, 1, 1, 1,\n",
              "       1, 1, 1, 1, 1, 1, 1, 1, 1, 1, 1, 1, 1, 1, 1, 1, 1, 1, 1, 1, 1, 1,\n",
              "       1, 1, 1, 1, 2, 1, 1, 1, 1, 1, 1, 1, 1, 2, 1, 1, 1, 1, 1, 1, 1, 1,\n",
              "       1, 1, 1, 2, 1, 2, 1, 1, 1, 1, 1, 1, 1, 1, 1, 1, 1, 1, 2, 1, 2, 1,\n",
              "       1, 2, 1, 2, 1, 1, 1, 1, 1, 1, 1, 1, 1, 1, 1, 1, 1, 1, 1, 1, 1, 1,\n",
              "       1, 1, 1, 1, 1, 1, 1, 1, 1, 1, 1, 1, 1, 1, 1, 2, 1, 1, 0, 1, 1, 1,\n",
              "       1, 2, 1, 1, 1, 1, 1, 1, 1, 1, 1, 1, 1, 1, 1, 1, 1, 2, 1, 1, 1, 1,\n",
              "       1, 2, 2, 1, 1, 1, 1, 1, 1, 1, 1, 1, 1, 1, 1, 1, 1, 1, 1, 1, 1, 0,\n",
              "       1, 1, 1, 1, 1, 1, 1, 1, 2, 1, 2, 1, 1, 2, 1, 1, 1, 1, 1, 1, 1, 1,\n",
              "       1, 1, 1, 1, 1, 1, 1, 1, 1, 1, 1, 2, 1, 1, 1, 1, 1, 1, 2, 1, 2, 1,\n",
              "       1, 1, 1, 1, 1, 1, 2, 1, 1, 1, 1, 1, 1, 1, 1, 1, 1, 1, 1, 1, 1, 1,\n",
              "       1, 1, 1, 1, 1, 1, 1, 1, 1, 1, 1, 2, 1, 1, 1, 1, 1, 2, 1, 1, 1, 1,\n",
              "       2, 1, 1, 1, 2, 1, 1, 1, 1, 1, 1, 1, 1, 1, 2, 2, 1, 1, 2, 1, 1, 1,\n",
              "       1, 1, 1, 1, 1, 1, 1, 2, 1, 1, 1, 1, 1, 1, 1, 1, 1, 1, 1, 1, 1, 1,\n",
              "       1, 1, 1, 1, 1, 1, 1, 1, 1, 1, 1, 1, 1, 1, 2, 1, 1, 1, 1, 1, 1, 1,\n",
              "       1, 1, 1, 1, 1, 1, 1, 1, 1, 1, 1, 2, 1, 1, 1, 1])"
            ]
          },
          "metadata": {},
          "execution_count": 186
        }
      ]
    },
    {
      "cell_type": "markdown",
      "source": [
        "#Вирішення задачі класифікації за допомогою методу GRU"
      ],
      "metadata": {
        "id": "bCLiiHBXKED8"
      }
    },
    {
      "cell_type": "code",
      "source": [
        "from sklearn.metrics import accuracy_score, precision_recall_fscore_support\n",
        "\n",
        "def calculate_results(y_true, y_pred):\n",
        "  \"\"\"\n",
        "  Calculates model accuracy, precision, recall and f1 score of a binary classification model.\n",
        "\n",
        "  Args:\n",
        "  -----\n",
        "  y_true = true labels in the form of a 1D array\n",
        "  y_pred = predicted labels in the form of a 1D array\n",
        "\n",
        "  Returns a dictionary of accuracy, precision, recall, f1-score.\n",
        "  \"\"\"\n",
        "  # Calculate model accuracy\n",
        "  model_accuracy = accuracy_score(y_true, y_pred) * 100\n",
        "  # Calculate model precision, recall and f1 score using \"weighted\" average\n",
        "  model_precision, model_recall, model_f1, _ = precision_recall_fscore_support(y_true, y_pred, average=\"weighted\")\n",
        "  model_results = {\"accuracy\": model_accuracy,\n",
        "                  \"precision\": model_precision,\n",
        "                  \"recall\": model_recall,\n",
        "                  \"f1\": model_f1}\n",
        "  return model_results"
      ],
      "metadata": {
        "id": "-OqxbgkkC7Km"
      },
      "execution_count": null,
      "outputs": []
    },
    {
      "cell_type": "code",
      "source": [
        "from tensorflow.keras import layers\n",
        "inputs = layers.Input(shape=(1,), dtype=\"string\")\n",
        "x = text_vectorizer(inputs)\n",
        "x = embedding(x)\n",
        "x = layers.GRU(128)(x)\n",
        "x = layers.Dense(128, activation=\"sigmoid\")(x) \n",
        "outputs = layers.Dense(3, activation=\"softmax\")(x)\n",
        "model_gru = tf.keras.Model(inputs, outputs, name=\"model_GRU\")"
      ],
      "metadata": {
        "id": "ZYG6P2IFJPLF"
      },
      "execution_count": null,
      "outputs": []
    },
    {
      "cell_type": "code",
      "source": [
        "model_gru.compile(loss=\"sparse_categorical_crossentropy\",\n",
        "                optimizer=tf.keras.optimizers.Adam(),\n",
        "                metrics=[\"accuracy\"])"
      ],
      "metadata": {
        "id": "Dd-ufOZvLkEp"
      },
      "execution_count": null,
      "outputs": []
    },
    {
      "cell_type": "code",
      "source": [
        "model_gru.summary()"
      ],
      "metadata": {
        "colab": {
          "base_uri": "https://localhost:8080/"
        },
        "id": "09RejsF9LtHl",
        "outputId": "81ca58de-c9e7-4598-b058-283415959a69"
      },
      "execution_count": null,
      "outputs": [
        {
          "output_type": "stream",
          "name": "stdout",
          "text": [
            "Model: \"model_GRU\"\n",
            "_________________________________________________________________\n",
            " Layer (type)                Output Shape              Param #   \n",
            "=================================================================\n",
            " input_4 (InputLayer)        [(None, 1)]               0         \n",
            "                                                                 \n",
            " text_vectorization_3 (TextV  (None, 137)              0         \n",
            " ectorization)                                                   \n",
            "                                                                 \n",
            " embedding_3 (Embedding)     (None, 137, 128)          2560000   \n",
            "                                                                 \n",
            " gru_3 (GRU)                 (None, 128)               99072     \n",
            "                                                                 \n",
            " dense_6 (Dense)             (None, 128)               16512     \n",
            "                                                                 \n",
            " dense_7 (Dense)             (None, 3)                 387       \n",
            "                                                                 \n",
            "=================================================================\n",
            "Total params: 2,675,971\n",
            "Trainable params: 2,675,971\n",
            "Non-trainable params: 0\n",
            "_________________________________________________________________\n"
          ]
        }
      ]
    },
    {
      "cell_type": "code",
      "source": [
        "model_gru_history = model_gru.fit(train_set['Body'], train_set['Predict'],\n",
        "                              epochs=30,\n",
        "                              validation_data=(val_set['Body'], val_set['Predict']))"
      ],
      "metadata": {
        "colab": {
          "base_uri": "https://localhost:8080/"
        },
        "id": "tEJz1qG0L8Tp",
        "outputId": "bd091355-e20a-4bd3-d40d-412b1834c439"
      },
      "execution_count": null,
      "outputs": [
        {
          "output_type": "stream",
          "name": "stdout",
          "text": [
            "Epoch 1/30\n",
            "49/49 [==============================] - 5s 58ms/step - loss: 1.1205 - accuracy: 0.4173 - val_loss: 1.0812 - val_accuracy: 0.4231\n",
            "Epoch 2/30\n",
            "49/49 [==============================] - 2s 47ms/step - loss: 1.0733 - accuracy: 0.4385 - val_loss: 1.0732 - val_accuracy: 0.4231\n",
            "Epoch 3/30\n",
            "49/49 [==============================] - 2s 46ms/step - loss: 1.0332 - accuracy: 0.4417 - val_loss: 1.0636 - val_accuracy: 0.4256\n",
            "Epoch 4/30\n",
            "49/49 [==============================] - 2s 47ms/step - loss: 0.9233 - accuracy: 0.5615 - val_loss: 1.0652 - val_accuracy: 0.4205\n",
            "Epoch 5/30\n",
            "49/49 [==============================] - 2s 47ms/step - loss: 0.7872 - accuracy: 0.5795 - val_loss: 1.1184 - val_accuracy: 0.4205\n",
            "Epoch 6/30\n",
            "49/49 [==============================] - 2s 47ms/step - loss: 0.7058 - accuracy: 0.6231 - val_loss: 1.1777 - val_accuracy: 0.4051\n",
            "Epoch 7/30\n",
            "49/49 [==============================] - 2s 46ms/step - loss: 0.6888 - accuracy: 0.6237 - val_loss: 1.1608 - val_accuracy: 0.4436\n",
            "Epoch 8/30\n",
            "49/49 [==============================] - 2s 46ms/step - loss: 0.6045 - accuracy: 0.7083 - val_loss: 1.1196 - val_accuracy: 0.5513\n",
            "Epoch 9/30\n",
            "49/49 [==============================] - 2s 46ms/step - loss: 0.3299 - accuracy: 0.8660 - val_loss: 1.0518 - val_accuracy: 0.6256\n",
            "Epoch 10/30\n",
            "49/49 [==============================] - 2s 46ms/step - loss: 0.1347 - accuracy: 0.9506 - val_loss: 1.2393 - val_accuracy: 0.6359\n",
            "Epoch 11/30\n",
            "49/49 [==============================] - 2s 46ms/step - loss: 0.0501 - accuracy: 0.9865 - val_loss: 1.7670 - val_accuracy: 0.5590\n",
            "Epoch 12/30\n",
            "49/49 [==============================] - 2s 45ms/step - loss: 0.2510 - accuracy: 0.9160 - val_loss: 1.2528 - val_accuracy: 0.6103\n",
            "Epoch 13/30\n",
            "49/49 [==============================] - 2s 46ms/step - loss: 0.0451 - accuracy: 0.9891 - val_loss: 1.4095 - val_accuracy: 0.6282\n",
            "Epoch 14/30\n",
            "49/49 [==============================] - 2s 46ms/step - loss: 0.0115 - accuracy: 0.9994 - val_loss: 1.4345 - val_accuracy: 0.6154\n",
            "Epoch 15/30\n",
            "49/49 [==============================] - 2s 46ms/step - loss: 0.0047 - accuracy: 0.9987 - val_loss: 1.6258 - val_accuracy: 0.6103\n",
            "Epoch 16/30\n",
            "49/49 [==============================] - 2s 46ms/step - loss: 0.0031 - accuracy: 1.0000 - val_loss: 1.6050 - val_accuracy: 0.6154\n",
            "Epoch 17/30\n",
            "49/49 [==============================] - 2s 46ms/step - loss: 0.0019 - accuracy: 1.0000 - val_loss: 1.6496 - val_accuracy: 0.6051\n",
            "Epoch 18/30\n",
            "49/49 [==============================] - 2s 46ms/step - loss: 0.0016 - accuracy: 1.0000 - val_loss: 1.6978 - val_accuracy: 0.6103\n",
            "Epoch 19/30\n",
            "49/49 [==============================] - 2s 45ms/step - loss: 0.0013 - accuracy: 1.0000 - val_loss: 1.7446 - val_accuracy: 0.6077\n",
            "Epoch 20/30\n",
            "49/49 [==============================] - 2s 46ms/step - loss: 0.0012 - accuracy: 1.0000 - val_loss: 1.7859 - val_accuracy: 0.6026\n",
            "Epoch 21/30\n",
            "49/49 [==============================] - 2s 46ms/step - loss: 0.0010 - accuracy: 1.0000 - val_loss: 1.8245 - val_accuracy: 0.6128\n",
            "Epoch 22/30\n",
            "49/49 [==============================] - 2s 45ms/step - loss: 9.4702e-04 - accuracy: 1.0000 - val_loss: 1.8625 - val_accuracy: 0.6103\n",
            "Epoch 23/30\n",
            "49/49 [==============================] - 2s 45ms/step - loss: 8.6610e-04 - accuracy: 1.0000 - val_loss: 1.8966 - val_accuracy: 0.6128\n",
            "Epoch 24/30\n",
            "49/49 [==============================] - 2s 46ms/step - loss: 7.9862e-04 - accuracy: 1.0000 - val_loss: 1.9298 - val_accuracy: 0.6103\n",
            "Epoch 25/30\n",
            "49/49 [==============================] - 2s 46ms/step - loss: 7.4088e-04 - accuracy: 1.0000 - val_loss: 1.9614 - val_accuracy: 0.6103\n",
            "Epoch 26/30\n",
            "49/49 [==============================] - 2s 46ms/step - loss: 6.9110e-04 - accuracy: 1.0000 - val_loss: 1.9894 - val_accuracy: 0.6103\n",
            "Epoch 27/30\n",
            "49/49 [==============================] - 2s 45ms/step - loss: 6.4763e-04 - accuracy: 1.0000 - val_loss: 2.0178 - val_accuracy: 0.6128\n",
            "Epoch 28/30\n",
            "49/49 [==============================] - 2s 46ms/step - loss: 6.0935e-04 - accuracy: 1.0000 - val_loss: 2.0434 - val_accuracy: 0.6103\n",
            "Epoch 29/30\n",
            "49/49 [==============================] - 2s 46ms/step - loss: 5.7524e-04 - accuracy: 1.0000 - val_loss: 2.0696 - val_accuracy: 0.6128\n",
            "Epoch 30/30\n",
            "49/49 [==============================] - 2s 46ms/step - loss: 5.4459e-04 - accuracy: 1.0000 - val_loss: 2.0940 - val_accuracy: 0.6128\n"
          ]
        }
      ]
    },
    {
      "cell_type": "code",
      "source": [
        "model_gru_pred_probs = model_gru.predict(val_set['Body'])"
      ],
      "metadata": {
        "id": "lWlKaVtBMQx-"
      },
      "execution_count": null,
      "outputs": []
    },
    {
      "cell_type": "code",
      "source": [
        "model_gru_preds = tf.squeeze(tf.argmax(model_gru_pred_probs, axis = 1))\n",
        "model_gru_preds"
      ],
      "metadata": {
        "colab": {
          "base_uri": "https://localhost:8080/"
        },
        "id": "qTynEMAbMv5S",
        "outputId": "d2a2bd19-d683-4964-9d4a-4b86acc13cb7"
      },
      "execution_count": null,
      "outputs": [
        {
          "output_type": "execute_result",
          "data": {
            "text/plain": [
              "<tf.Tensor: shape=(390,), dtype=int64, numpy=\n",
              "array([0, 2, 2, 0, 0, 1, 2, 2, 0, 1, 1, 0, 2, 1, 0, 1, 1, 0, 1, 0, 2, 1,\n",
              "       0, 1, 1, 2, 1, 2, 1, 2, 2, 1, 2, 2, 1, 1, 2, 2, 1, 2, 2, 2, 1, 1,\n",
              "       1, 1, 2, 2, 1, 2, 2, 0, 2, 1, 1, 2, 1, 2, 1, 1, 1, 1, 2, 0, 2, 1,\n",
              "       2, 1, 2, 1, 0, 1, 1, 1, 2, 1, 2, 1, 1, 0, 2, 0, 2, 1, 2, 0, 1, 1,\n",
              "       0, 0, 1, 1, 0, 1, 0, 1, 1, 0, 2, 0, 1, 2, 0, 1, 2, 0, 0, 0, 1, 1,\n",
              "       1, 1, 1, 2, 0, 0, 2, 1, 1, 2, 2, 2, 1, 2, 0, 1, 1, 2, 2, 2, 2, 2,\n",
              "       0, 0, 2, 0, 0, 2, 1, 0, 0, 0, 2, 1, 0, 2, 0, 2, 2, 2, 1, 2, 2, 2,\n",
              "       2, 2, 1, 1, 2, 1, 1, 1, 2, 1, 1, 1, 2, 2, 0, 2, 1, 2, 0, 1, 2, 2,\n",
              "       2, 2, 0, 2, 2, 1, 1, 1, 1, 1, 1, 2, 1, 2, 1, 1, 1, 2, 2, 1, 1, 0,\n",
              "       2, 0, 0, 2, 1, 0, 2, 2, 2, 1, 1, 2, 1, 0, 1, 2, 2, 2, 2, 2, 2, 0,\n",
              "       2, 1, 0, 0, 0, 1, 1, 1, 2, 2, 0, 1, 0, 2, 1, 1, 2, 2, 0, 1, 2, 2,\n",
              "       1, 1, 2, 2, 2, 2, 1, 2, 2, 1, 1, 0, 1, 2, 2, 1, 2, 1, 0, 2, 2, 2,\n",
              "       1, 2, 1, 0, 1, 1, 2, 0, 1, 2, 1, 0, 1, 2, 0, 1, 0, 1, 2, 1, 2, 0,\n",
              "       1, 2, 1, 2, 1, 0, 2, 1, 2, 2, 1, 0, 1, 2, 2, 1, 1, 2, 1, 2, 1, 2,\n",
              "       0, 0, 2, 1, 1, 1, 1, 1, 1, 2, 2, 2, 1, 0, 0, 0, 2, 1, 2, 1, 2, 0,\n",
              "       2, 1, 2, 1, 1, 1, 2, 2, 2, 2, 1, 2, 0, 1, 1, 1, 1, 1, 1, 2, 0, 2,\n",
              "       2, 2, 1, 2, 2, 2, 2, 0, 1, 2, 2, 1, 1, 0, 2, 2, 2, 2, 2, 2, 1, 1,\n",
              "       2, 0, 0, 1, 2, 2, 2, 2, 2, 0, 2, 0, 2, 0, 0, 1])>"
            ]
          },
          "metadata": {},
          "execution_count": 193
        }
      ]
    },
    {
      "cell_type": "markdown",
      "source": [
        "#Графічне відображення тренування моделі."
      ],
      "metadata": {
        "id": "KVheflfXKZtJ"
      }
    },
    {
      "cell_type": "code",
      "source": [
        "from matplotlib import pyplot as plt\n",
        "\n",
        "def plot_history(history): \n",
        "    plt.plot(history.history['accuracy'])\n",
        "    plt.plot(history.history['val_accuracy'])\n",
        "    plt.title('model accuracy')\n",
        "    plt.ylabel('accuracy')\n",
        "    plt.xlabel('epoch')\n",
        "    plt.legend(['train', 'test'], loc='upper left')\n",
        "    plt.show()\n",
        "    plt.plot(history.history['loss'])\n",
        "    plt.plot(history.history['val_loss'])\n",
        "    plt.title('model loss')\n",
        "    plt.ylabel('loss')\n",
        "    plt.xlabel('epoch')\n",
        "    plt.legend(['train', 'test'], loc='upper left')\n",
        "    plt.show()"
      ],
      "metadata": {
        "id": "kuUvEMAXKjsf"
      },
      "execution_count": null,
      "outputs": []
    },
    {
      "cell_type": "code",
      "source": [
        "plot_history(model_gru_history)"
      ],
      "metadata": {
        "colab": {
          "base_uri": "https://localhost:8080/",
          "height": 573
        },
        "id": "ICO2wcH8Nu7U",
        "outputId": "add42199-8031-441a-dd6a-fd0f70a5c768"
      },
      "execution_count": null,
      "outputs": [
        {
          "output_type": "display_data",
          "data": {
            "image/png": "[encoded data removed]",
            "text/plain": [
              "<Figure size 432x288 with 1 Axes>"
            ]
          },
          "metadata": {
            "needs_background": "light"
          }
        },
        {
          "output_type": "display_data",
          "data": {
            "image/png": "[encoded data removed]",
            "text/plain": [
              "<Figure size 432x288 with 1 Axes>"
            ]
          },
          "metadata": {
            "needs_background": "light"
          }
        }
      ]
    },
    {
      "cell_type": "markdown",
      "source": [
        "#Порівняння результатів моделей"
      ],
      "metadata": {
        "id": "ZPVaXNQdKdA7"
      }
    },
    {
      "cell_type": "code",
      "source": [
        "def compare_base_model_to_new_model(baseline_results, new_model_results):\n",
        "  for key, value in baseline_results.items():\n",
        "    print(f\"Base model {key.upper()}: {value:.2f}, New model {key.upper()}: {new_model_results[key]:.2f}, Relative Improvement: {(new_model_results[key]/value-1)*100:.1f}%\")"
      ],
      "metadata": {
        "id": "YmUlDomeKndE"
      },
      "execution_count": null,
      "outputs": []
    },
    {
      "cell_type": "code",
      "source": [
        "baseline_results = calculate_results(y_true=val_set['Predict'],\n",
        "                                     y_pred=baseline_preds)\n",
        "baseline_results"
      ],
      "metadata": {
        "colab": {
          "base_uri": "https://localhost:8080/"
        },
        "id": "AmT1WUI5BDYG",
        "outputId": "ef562761-8d62-421f-d08c-84f92a121998"
      },
      "execution_count": null,
      "outputs": [
        {
          "output_type": "execute_result",
          "data": {
            "text/plain": [
              "{'accuracy': 46.41025641025641,\n",
              " 'f1': 0.33869596845423033,\n",
              " 'precision': 0.5928336620644313,\n",
              " 'recall': 0.4641025641025641}"
            ]
          },
          "metadata": {},
          "execution_count": 197
        }
      ]
    },
    {
      "cell_type": "code",
      "source": [
        "model_gru_results = calculate_results(y_true=val_set['Predict'],\n",
        "                                    y_pred=model_gru_preds)\n",
        "model_gru_results"
      ],
      "metadata": {
        "colab": {
          "base_uri": "https://localhost:8080/"
        },
        "id": "oCbPw0JBMQrz",
        "outputId": "5af32ea7-40ac-4aec-a357-69cbbfb2b8d9"
      },
      "execution_count": null,
      "outputs": [
        {
          "output_type": "execute_result",
          "data": {
            "text/plain": [
              "{'accuracy': 61.282051282051285,\n",
              " 'f1': 0.6224825939584373,\n",
              " 'precision': 0.6520539967094708,\n",
              " 'recall': 0.6128205128205129}"
            ]
          },
          "metadata": {},
          "execution_count": 198
        }
      ]
    },
    {
      "cell_type": "code",
      "source": [
        "compare_base_model_to_new_model(baseline_results, model_gru_results)"
      ],
      "metadata": {
        "colab": {
          "base_uri": "https://localhost:8080/"
        },
        "id": "oCLJz1zBOd63",
        "outputId": "5ce0fad7-581d-4d31-dae0-8dd6c2c92fbe"
      },
      "execution_count": null,
      "outputs": [
        {
          "output_type": "stream",
          "name": "stdout",
          "text": [
            "Base model ACCURACY: 46.41, New model ACCURACY: 61.28, Relative Improvement: 32.0%\n",
            "Base model PRECISION: 0.59, New model PRECISION: 0.65, Relative Improvement: 10.0%\n",
            "Base model RECALL: 0.46, New model RECALL: 0.61, Relative Improvement: 32.0%\n",
            "Base model F1: 0.34, New model F1: 0.62, Relative Improvement: 83.8%\n"
          ]
        }
      ]
    },
    {
      "cell_type": "code",
      "source": [
        ""
      ],
      "metadata": {
        "id": "5PzF4n8DKM0T"
      },
      "execution_count": null,
      "outputs": []
    }
  ]
}