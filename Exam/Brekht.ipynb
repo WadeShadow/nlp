{
  "nbformat": 4,
  "nbformat_minor": 0,
  "metadata": {
    "colab": {
      "name": "Exam.ipynb",
      "provenance": [],
      "collapsed_sections": [],
      "include_colab_link": true
    },
    "kernelspec": {
      "name": "python3",
      "display_name": "Python 3"
    },
    "language_info": {
      "name": "python"
    },
    "accelerator": "GPU"
  },
  "cells": [
    {
      "cell_type": "markdown",
      "metadata": {
        "id": "view-in-github",
        "colab_type": "text"
      },
      "source": [
        "<a href=\"https://colab.research.google.com/github/WadeShadow/nlp2021/blob/main/Exam/Brekht.ipynb\" target=\"_parent\"><img src=\"https://colab.research.google.com/assets/colab-badge.svg\" alt=\"Open In Colab\"/></a>"
      ]
    },
    {
      "cell_type": "markdown",
      "source": [
        "## Брехт Андрій Олексійович\n",
        "---\n",
        "### Група: ТШІ-21\n",
        "### Варіант: 2\n",
        "---\n",
        "### Практичне завдання іспиту з дисципліни \"Методи обробки природномовної інформації\"\n",
        "### Дата складання: 13.12.2021р."
      ],
      "metadata": {
        "id": "UCXL5rb2FA1O"
      }
    },
    {
      "cell_type": "markdown",
      "source": [
        "---\n",
        "Варіант № 2\n",
        "\n",
        "Завдання:\n",
        "Розробити Jupyter Notebook для вирішення завдання класифікації тексту\n",
        "на основі набору даних:\n",
        "https://drive.google.com/drive/folders/1cYLsyazwxMUSICumvIhv5jGJe6K7iAHa?usp=sharing\n",
        "\n",
        "Забезпечити виконання наступних етапів:\n",
        "1. Завантаження та попередній аналіз даних.\n",
        "2. Створення тренувального та тестувального наборів даних.\n",
        "3. Попередню оцінку точності моделі за допомогою методу Naive Bayes.\n",
        "4. Вирішення задачі класифікації за допомогою методу GRU model.\n",
        "5. Графічне відображення тренування моделі.\n",
        "6. Порівняння результатів, отриманих у п.п. 3,4\n",
        "7. Висновки.\n",
        "\n",
        "Структура звітного документу:\n",
        "Заголовок роботи (Markdown: П.І.Б., група, назва роботи (Практичне завдання іспиту з дисципліни...), дата складання.)\n",
        "Етапи роботи (Номер та назва етапу (частини етапу),  код з коментарями.)\n",
        "\n",
        "Використати технології: Tensorflow, Google Colab.\n",
        "Результати викласти у форматі Brekht.ipynb у папку Exam репозиторію GitHub."
      ],
      "metadata": {
        "id": "L50vrhwU2oWC"
      }
    },
    {
      "cell_type": "markdown",
      "source": [
        "#Завантаження та попердній аналіз даних"
      ],
      "metadata": {
        "id": "2_r3a8uPJVue"
      }
    },
    {
      "cell_type": "code",
      "execution_count": null,
      "metadata": {
        "id": "2zqEjCj1YMlI"
      },
      "outputs": [],
      "source": [
        "import numpy as np\n",
        "import pandas as pd\n",
        "import tensorflow as tf, requests as rqst, io\n",
        "from tensorflow.keras.layers.experimental.preprocessing import TextVectorization\n",
        "from tensorflow.keras import layers\n",
        "from sklearn.model_selection import train_test_split\n",
        "\n",
        "rnd = np.random.randint"
      ]
    },
    {
      "cell_type": "code",
      "source": [
        "!wget https://raw.githubusercontent.com/mrdbourke/tensorflow-deep-learning/main/extras/helper_functions.py\n",
        "\n",
        "from helper_functions import unzip_data, create_tensorboard_callback, plot_loss_curves, compare_historys"
      ],
      "metadata": {
        "id": "kzUzI0nYYX_v",
        "colab": {
          "base_uri": "https://localhost:8080/"
        },
        "outputId": "25fa98a5-ad89-4006-f063-aa32ad179c19"
      },
      "execution_count": null,
      "outputs": [
        {
          "output_type": "stream",
          "name": "stdout",
          "text": [
            "--2021-12-13 08:14:14--  https://raw.githubusercontent.com/mrdbourke/tensorflow-deep-learning/main/extras/helper_functions.py\n",
            "Resolving raw.githubusercontent.com (raw.githubusercontent.com)... 185.199.109.133, 185.199.110.133, 185.199.108.133, ...\n",
            "Connecting to raw.githubusercontent.com (raw.githubusercontent.com)|185.199.109.133|:443... connected.\n",
            "HTTP request sent, awaiting response... 200 OK\n",
            "Length: 10246 (10K) [text/plain]\n",
            "Saving to: ‘helper_functions.py’\n",
            "\n",
            "\rhelper_functions.py   0%[                    ]       0  --.-KB/s               \rhelper_functions.py 100%[===================>]  10.01K  --.-KB/s    in 0s      \n",
            "\n",
            "2021-12-13 08:14:14 (68.3 MB/s) - ‘helper_functions.py’ saved [10246/10246]\n",
            "\n"
          ]
        }
      ]
    },
    {
      "cell_type": "code",
      "source": [
        "file = open('train_new.csv','r')\n",
        "new_file = open('train_new1.csv', 'w')\n",
        "for i, line in enumerate(file):\n",
        "  if i>930 and i<940:\n",
        "    continue\n",
        "  new_file.write(line)"
      ],
      "metadata": {
        "id": "aTASGOve3F5A"
      },
      "execution_count": null,
      "outputs": []
    },
    {
      "cell_type": "code",
      "source": [
        "training_data = pd.read_csv('train.csv', engine='python', error_bad_lines=False)\n",
        "val_data = pd.read_csv('valid.csv', engine='python', error_bad_lines=False)\n",
        "training_data\n",
        "val_data"
      ],
      "metadata": {
        "id": "uLWoUytTYl4p",
        "colab": {
          "base_uri": "https://localhost:8080/",
          "height": 459
        },
        "outputId": "a54048e2-79a8-4937-89fe-3d50b1eaefd3"
      },
      "execution_count": null,
      "outputs": [
        {
          "output_type": "stream",
          "name": "stderr",
          "text": [
            "Skipping line 937: unexpected end of data\n",
            "Skipping line 1017: unexpected end of data\n"
          ]
        },
        {
          "output_type": "execute_result",
          "data": {
            "text/html": [
              "<div>\n",
              "<style scoped>\n",
              "    .dataframe tbody tr th:only-of-type {\n",
              "        vertical-align: middle;\n",
              "    }\n",
              "\n",
              "    .dataframe tbody tr th {\n",
              "        vertical-align: top;\n",
              "    }\n",
              "\n",
              "    .dataframe thead th {\n",
              "        text-align: right;\n",
              "    }\n",
              "</style>\n",
              "<table border=\"1\" class=\"dataframe\">\n",
              "  <thead>\n",
              "    <tr style=\"text-align: right;\">\n",
              "      <th></th>\n",
              "      <th>Id</th>\n",
              "      <th>Title</th>\n",
              "      <th>Body</th>\n",
              "      <th>Tags</th>\n",
              "      <th>CreationDate</th>\n",
              "      <th>Y</th>\n",
              "    </tr>\n",
              "  </thead>\n",
              "  <tbody>\n",
              "    <tr>\n",
              "      <th>0</th>\n",
              "      <td>34552974</td>\n",
              "      <td>How to get all the child records from differen...</td>\n",
              "      <td>I am having 4 different tables like \\r\\nselect...</td>\n",
              "      <td>&lt;sql&gt;&lt;sql-server&gt;</td>\n",
              "      <td>2016-01-01 01:44:52</td>\n",
              "      <td>LQ_EDIT</td>\n",
              "    </tr>\n",
              "    <tr>\n",
              "      <th>1</th>\n",
              "      <td>34554721</td>\n",
              "      <td>Retrieve all except some data of the another t...</td>\n",
              "      <td>I have two table m_master and tbl_appointment\\...</td>\n",
              "      <td>&lt;php&gt;&lt;mysql&gt;&lt;sql&gt;&lt;codeigniter&gt;&lt;mysqli&gt;</td>\n",
              "      <td>2016-01-01 08:43:50</td>\n",
              "      <td>LQ_EDIT</td>\n",
              "    </tr>\n",
              "    <tr>\n",
              "      <th>2</th>\n",
              "      <td>34555135</td>\n",
              "      <td>Pandas: read_html</td>\n",
              "      <td>&lt;p&gt;I'm trying to extract US states from wiki U...</td>\n",
              "      <td>&lt;python&gt;&lt;pandas&gt;</td>\n",
              "      <td>2016-01-01 09:55:22</td>\n",
              "      <td>HQ</td>\n",
              "    </tr>\n",
              "    <tr>\n",
              "      <th>3</th>\n",
              "      <td>34555448</td>\n",
              "      <td>Reader Always gimme NULL</td>\n",
              "      <td>I'm so new to C#, I wanna make an application ...</td>\n",
              "      <td>&lt;sql-server&gt;&lt;c#-4.0&gt;</td>\n",
              "      <td>2016-01-01 10:43:45</td>\n",
              "      <td>LQ_EDIT</td>\n",
              "    </tr>\n",
              "    <tr>\n",
              "      <th>4</th>\n",
              "      <td>34555752</td>\n",
              "      <td>php rearrange array elements based on condition</td>\n",
              "      <td>basically i have this array:\\r\\n\\r\\n    array(...</td>\n",
              "      <td>&lt;php&gt;</td>\n",
              "      <td>2016-01-01 11:34:09</td>\n",
              "      <td>LQ_EDIT</td>\n",
              "    </tr>\n",
              "    <tr>\n",
              "      <th>...</th>\n",
              "      <td>...</td>\n",
              "      <td>...</td>\n",
              "      <td>...</td>\n",
              "      <td>...</td>\n",
              "      <td>...</td>\n",
              "      <td>...</td>\n",
              "    </tr>\n",
              "    <tr>\n",
              "      <th>1010</th>\n",
              "      <td>35745067</td>\n",
              "      <td>regex extract a text between string</td>\n",
              "      <td>&lt;p&gt;are not so expert with regex\\ni have this s...</td>\n",
              "      <td>&lt;regex&gt;&lt;vb.net&gt;</td>\n",
              "      <td>2016-03-02 10:50:27</td>\n",
              "      <td>LQ_CLOSE</td>\n",
              "    </tr>\n",
              "    <tr>\n",
              "      <th>1011</th>\n",
              "      <td>35747862</td>\n",
              "      <td>what does _doc represents in elasticsearch?</td>\n",
              "      <td>&lt;p&gt;I am still trying to figure out what does _...</td>\n",
              "      <td>&lt;elasticsearch&gt;</td>\n",
              "      <td>2016-03-02 12:56:10</td>\n",
              "      <td>HQ</td>\n",
              "    </tr>\n",
              "    <tr>\n",
              "      <th>1012</th>\n",
              "      <td>35748116</td>\n",
              "      <td>Babel ignore several directories</td>\n",
              "      <td>&lt;p&gt;I'm currently running Babel with a simple c...</td>\n",
              "      <td>&lt;javascript&gt;&lt;babeljs&gt;</td>\n",
              "      <td>2016-03-02 13:07:57</td>\n",
              "      <td>HQ</td>\n",
              "    </tr>\n",
              "    <tr>\n",
              "      <th>1013</th>\n",
              "      <td>35750407</td>\n",
              "      <td>PHP Sanitise Data</td>\n",
              "      <td>&lt;p&gt;Can't seem to sanitise php data&lt;/p&gt;\\n\\n&lt;pre...</td>\n",
              "      <td>&lt;php&gt;&lt;mysql&gt;</td>\n",
              "      <td>2016-03-02 14:44:23</td>\n",
              "      <td>LQ_CLOSE</td>\n",
              "    </tr>\n",
              "    <tr>\n",
              "      <th>1014</th>\n",
              "      <td>35750967</td>\n",
              "      <td>R: roxygen2, imported packages do not appear i...</td>\n",
              "      <td>&lt;p&gt;I have a file: import_packages.r in my proj...</td>\n",
              "      <td>&lt;r&gt;&lt;roxygen2&gt;&lt;roxygen&gt;</td>\n",
              "      <td>2016-03-02 15:08:15</td>\n",
              "      <td>HQ</td>\n",
              "    </tr>\n",
              "  </tbody>\n",
              "</table>\n",
              "<p>1015 rows × 6 columns</p>\n",
              "</div>"
            ],
            "text/plain": [
              "            Id  ...         Y\n",
              "0     34552974  ...   LQ_EDIT\n",
              "1     34554721  ...   LQ_EDIT\n",
              "2     34555135  ...        HQ\n",
              "3     34555448  ...   LQ_EDIT\n",
              "4     34555752  ...   LQ_EDIT\n",
              "...        ...  ...       ...\n",
              "1010  35745067  ...  LQ_CLOSE\n",
              "1011  35747862  ...        HQ\n",
              "1012  35748116  ...        HQ\n",
              "1013  35750407  ...  LQ_CLOSE\n",
              "1014  35750967  ...        HQ\n",
              "\n",
              "[1015 rows x 6 columns]"
            ]
          },
          "metadata": {},
          "execution_count": 35
        }
      ]
    },
    {
      "cell_type": "code",
      "source": [
        "training_data['Predict'] = training_data['Y']\n",
        "val_data['Predict'] = val_data['Y']\n",
        "\n",
        "training_data.replace({'Predict':{'LQ_EDIT':0,'HQ':1, 'LQ_CLOSE':2}}, inplace=True)\n",
        "val_data.replace({'Predict':{'LQ_EDIT':0,'HQ':1, 'LQ_CLOSE':2}}, inplace=True)\n",
        "\n",
        "training_data['Body'] = training_data['Title']+':::'+training_data['Body']\n",
        "\n",
        "training_data"
      ],
      "metadata": {
        "colab": {
          "base_uri": "https://localhost:8080/",
          "height": 424
        },
        "id": "hrrcq3Wx8I1Q",
        "outputId": "0a36e675-07ee-4da1-effd-4b436a436b68"
      },
      "execution_count": null,
      "outputs": [
        {
          "output_type": "execute_result",
          "data": {
            "text/html": [
              "<div>\n",
              "<style scoped>\n",
              "    .dataframe tbody tr th:only-of-type {\n",
              "        vertical-align: middle;\n",
              "    }\n",
              "\n",
              "    .dataframe tbody tr th {\n",
              "        vertical-align: top;\n",
              "    }\n",
              "\n",
              "    .dataframe thead th {\n",
              "        text-align: right;\n",
              "    }\n",
              "</style>\n",
              "<table border=\"1\" class=\"dataframe\">\n",
              "  <thead>\n",
              "    <tr style=\"text-align: right;\">\n",
              "      <th></th>\n",
              "      <th>Id</th>\n",
              "      <th>Title</th>\n",
              "      <th>Body</th>\n",
              "      <th>Tags</th>\n",
              "      <th>CreationDate</th>\n",
              "      <th>Y</th>\n",
              "      <th>Predict</th>\n",
              "    </tr>\n",
              "  </thead>\n",
              "  <tbody>\n",
              "    <tr>\n",
              "      <th>0</th>\n",
              "      <td>34552656</td>\n",
              "      <td>Java: Repeat Task Every Random Seconds</td>\n",
              "      <td>Java: Repeat Task Every Random Seconds:::&lt;p&gt;I'...</td>\n",
              "      <td>&lt;java&gt;&lt;repeat&gt;</td>\n",
              "      <td>2016-01-01 00:21:59</td>\n",
              "      <td>LQ_CLOSE</td>\n",
              "      <td>2</td>\n",
              "    </tr>\n",
              "    <tr>\n",
              "      <th>1</th>\n",
              "      <td>34553034</td>\n",
              "      <td>Why are Java Optionals immutable?</td>\n",
              "      <td>Why are Java Optionals immutable?:::&lt;p&gt;I'd lik...</td>\n",
              "      <td>&lt;java&gt;&lt;optional&gt;</td>\n",
              "      <td>2016-01-01 02:03:20</td>\n",
              "      <td>HQ</td>\n",
              "      <td>1</td>\n",
              "    </tr>\n",
              "    <tr>\n",
              "      <th>2</th>\n",
              "      <td>34553174</td>\n",
              "      <td>Text Overlay Image with Darkened Opacity React...</td>\n",
              "      <td>Text Overlay Image with Darkened Opacity React...</td>\n",
              "      <td>&lt;javascript&gt;&lt;image&gt;&lt;overlay&gt;&lt;react-native&gt;&lt;opa...</td>\n",
              "      <td>2016-01-01 02:48:24</td>\n",
              "      <td>HQ</td>\n",
              "      <td>1</td>\n",
              "    </tr>\n",
              "    <tr>\n",
              "      <th>3</th>\n",
              "      <td>34553318</td>\n",
              "      <td>Why ternary operator in swift is so picky?</td>\n",
              "      <td>Why ternary operator in swift is so picky?:::&lt;...</td>\n",
              "      <td>&lt;swift&gt;&lt;operators&gt;&lt;whitespace&gt;&lt;ternary-operato...</td>\n",
              "      <td>2016-01-01 03:30:17</td>\n",
              "      <td>HQ</td>\n",
              "      <td>1</td>\n",
              "    </tr>\n",
              "    <tr>\n",
              "      <th>4</th>\n",
              "      <td>34553755</td>\n",
              "      <td>hide/show fab with scale animation</td>\n",
              "      <td>hide/show fab with scale animation:::&lt;p&gt;I'm us...</td>\n",
              "      <td>&lt;android&gt;&lt;material-design&gt;&lt;floating-action-but...</td>\n",
              "      <td>2016-01-01 05:21:48</td>\n",
              "      <td>HQ</td>\n",
              "      <td>1</td>\n",
              "    </tr>\n",
              "    <tr>\n",
              "      <th>...</th>\n",
              "      <td>...</td>\n",
              "      <td>...</td>\n",
              "      <td>...</td>\n",
              "      <td>...</td>\n",
              "      <td>...</td>\n",
              "      <td>...</td>\n",
              "      <td>...</td>\n",
              "    </tr>\n",
              "    <tr>\n",
              "      <th>930</th>\n",
              "      <td>34892541</td>\n",
              "      <td>Notice \"Undifined Variable\"</td>\n",
              "      <td>Notice \"Undifined Variable\":::&lt;p&gt;I am running ...</td>\n",
              "      <td>&lt;php&gt;</td>\n",
              "      <td>2016-01-20 05:57:59</td>\n",
              "      <td>LQ_CLOSE</td>\n",
              "      <td>2</td>\n",
              "    </tr>\n",
              "    <tr>\n",
              "      <th>931</th>\n",
              "      <td>34892601</td>\n",
              "      <td>what does the weak_alias function do and where...</td>\n",
              "      <td>what does the weak_alias function do and where...</td>\n",
              "      <td>&lt;c&gt;&lt;linux&gt;&lt;gcc&gt;&lt;compiler-construction&gt;&lt;gnu&gt;</td>\n",
              "      <td>2016-01-20 06:02:20</td>\n",
              "      <td>HQ</td>\n",
              "      <td>1</td>\n",
              "    </tr>\n",
              "    <tr>\n",
              "      <th>932</th>\n",
              "      <td>34892696</td>\n",
              "      <td>how to show selected item in another activityi...</td>\n",
              "      <td>how to show selected item in another activityi...</td>\n",
              "      <td>&lt;android&gt;</td>\n",
              "      <td>2016-01-20 06:08:02</td>\n",
              "      <td>LQ_CLOSE</td>\n",
              "      <td>2</td>\n",
              "    </tr>\n",
              "    <tr>\n",
              "      <th>933</th>\n",
              "      <td>34893279</td>\n",
              "      <td>Spring Data Redis Expire Key</td>\n",
              "      <td>Spring Data Redis Expire Key:::&lt;p&gt;I have a One...</td>\n",
              "      <td>&lt;java&gt;&lt;spring&gt;&lt;hibernate&gt;&lt;redis&gt;</td>\n",
              "      <td>2016-01-20 06:49:25</td>\n",
              "      <td>HQ</td>\n",
              "      <td>1</td>\n",
              "    </tr>\n",
              "    <tr>\n",
              "      <th>934</th>\n",
              "      <td>34893623</td>\n",
              "      <td>i want to conect a microcontroller to PC and p...</td>\n",
              "      <td>i want to conect a microcontroller to PC and p...</td>\n",
              "      <td>&lt;c#&gt;&lt;microcontroller&gt;&lt;naudio&gt;</td>\n",
              "      <td>2016-01-20 07:10:04</td>\n",
              "      <td>LQ_EDIT</td>\n",
              "      <td>0</td>\n",
              "    </tr>\n",
              "  </tbody>\n",
              "</table>\n",
              "<p>935 rows × 7 columns</p>\n",
              "</div>"
            ],
            "text/plain": [
              "           Id  ... Predict\n",
              "0    34552656  ...       2\n",
              "1    34553034  ...       1\n",
              "2    34553174  ...       1\n",
              "3    34553318  ...       1\n",
              "4    34553755  ...       1\n",
              "..        ...  ...     ...\n",
              "930  34892541  ...       2\n",
              "931  34892601  ...       1\n",
              "932  34892696  ...       2\n",
              "933  34893279  ...       1\n",
              "934  34893623  ...       0\n",
              "\n",
              "[935 rows x 7 columns]"
            ]
          },
          "metadata": {},
          "execution_count": 143
        }
      ]
    },
    {
      "cell_type": "markdown",
      "source": [
        "#Створення тренувального та тестувального наборів даних + Векторизація та Ембедінг"
      ],
      "metadata": {
        "id": "tMDXQAMHJflW"
      }
    },
    {
      "cell_type": "code",
      "source": [
        "train_set = training_data[['Body','Predict']].sample(frac=1)\n",
        "val_set = val_data[['Body','Predict']].sample(frac=1)\n",
        "train_set"
      ],
      "metadata": {
        "id": "2F-5Pt0x7SCv",
        "colab": {
          "base_uri": "https://localhost:8080/",
          "height": 424
        },
        "outputId": "072f7395-3596-4834-91dc-b77566ec4acf"
      },
      "execution_count": null,
      "outputs": [
        {
          "output_type": "execute_result",
          "data": {
            "text/html": [
              "<div>\n",
              "<style scoped>\n",
              "    .dataframe tbody tr th:only-of-type {\n",
              "        vertical-align: middle;\n",
              "    }\n",
              "\n",
              "    .dataframe tbody tr th {\n",
              "        vertical-align: top;\n",
              "    }\n",
              "\n",
              "    .dataframe thead th {\n",
              "        text-align: right;\n",
              "    }\n",
              "</style>\n",
              "<table border=\"1\" class=\"dataframe\">\n",
              "  <thead>\n",
              "    <tr style=\"text-align: right;\">\n",
              "      <th></th>\n",
              "      <th>Body</th>\n",
              "      <th>Predict</th>\n",
              "    </tr>\n",
              "  </thead>\n",
              "  <tbody>\n",
              "    <tr>\n",
              "      <th>435</th>\n",
              "      <td>Adding variables to dictionary:::&lt;p&gt;I have a e...</td>\n",
              "      <td>2</td>\n",
              "    </tr>\n",
              "    <tr>\n",
              "      <th>237</th>\n",
              "      <td>IE-9 giving fakepath when using input type fil...</td>\n",
              "      <td>2</td>\n",
              "    </tr>\n",
              "    <tr>\n",
              "      <th>178</th>\n",
              "      <td>Is it possible to set a hostname in a Kubernet...</td>\n",
              "      <td>1</td>\n",
              "    </tr>\n",
              "    <tr>\n",
              "      <th>376</th>\n",
              "      <td>how to avoid java.util.zip.ZipException in and...</td>\n",
              "      <td>0</td>\n",
              "    </tr>\n",
              "    <tr>\n",
              "      <th>523</th>\n",
              "      <td>Illegal instruction (core dumped) neural netwo...</td>\n",
              "      <td>0</td>\n",
              "    </tr>\n",
              "    <tr>\n",
              "      <th>...</th>\n",
              "      <td>...</td>\n",
              "      <td>...</td>\n",
              "    </tr>\n",
              "    <tr>\n",
              "      <th>128</th>\n",
              "      <td>Why does Shake recommend disabling idle garbag...</td>\n",
              "      <td>1</td>\n",
              "    </tr>\n",
              "    <tr>\n",
              "      <th>231</th>\n",
              "      <td>Python equivalent of golang's defer statement:...</td>\n",
              "      <td>1</td>\n",
              "    </tr>\n",
              "    <tr>\n",
              "      <th>634</th>\n",
              "      <td>How to assign a variable in a Swift case state...</td>\n",
              "      <td>1</td>\n",
              "    </tr>\n",
              "    <tr>\n",
              "      <th>368</th>\n",
              "      <td>Wordpress REST API (wp-api) 404 Error:::&lt;p&gt;I h...</td>\n",
              "      <td>1</td>\n",
              "    </tr>\n",
              "    <tr>\n",
              "      <th>512</th>\n",
              "      <td>JSON formatted logging with Flask and gunicorn...</td>\n",
              "      <td>1</td>\n",
              "    </tr>\n",
              "  </tbody>\n",
              "</table>\n",
              "<p>935 rows × 2 columns</p>\n",
              "</div>"
            ],
            "text/plain": [
              "                                                  Body  Predict\n",
              "435  Adding variables to dictionary:::<p>I have a e...        2\n",
              "237  IE-9 giving fakepath when using input type fil...        2\n",
              "178  Is it possible to set a hostname in a Kubernet...        1\n",
              "376  how to avoid java.util.zip.ZipException in and...        0\n",
              "523  Illegal instruction (core dumped) neural netwo...        0\n",
              "..                                                 ...      ...\n",
              "128  Why does Shake recommend disabling idle garbag...        1\n",
              "231  Python equivalent of golang's defer statement:...        1\n",
              "634  How to assign a variable in a Swift case state...        1\n",
              "368  Wordpress REST API (wp-api) 404 Error:::<p>I h...        1\n",
              "512  JSON formatted logging with Flask and gunicorn...        1\n",
              "\n",
              "[935 rows x 2 columns]"
            ]
          },
          "metadata": {},
          "execution_count": 144
        }
      ]
    },
    {
      "cell_type": "code",
      "source": [
        "avg_length = round(sum([len(i.split()) for i in train_set['Body']])/len(train_set))\n",
        "avg_length"
      ],
      "metadata": {
        "colab": {
          "base_uri": "https://localhost:8080/"
        },
        "id": "379UXtUd_BfY",
        "outputId": "90a4db29-ffb4-4095-957c-6c82d6b5e674"
      },
      "execution_count": null,
      "outputs": [
        {
          "output_type": "execute_result",
          "data": {
            "text/plain": [
              "121"
            ]
          },
          "metadata": {},
          "execution_count": 145
        }
      ]
    },
    {
      "cell_type": "code",
      "source": [
        "max_vocab_length = 10000\n",
        "\n",
        "text_vectorizer = TextVectorization(max_tokens=max_vocab_length,\n",
        "                                    output_mode=\"int\",\n",
        "                                    output_sequence_length=avg_length)\n",
        "\n",
        "text_vectorizer.adapt(train_set['Body'])\n",
        "\n",
        "text_vectorizer(train_set['Body'])"
      ],
      "metadata": {
        "colab": {
          "base_uri": "https://localhost:8080/"
        },
        "id": "sG15R3o172m2",
        "outputId": "8be8f7ce-e01c-479a-f772-bfe873e9da82"
      },
      "execution_count": null,
      "outputs": [
        {
          "output_type": "execute_result",
          "data": {
            "text/plain": [
              "<tf.Tensor: shape=(935, 121), dtype=int64, numpy=\n",
              "array([[ 591,  547,    3, ...,    0,    0,    0],\n",
              "       [3445,  942,    1, ...,    0,    0,    0],\n",
              "       [   7,   10,  173, ...,    0,    0,    0],\n",
              "       ...,\n",
              "       [  21,    3,  963, ...,    0,    0,    0],\n",
              "       [1357,  426,  275, ..., 2642,  803,   27],\n",
              "       [ 335, 3515,  876, ...,   66,    7,  269]])>"
            ]
          },
          "metadata": {},
          "execution_count": 146
        }
      ]
    },
    {
      "cell_type": "code",
      "source": [
        "embedding = layers.Embedding(input_dim=max_vocab_length, \n",
        "                             output_dim=128, \n",
        "                             embeddings_initializer=\"uniform\",\n",
        "                             input_length=avg_length) \n",
        "\n",
        "embedding(text_vectorizer(train_set['Body']))"
      ],
      "metadata": {
        "colab": {
          "base_uri": "https://localhost:8080/"
        },
        "id": "lw3dfvm68AL0",
        "outputId": "a5031005-8fd0-4dc9-f74b-c91dc5eb5383"
      },
      "execution_count": null,
      "outputs": [
        {
          "output_type": "execute_result",
          "data": {
            "text/plain": [
              "<tf.Tensor: shape=(935, 121, 128), dtype=float32, numpy=\n",
              "array([[[-2.42964625e-02, -3.99389490e-02, -8.74741003e-03, ...,\n",
              "          3.98504771e-02,  4.12590168e-02, -2.46222615e-02],\n",
              "        [-1.21223219e-02,  3.90159599e-02,  2.33254470e-02, ...,\n",
              "          4.09330763e-02,  1.98102035e-02, -4.85712551e-02],\n",
              "        [ 3.30203772e-03,  4.17785980e-02,  3.92936543e-03, ...,\n",
              "          1.43011250e-02,  4.38874625e-02, -3.60896699e-02],\n",
              "        ...,\n",
              "        [ 3.08134072e-02,  4.02654670e-02,  4.74383272e-02, ...,\n",
              "         -3.07097081e-02, -3.94781232e-02, -4.86877225e-02],\n",
              "        [ 3.08134072e-02,  4.02654670e-02,  4.74383272e-02, ...,\n",
              "         -3.07097081e-02, -3.94781232e-02, -4.86877225e-02],\n",
              "        [ 3.08134072e-02,  4.02654670e-02,  4.74383272e-02, ...,\n",
              "         -3.07097081e-02, -3.94781232e-02, -4.86877225e-02]],\n",
              "\n",
              "       [[ 3.20196413e-02, -3.00221331e-02, -7.17378780e-03, ...,\n",
              "          1.46403164e-03,  4.10903133e-02,  1.41555928e-02],\n",
              "        [ 4.74168994e-02, -4.81607430e-02,  1.51617043e-02, ...,\n",
              "          1.86200179e-02, -1.45231970e-02,  3.37623022e-02],\n",
              "        [ 4.94449846e-02,  2.67261751e-02,  2.45489180e-04, ...,\n",
              "          9.76818800e-03, -1.89985875e-02,  6.23437017e-03],\n",
              "        ...,\n",
              "        [ 3.08134072e-02,  4.02654670e-02,  4.74383272e-02, ...,\n",
              "         -3.07097081e-02, -3.94781232e-02, -4.86877225e-02],\n",
              "        [ 3.08134072e-02,  4.02654670e-02,  4.74383272e-02, ...,\n",
              "         -3.07097081e-02, -3.94781232e-02, -4.86877225e-02],\n",
              "        [ 3.08134072e-02,  4.02654670e-02,  4.74383272e-02, ...,\n",
              "         -3.07097081e-02, -3.94781232e-02, -4.86877225e-02]],\n",
              "\n",
              "       [[-2.68364307e-02, -4.52775359e-02, -1.84088349e-02, ...,\n",
              "          1.01351961e-02,  1.29137747e-02,  3.68696563e-02],\n",
              "        [-2.47033369e-02, -2.65805852e-02, -4.68873866e-02, ...,\n",
              "          8.40868801e-03,  8.53409618e-03, -1.53572485e-03],\n",
              "        [ 4.29272167e-02, -2.00620890e-02,  1.81471221e-02, ...,\n",
              "          3.85262631e-02, -4.13652062e-02,  3.49949487e-02],\n",
              "        ...,\n",
              "        [ 3.08134072e-02,  4.02654670e-02,  4.74383272e-02, ...,\n",
              "         -3.07097081e-02, -3.94781232e-02, -4.86877225e-02],\n",
              "        [ 3.08134072e-02,  4.02654670e-02,  4.74383272e-02, ...,\n",
              "         -3.07097081e-02, -3.94781232e-02, -4.86877225e-02],\n",
              "        [ 3.08134072e-02,  4.02654670e-02,  4.74383272e-02, ...,\n",
              "         -3.07097081e-02, -3.94781232e-02, -4.86877225e-02]],\n",
              "\n",
              "       ...,\n",
              "\n",
              "       [[ 3.29968221e-02,  2.08169110e-02, -2.65797134e-02, ...,\n",
              "         -3.24058756e-02, -2.09176429e-02, -1.96497440e-02],\n",
              "        [ 3.30203772e-03,  4.17785980e-02,  3.92936543e-03, ...,\n",
              "          1.43011250e-02,  4.38874625e-02, -3.60896699e-02],\n",
              "        [ 3.53405736e-02, -1.00379474e-02, -4.49772254e-02, ...,\n",
              "         -1.94544438e-02,  6.75448030e-03,  2.67933495e-02],\n",
              "        ...,\n",
              "        [ 3.08134072e-02,  4.02654670e-02,  4.74383272e-02, ...,\n",
              "         -3.07097081e-02, -3.94781232e-02, -4.86877225e-02],\n",
              "        [ 3.08134072e-02,  4.02654670e-02,  4.74383272e-02, ...,\n",
              "         -3.07097081e-02, -3.94781232e-02, -4.86877225e-02],\n",
              "        [ 3.08134072e-02,  4.02654670e-02,  4.74383272e-02, ...,\n",
              "         -3.07097081e-02, -3.94781232e-02, -4.86877225e-02]],\n",
              "\n",
              "       [[-3.61049399e-02, -1.60539635e-02, -1.94157120e-02, ...,\n",
              "          3.11061740e-06, -2.72673499e-02, -8.17110389e-03],\n",
              "        [-4.46177647e-03,  2.17460729e-02, -3.29663530e-02, ...,\n",
              "         -3.06249857e-02,  2.50797309e-02,  7.77889416e-03],\n",
              "        [-2.80788541e-02, -4.16087396e-02, -1.99644212e-02, ...,\n",
              "          2.93368958e-02,  4.78535332e-02,  7.29431957e-03],\n",
              "        ...,\n",
              "        [ 1.69872530e-02,  1.22572109e-03,  4.22223657e-03, ...,\n",
              "         -4.07827608e-02, -3.57565172e-02,  2.29320563e-02],\n",
              "        [-4.94115353e-02,  3.48172337e-03, -1.90093368e-03, ...,\n",
              "         -2.69755851e-02, -2.64641289e-02,  2.17329301e-02],\n",
              "        [ 1.25505216e-02, -2.67168414e-02, -4.06245813e-02, ...,\n",
              "         -2.10920703e-02, -4.27129529e-02,  4.35936190e-02]],\n",
              "\n",
              "       [[ 4.07088660e-02, -4.69869375e-03, -4.41227071e-02, ...,\n",
              "          3.60293649e-02, -5.20236418e-03, -2.08238009e-02],\n",
              "        [-1.37906447e-02, -2.68610362e-02,  2.38193385e-02, ...,\n",
              "         -1.71167254e-02, -2.38296874e-02, -2.34109890e-02],\n",
              "        [-2.52528116e-03, -2.35381257e-02, -3.09620630e-02, ...,\n",
              "          2.36369856e-02, -2.33665854e-03, -2.28848699e-02],\n",
              "        ...,\n",
              "        [ 1.07474104e-02, -2.15600729e-02, -3.13653499e-02, ...,\n",
              "          3.77417244e-02,  2.10023858e-02,  2.82051302e-02],\n",
              "        [-2.68364307e-02, -4.52775359e-02, -1.84088349e-02, ...,\n",
              "          1.01351961e-02,  1.29137747e-02,  3.68696563e-02],\n",
              "        [ 2.10414566e-02,  3.44213098e-03,  3.08062546e-02, ...,\n",
              "         -1.40154585e-02,  5.77364117e-03, -4.73905802e-02]]],\n",
              "      dtype=float32)>"
            ]
          },
          "metadata": {},
          "execution_count": 147
        }
      ]
    },
    {
      "cell_type": "markdown",
      "source": [
        "#Попередню оцінка точності моделі за допомогою методу Naive Bayes."
      ],
      "metadata": {
        "id": "X6gw0lYWJ44p"
      }
    },
    {
      "cell_type": "code",
      "source": [
        "from sklearn.feature_extraction.text import TfidfVectorizer\n",
        "from sklearn.naive_bayes import MultinomialNB\n",
        "from sklearn.pipeline import Pipeline\n",
        "\n",
        "model_0 = Pipeline([(\"tfidf\", TfidfVectorizer()), (\"clf\", MultinomialNB())])\n",
        "\n",
        "model_0.fit(train_set['Body'], train_set['Predict'])"
      ],
      "metadata": {
        "colab": {
          "base_uri": "https://localhost:8080/"
        },
        "id": "wgAx0E7oA1ic",
        "outputId": "d9fd3750-aa15-457b-dc1f-8ac37720742f"
      },
      "execution_count": null,
      "outputs": [
        {
          "output_type": "execute_result",
          "data": {
            "text/plain": [
              "Pipeline(steps=[('tfidf', TfidfVectorizer()), ('clf', MultinomialNB())])"
            ]
          },
          "metadata": {},
          "execution_count": 148
        }
      ]
    },
    {
      "cell_type": "code",
      "source": [
        "baseline_score = model_0.score(val_set['Body'], val_set['Predict'])\n",
        "print(f\"Our baseline model achieves an accuracy of: {baseline_score*100:.2f}%\")"
      ],
      "metadata": {
        "colab": {
          "base_uri": "https://localhost:8080/"
        },
        "id": "k6Kf9lqxA_hr",
        "outputId": "bebefb42-aa3f-48fa-beff-672ae9805901"
      },
      "execution_count": null,
      "outputs": [
        {
          "output_type": "stream",
          "name": "stdout",
          "text": [
            "Our baseline model achieves an accuracy of: 45.12%\n"
          ]
        }
      ]
    },
    {
      "cell_type": "code",
      "source": [
        "baseline_preds = model_0.predict(val_set['Body'])\n",
        "baseline_preds"
      ],
      "metadata": {
        "colab": {
          "base_uri": "https://localhost:8080/"
        },
        "id": "sAE4G08ODWbF",
        "outputId": "37ff811e-be2e-4256-bdb8-53417d43bc7b"
      },
      "execution_count": null,
      "outputs": [
        {
          "output_type": "execute_result",
          "data": {
            "text/plain": [
              "array([1, 1, 1, ..., 1, 1, 1])"
            ]
          },
          "metadata": {},
          "execution_count": 150
        }
      ]
    },
    {
      "cell_type": "markdown",
      "source": [
        "#Вирішення задачі класифікації за допомогою методу GRU"
      ],
      "metadata": {
        "id": "bCLiiHBXKED8"
      }
    },
    {
      "cell_type": "code",
      "source": [
        "from sklearn.metrics import accuracy_score, precision_recall_fscore_support\n",
        "\n",
        "def calculate_results(y_true, y_pred):\n",
        "  \"\"\"\n",
        "  Calculates model accuracy, precision, recall and f1 score of a binary classification model.\n",
        "\n",
        "  Args:\n",
        "  -----\n",
        "  y_true = true labels in the form of a 1D array\n",
        "  y_pred = predicted labels in the form of a 1D array\n",
        "\n",
        "  Returns a dictionary of accuracy, precision, recall, f1-score.\n",
        "  \"\"\"\n",
        "  # Calculate model accuracy\n",
        "  model_accuracy = accuracy_score(y_true, y_pred) * 100\n",
        "  # Calculate model precision, recall and f1 score using \"weighted\" average\n",
        "  model_precision, model_recall, model_f1, _ = precision_recall_fscore_support(y_true, y_pred, average=\"weighted\")\n",
        "  model_results = {\"accuracy\": model_accuracy,\n",
        "                  \"precision\": model_precision,\n",
        "                  \"recall\": model_recall,\n",
        "                  \"f1\": model_f1}\n",
        "  return model_results"
      ],
      "metadata": {
        "id": "-OqxbgkkC7Km"
      },
      "execution_count": null,
      "outputs": []
    },
    {
      "cell_type": "code",
      "source": [
        "from tensorflow.keras import layers\n",
        "inputs = layers.Input(shape=(1,), dtype=\"string\")\n",
        "x = text_vectorizer(inputs)\n",
        "x = embedding(x)\n",
        "x = layers.GRU(128)(x)\n",
        "x = layers.Dense(128, activation=\"sigmoid\")(x) \n",
        "outputs = layers.Dense(3, activation=\"softmax\")(x)\n",
        "model_gru = tf.keras.Model(inputs, outputs, name=\"model_GRU\")"
      ],
      "metadata": {
        "id": "ZYG6P2IFJPLF"
      },
      "execution_count": null,
      "outputs": []
    },
    {
      "cell_type": "code",
      "source": [
        "model_gru.compile(loss=\"sparse_categorical_crossentropy\",\n",
        "                optimizer=tf.keras.optimizers.Adam(),\n",
        "                metrics=[\"accuracy\"])"
      ],
      "metadata": {
        "id": "Dd-ufOZvLkEp"
      },
      "execution_count": null,
      "outputs": []
    },
    {
      "cell_type": "code",
      "source": [
        "model_gru.summary()"
      ],
      "metadata": {
        "colab": {
          "base_uri": "https://localhost:8080/"
        },
        "id": "09RejsF9LtHl",
        "outputId": "e80458c8-09bd-406d-f67b-30eb9cbff7a6"
      },
      "execution_count": null,
      "outputs": [
        {
          "output_type": "stream",
          "name": "stdout",
          "text": [
            "Model: \"model_GRU\"\n",
            "_________________________________________________________________\n",
            " Layer (type)                Output Shape              Param #   \n",
            "=================================================================\n",
            " input_3 (InputLayer)        [(None, 1)]               0         \n",
            "                                                                 \n",
            " text_vectorization_1 (TextV  (None, 121)              0         \n",
            " ectorization)                                                   \n",
            "                                                                 \n",
            " embedding_1 (Embedding)     (None, 121, 128)          1280000   \n",
            "                                                                 \n",
            " gru_2 (GRU)                 (None, 128)               99072     \n",
            "                                                                 \n",
            " dense_4 (Dense)             (None, 128)               16512     \n",
            "                                                                 \n",
            " dense_5 (Dense)             (None, 3)                 387       \n",
            "                                                                 \n",
            "=================================================================\n",
            "Total params: 1,395,971\n",
            "Trainable params: 1,395,971\n",
            "Non-trainable params: 0\n",
            "_________________________________________________________________\n"
          ]
        }
      ]
    },
    {
      "cell_type": "code",
      "source": [
        "model_gru_history = model_gru.fit(train_set['Body'], train_set['Predict'],\n",
        "                              epochs=30,\n",
        "                              validation_data=(val_set['Body'], val_set['Predict']))"
      ],
      "metadata": {
        "colab": {
          "base_uri": "https://localhost:8080/"
        },
        "id": "tEJz1qG0L8Tp",
        "outputId": "16c6085c-6c7b-4f80-efcc-34c83bf77a1f"
      },
      "execution_count": null,
      "outputs": [
        {
          "output_type": "stream",
          "name": "stdout",
          "text": [
            "Epoch 1/30\n",
            "30/30 [==============================] - 5s 72ms/step - loss: 1.0843 - accuracy: 0.4257 - val_loss: 1.0838 - val_accuracy: 0.4227\n",
            "Epoch 2/30\n",
            "30/30 [==============================] - 2s 51ms/step - loss: 1.0689 - accuracy: 0.4492 - val_loss: 1.0801 - val_accuracy: 0.4227\n",
            "Epoch 3/30\n",
            "30/30 [==============================] - 2s 52ms/step - loss: 1.0483 - accuracy: 0.4417 - val_loss: 1.0625 - val_accuracy: 0.4049\n",
            "Epoch 4/30\n",
            "30/30 [==============================] - 2s 51ms/step - loss: 0.9833 - accuracy: 0.4460 - val_loss: 1.0910 - val_accuracy: 0.4296\n",
            "Epoch 5/30\n",
            "30/30 [==============================] - 2s 51ms/step - loss: 0.9076 - accuracy: 0.5166 - val_loss: 1.0883 - val_accuracy: 0.4236\n",
            "Epoch 6/30\n",
            "30/30 [==============================] - 2s 52ms/step - loss: 0.8458 - accuracy: 0.5519 - val_loss: 1.0909 - val_accuracy: 0.4217\n",
            "Epoch 7/30\n",
            "30/30 [==============================] - 2s 52ms/step - loss: 0.8079 - accuracy: 0.5668 - val_loss: 1.1521 - val_accuracy: 0.4099\n",
            "Epoch 8/30\n",
            "30/30 [==============================] - 2s 51ms/step - loss: 0.7753 - accuracy: 0.5765 - val_loss: 1.1408 - val_accuracy: 0.4276\n",
            "Epoch 9/30\n",
            "30/30 [==============================] - 2s 51ms/step - loss: 0.7414 - accuracy: 0.6053 - val_loss: 1.2535 - val_accuracy: 0.4591\n",
            "Epoch 10/30\n",
            "30/30 [==============================] - 2s 51ms/step - loss: 0.6763 - accuracy: 0.6385 - val_loss: 1.2743 - val_accuracy: 0.3892\n",
            "Epoch 11/30\n",
            "30/30 [==============================] - 2s 51ms/step - loss: 0.6580 - accuracy: 0.6524 - val_loss: 1.3435 - val_accuracy: 0.4532\n",
            "Epoch 12/30\n",
            "30/30 [==============================] - 2s 51ms/step - loss: 0.4821 - accuracy: 0.7743 - val_loss: 1.2046 - val_accuracy: 0.5291\n",
            "Epoch 13/30\n",
            "30/30 [==============================] - 2s 51ms/step - loss: 0.2940 - accuracy: 0.8856 - val_loss: 1.4806 - val_accuracy: 0.5271\n",
            "Epoch 14/30\n",
            "30/30 [==============================] - 2s 52ms/step - loss: 0.1684 - accuracy: 0.9465 - val_loss: 1.6077 - val_accuracy: 0.5222\n",
            "Epoch 15/30\n",
            "30/30 [==============================] - 2s 51ms/step - loss: 0.0827 - accuracy: 0.9765 - val_loss: 1.6746 - val_accuracy: 0.5744\n",
            "Epoch 16/30\n",
            "30/30 [==============================] - 2s 51ms/step - loss: 0.0412 - accuracy: 0.9882 - val_loss: 2.0746 - val_accuracy: 0.5212\n",
            "Epoch 17/30\n",
            "30/30 [==============================] - 2s 51ms/step - loss: 0.0627 - accuracy: 0.9882 - val_loss: 2.1873 - val_accuracy: 0.4887\n",
            "Epoch 18/30\n",
            "30/30 [==============================] - 2s 51ms/step - loss: 0.0496 - accuracy: 0.9872 - val_loss: 1.8790 - val_accuracy: 0.5419\n",
            "Epoch 19/30\n",
            "30/30 [==============================] - 2s 51ms/step - loss: 0.0306 - accuracy: 0.9936 - val_loss: 1.9121 - val_accuracy: 0.5635\n",
            "Epoch 20/30\n",
            "30/30 [==============================] - 2s 51ms/step - loss: 0.0451 - accuracy: 0.9904 - val_loss: 1.8310 - val_accuracy: 0.5833\n",
            "Epoch 21/30\n",
            "30/30 [==============================] - 2s 51ms/step - loss: 0.0292 - accuracy: 0.9925 - val_loss: 1.9035 - val_accuracy: 0.5527\n",
            "Epoch 22/30\n",
            "30/30 [==============================] - 2s 52ms/step - loss: 0.0230 - accuracy: 0.9957 - val_loss: 1.8927 - val_accuracy: 0.5537\n",
            "Epoch 23/30\n",
            "30/30 [==============================] - 2s 51ms/step - loss: 0.0175 - accuracy: 0.9968 - val_loss: 1.9629 - val_accuracy: 0.5379\n",
            "Epoch 24/30\n",
            "30/30 [==============================] - 2s 52ms/step - loss: 0.0126 - accuracy: 0.9979 - val_loss: 2.0492 - val_accuracy: 0.5655\n",
            "Epoch 25/30\n",
            "30/30 [==============================] - 2s 51ms/step - loss: 0.0095 - accuracy: 0.9989 - val_loss: 2.1815 - val_accuracy: 0.5369\n",
            "Epoch 26/30\n",
            "30/30 [==============================] - 2s 52ms/step - loss: 0.0096 - accuracy: 0.9989 - val_loss: 2.2196 - val_accuracy: 0.5606\n",
            "Epoch 27/30\n",
            "30/30 [==============================] - 2s 51ms/step - loss: 0.0086 - accuracy: 0.9989 - val_loss: 2.3114 - val_accuracy: 0.5635\n",
            "Epoch 28/30\n",
            "30/30 [==============================] - 2s 52ms/step - loss: 0.0086 - accuracy: 0.9989 - val_loss: 2.3002 - val_accuracy: 0.5685\n",
            "Epoch 29/30\n",
            "30/30 [==============================] - 2s 52ms/step - loss: 0.0094 - accuracy: 0.9989 - val_loss: 2.3319 - val_accuracy: 0.5369\n",
            "Epoch 30/30\n",
            "30/30 [==============================] - 1s 50ms/step - loss: 0.0098 - accuracy: 0.9979 - val_loss: 2.3626 - val_accuracy: 0.5310\n"
          ]
        }
      ]
    },
    {
      "cell_type": "code",
      "source": [
        "model_gru_pred_probs = model_gru.predict(val_set['Body'])"
      ],
      "metadata": {
        "id": "lWlKaVtBMQx-"
      },
      "execution_count": null,
      "outputs": []
    },
    {
      "cell_type": "code",
      "source": [
        "model_gru_preds = tf.squeeze(tf.argmax(model_gru_pred_probs, axis = 1))\n",
        "model_gru_preds"
      ],
      "metadata": {
        "colab": {
          "base_uri": "https://localhost:8080/"
        },
        "id": "qTynEMAbMv5S",
        "outputId": "36799322-3feb-46f6-f10c-08ac8939a781"
      },
      "execution_count": null,
      "outputs": [
        {
          "output_type": "execute_result",
          "data": {
            "text/plain": [
              "<tf.Tensor: shape=(1015,), dtype=int64, numpy=array([0, 1, 2, ..., 2, 2, 2])>"
            ]
          },
          "metadata": {},
          "execution_count": 157
        }
      ]
    },
    {
      "cell_type": "markdown",
      "source": [
        "#Графічне відображення тренування моделі."
      ],
      "metadata": {
        "id": "KVheflfXKZtJ"
      }
    },
    {
      "cell_type": "code",
      "source": [
        "from matplotlib import pyplot as plt\n",
        "\n",
        "def plot_history(history): \n",
        "    plt.plot(history.history['accuracy'])\n",
        "    plt.plot(history.history['val_accuracy'])\n",
        "    plt.title('model accuracy')\n",
        "    plt.ylabel('accuracy')\n",
        "    plt.xlabel('epoch')\n",
        "    plt.legend(['train', 'test'], loc='upper left')\n",
        "    plt.show()\n",
        "    plt.plot(history.history['loss'])\n",
        "    plt.plot(history.history['val_loss'])\n",
        "    plt.title('model loss')\n",
        "    plt.ylabel('loss')\n",
        "    plt.xlabel('epoch')\n",
        "    plt.legend(['train', 'test'], loc='upper left')\n",
        "    plt.show()"
      ],
      "metadata": {
        "id": "kuUvEMAXKjsf"
      },
      "execution_count": null,
      "outputs": []
    },
    {
      "cell_type": "code",
      "source": [
        "plot_history(model_gru_history)"
      ],
      "metadata": {
        "colab": {
          "base_uri": "https://localhost:8080/",
          "height": 573
        },
        "id": "ICO2wcH8Nu7U",
        "outputId": "68dd834c-1cbb-424c-fb52-1dfbe380131a"
      },
      "execution_count": null,
      "outputs": [
        {
          "output_type": "display_data",
          "data": {
            "image/png": "[encoded data removed]",
            "text/plain": [
              "<Figure size 432x288 with 1 Axes>"
            ]
          },
          "metadata": {
            "needs_background": "light"
          }
        },
        {
          "output_type": "display_data",
          "data": {
            "image/png": "[encoded data removed]",
            "text/plain": [
              "<Figure size 432x288 with 1 Axes>"
            ]
          },
          "metadata": {
            "needs_background": "light"
          }
        }
      ]
    },
    {
      "cell_type": "markdown",
      "source": [
        "#Порівняння результатів моделей"
      ],
      "metadata": {
        "id": "ZPVaXNQdKdA7"
      }
    },
    {
      "cell_type": "code",
      "source": [
        "def compare_base_model_to_new_model(baseline_results, new_model_results):\n",
        "  for key, value in baseline_results.items():\n",
        "    print(f\"Base model {key.upper()}: {value:.2f}, New model {key.upper()}: {new_model_results[key]:.2f}, Relative Improvement: {(new_model_results[key]/value-1)*100:.1f}%\")"
      ],
      "metadata": {
        "id": "YmUlDomeKndE"
      },
      "execution_count": null,
      "outputs": []
    },
    {
      "cell_type": "code",
      "source": [
        "baseline_results = calculate_results(y_true=val_set['Predict'],\n",
        "                                     y_pred=baseline_preds)\n",
        "baseline_results"
      ],
      "metadata": {
        "colab": {
          "base_uri": "https://localhost:8080/"
        },
        "id": "AmT1WUI5BDYG",
        "outputId": "ab4b11e7-1d9f-458c-b95a-23bcea64f239"
      },
      "execution_count": null,
      "outputs": [
        {
          "output_type": "execute_result",
          "data": {
            "text/plain": [
              "{'accuracy': 45.1231527093596,\n",
              " 'f1': 0.31185835653601773,\n",
              " 'precision': 0.622423645320197,\n",
              " 'recall': 0.45123152709359604}"
            ]
          },
          "metadata": {},
          "execution_count": 161
        }
      ]
    },
    {
      "cell_type": "code",
      "source": [
        "model_gru_results = calculate_results(y_true=val_set['Predict'],\n",
        "                                    y_pred=model_gru_preds)\n",
        "model_gru_results"
      ],
      "metadata": {
        "colab": {
          "base_uri": "https://localhost:8080/"
        },
        "id": "oCbPw0JBMQrz",
        "outputId": "d4c59d10-6f71-4bd3-bef6-ef01431afc7c"
      },
      "execution_count": null,
      "outputs": [
        {
          "output_type": "execute_result",
          "data": {
            "text/plain": [
              "{'accuracy': 53.103448275862064,\n",
              " 'f1': 0.5316299143280292,\n",
              " 'precision': 0.6051629562332932,\n",
              " 'recall': 0.5310344827586206}"
            ]
          },
          "metadata": {},
          "execution_count": 162
        }
      ]
    },
    {
      "cell_type": "code",
      "source": [
        "compare_base_model_to_new_model(baseline_results, model_gru_results)"
      ],
      "metadata": {
        "colab": {
          "base_uri": "https://localhost:8080/"
        },
        "id": "oCLJz1zBOd63",
        "outputId": "27f46b06-ada3-4a5b-9a3c-1bf96630ad27"
      },
      "execution_count": null,
      "outputs": [
        {
          "output_type": "stream",
          "name": "stdout",
          "text": [
            "Base model ACCURACY: 45.12, New model ACCURACY: 53.10, Relative Improvement: 17.7%\n",
            "Base model PRECISION: 0.62, New model PRECISION: 0.61, Relative Improvement: -2.8%\n",
            "Base model RECALL: 0.45, New model RECALL: 0.53, Relative Improvement: 17.7%\n",
            "Base model F1: 0.31, New model F1: 0.53, Relative Improvement: 70.5%\n"
          ]
        }
      ]
    }
  ]
}